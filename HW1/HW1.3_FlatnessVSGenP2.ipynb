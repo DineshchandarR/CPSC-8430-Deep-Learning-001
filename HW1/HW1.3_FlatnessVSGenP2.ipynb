{
 "cells": [
  {
   "cell_type": "code",
   "execution_count": 91,
   "metadata": {},
   "outputs": [],
   "source": [
    "import torch\n",
    "import torch.nn as nn\n",
    "import torch.nn.functional as F\n",
    "import torchvision\n",
    "import torchvision.transforms as transforms\n",
    "import matplotlib.pyplot as plt\n",
    "import numpy as np\n",
    "from torch.nn.utils import parameters_to_vector, vector_to_parameters\n",
    "from torch.autograd import Variable"
   ]
  },
  {
   "cell_type": "code",
   "execution_count": 92,
   "metadata": {},
   "outputs": [
    {
     "data": {
      "text/plain": [
       "<torch._C.Generator at 0x2c78eb388b0>"
      ]
     },
     "execution_count": 92,
     "metadata": {},
     "output_type": "execute_result"
    }
   ],
   "source": [
    "torch.manual_seed(1)"
   ]
  },
  {
   "cell_type": "code",
   "execution_count": 93,
   "metadata": {},
   "outputs": [
    {
     "name": "stdout",
     "output_type": "stream",
     "text": [
      "train_dataset size: 60000 \n",
      "test_dataset size: 10000\n"
     ]
    }
   ],
   "source": [
    "# MNIST dataset \n",
    "train_dataset = torchvision.datasets.MNIST(root='./data', \n",
    "                                           train=True, \n",
    "                                           transform=transforms.ToTensor(),  \n",
    "                                           download=False)\n",
    "\n",
    "test_dataset = torchvision.datasets.MNIST(root='./data', \n",
    "                                          train=False, \n",
    "                                          transform=transforms.ToTensor())\n",
    "\n",
    "print(\"train_dataset size:\", len(train_dataset),\"\\ntest_dataset size:\", len(test_dataset))"
   ]
  },
  {
   "cell_type": "code",
   "execution_count": 94,
   "metadata": {},
   "outputs": [],
   "source": [
    "# Data loader func\n",
    "def train_loader(batch_size):\n",
    "    train_loader = torch.utils.data.DataLoader(dataset=train_dataset, \n",
    "                                           batch_size = batch_size, \n",
    "                                           shuffle=True)\n",
    "    return train_loader\n",
    "\n",
    "\n",
    "def test_loader(batch_size):\n",
    "    test_loader = torch.utils.data.DataLoader(dataset=test_dataset, \n",
    "                                          batch_size=batch_size, \n",
    "                                          shuffle=False)\n",
    "    return test_loader"
   ]
  },
  {
   "cell_type": "code",
   "execution_count": 95,
   "metadata": {},
   "outputs": [],
   "source": [
    "class Model(nn.Module):\n",
    "    def __init__(self,):\n",
    "        super(Model, self).__init__()\n",
    "        self.conv1 = nn.Conv2d(1, 6, 5)\n",
    "        self.conv2 = nn.Conv2d(6, 16, 5)\n",
    "        self.fc1 = nn.Linear(256, 120)\n",
    "        self.fc3 = nn.Linear(120, 10)\n",
    "\n",
    "    def forward(self, x):\n",
    "        x = F.max_pool2d(F.relu(self.conv1(x)), 2)\n",
    "        x = F.max_pool2d(F.relu(self.conv2(x)), 2)\n",
    "        # flatten as one dimension\n",
    "        x = x.view(x.size()[0], -1)\n",
    "        x = F.relu(self.fc1(x))\n",
    "\n",
    "        x = self.fc3(x)\n",
    "        return x"
   ]
  },
  {
   "cell_type": "code",
   "execution_count": 96,
   "metadata": {},
   "outputs": [],
   "source": [
    "#train function\n",
    "def trainFunc(model,num_epochs,train_batch_size):\n",
    "    model.train()\n",
    "    print('strated')\n",
    "    train_load = train_loader(train_batch_size)\n",
    "    n_total_steps = len(train_load)\n",
    "    train_losses = []\n",
    "    train_epoch = []\n",
    "    train_acc = []\n",
    "    not_converged =True\n",
    "    epoch = 0\n",
    "    sensitivity=[]\n",
    "    while not_converged:\n",
    "        epoch += 1\n",
    "        n_correct = 0\n",
    "        n_samples = 0\n",
    "        lossSum =0\n",
    "        for i, (images, labels) in enumerate(train_load):  \n",
    "            #if (i+1)% 60 == 0 : print(i+1)\n",
    "            images, labels = Variable(images),Variable(labels)\n",
    "            \n",
    "            optimizer.zero_grad()\n",
    "            \n",
    "            # Forward pass\n",
    "            prediction = model(images)\n",
    "\n",
    "            images.requires_grad = True\n",
    "\n",
    "            loss = loss_func(prediction, labels)\n",
    "            lossSum += loss\n",
    "\n",
    "            # Backward and optimize\n",
    "            loss.backward()\n",
    "            optimizer.step()\n",
    "\n",
    "            #Calculation for sensitivity\n",
    "            froGrad=0\n",
    "            count =0 \n",
    "            \n",
    "        \n",
    "            for p in model.parameters():\n",
    "                grad = 0.0\n",
    "                if p.grad is not None:\n",
    "                    grad = p.grad\n",
    "                    froGrad_norm = torch.linalg.norm(grad).numpy()\n",
    "                    froGrad += froGrad_norm\n",
    "                    count += 1\n",
    "            \n",
    "            sensitivity.append(froGrad/count)\n",
    "\n",
    "            \n",
    "            #loss.backward()\n",
    "            \n",
    "            #optimizer.step()\n",
    "\n",
    "            _, predicted = torch.max(prediction.data, 1)\n",
    "            n_samples += labels.size(0)\n",
    "            n_correct += (predicted == labels).sum().item()\n",
    "            acc = 100.0 * n_correct / n_samples\n",
    "\n",
    "            train_losses.append(loss.item())\n",
    "            train_acc.append(acc)\n",
    "            train_epoch.append(epoch)\n",
    "        \n",
    "\n",
    "            if (i+1) % 10 == 0:\n",
    "                print (f'Train O/P: Epoch [{epoch}/{num_epochs}], Step [{i+1}/{n_total_steps}], Loss: {loss.item():.4f}',end= '\\r',flush = True)\n",
    "                if epoch == num_epochs:\n",
    "                        print(\"Max Epoch Reached\")\n",
    "                        not_converged = False\n",
    "                elif (epoch > 5) and  (train_losses[-1] < 0.001):\n",
    "                    if abs(train_losses[-3] - train_losses[-2]) < 1.0e-05 and abs(train_losses[-2] - train_losses[-1]) < 1.0e-05:\n",
    "                        print(\"Convergeance reached for loss:\",train_losses[-1])\n",
    "                        not_converged = False\n",
    "                        \n",
    "    trainAvgLoss = lossSum/train_batch_size\n",
    "    print(\"Train Avg loss:\",trainAvgLoss)\n",
    "                        \n",
    "    return train_epoch,train_losses,train_acc,sensitivity,trainAvgLoss"
   ]
  },
  {
   "cell_type": "code",
   "execution_count": 97,
   "metadata": {},
   "outputs": [],
   "source": [
    "import copy"
   ]
  },
  {
   "cell_type": "code",
   "execution_count": 98,
   "metadata": {},
   "outputs": [
    {
     "name": "stdout",
     "output_type": "stream",
     "text": [
      "[  10.  385.  760. 1135. 1510.]\n"
     ]
    }
   ],
   "source": [
    "batchArr = np.linspace (10,1510,5)\n",
    "print(batchArr)"
   ]
  },
  {
   "cell_type": "code",
   "execution_count": 99,
   "metadata": {},
   "outputs": [],
   "source": [
    "def testFunction(model,loss_func,test_batch_size): \n",
    "    test_load = test_loader(test_batch_size)\n",
    "    model.eval()\n",
    "    with torch.no_grad():\n",
    "        n_correct = 0\n",
    "        n_samples = 0\n",
    "        testLoss = 0\n",
    "        count = 0\n",
    "        for images, labels in test_load:\n",
    "            images, labels = Variable(images),Variable(labels)\n",
    "            \n",
    "            prediction = model(images)\n",
    "            testLoss += loss_func(prediction,labels).item()\n",
    "            # max returns (value ,index)\n",
    "            _, predicted = torch.max(prediction.data, 1)\n",
    "            n_samples += labels.size(0)\n",
    "            n_correct += (predicted == labels).sum().item()\n",
    "            count += 1\n",
    "    netTest_loss = testLoss/count\n",
    "    netTest_acc1 = 100.0 * n_correct / n_samples\n",
    "    print(f'Accuracy of the network on the test images: {netTest_acc1}% & Test Loss: {netTest_loss} ',end= '\\r',flush = True)\n",
    "    return netTest_acc1, netTest_loss"
   ]
  },
  {
   "cell_type": "code",
   "execution_count": 101,
   "metadata": {},
   "outputs": [
    {
     "name": "stdout",
     "output_type": "stream",
     "text": [
      "Total no of parameters in Model :34622 for with batch size:10\n",
      "strated\n",
      "Convergeance reached for loss: 1.7904025298776105e-05000\n",
      "Train Avg loss: tensor(12.0874, grad_fn=<DivBackward0>)9\n",
      "Total no of parameters in Model :34622 for with batch size:385 0.04366199705991789 \n",
      "strated\n",
      "Max Epoch Reached[15/15], Step [10/156], Loss: 0.04003\n",
      "Max Epoch Reached[15/15], Step [20/156], Loss: 0.0205\n",
      "Max Epoch Reached[15/15], Step [30/156], Loss: 0.0436\n",
      "Max Epoch Reached[15/15], Step [40/156], Loss: 0.0367\n",
      "Max Epoch Reached[15/15], Step [50/156], Loss: 0.0146\n",
      "Max Epoch Reached[15/15], Step [60/156], Loss: 0.0381\n",
      "Max Epoch Reached[15/15], Step [70/156], Loss: 0.0339\n",
      "Max Epoch Reached[15/15], Step [80/156], Loss: 0.0182\n",
      "Max Epoch Reached[15/15], Step [90/156], Loss: 0.0396\n",
      "Max Epoch Reached[15/15], Step [100/156], Loss: 0.0194\n",
      "Max Epoch Reached[15/15], Step [110/156], Loss: 0.0112\n",
      "Max Epoch Reached[15/15], Step [120/156], Loss: 0.0228\n",
      "Max Epoch Reached[15/15], Step [130/156], Loss: 0.0785\n",
      "Max Epoch Reached[15/15], Step [140/156], Loss: 0.0580\n",
      "Max Epoch Reached[15/15], Step [150/156], Loss: 0.0811\n",
      "Train Avg loss: tensor(0.0134, grad_fn=<DivBackward0>)\n",
      "Total no of parameters in Model :34622 for with batch size:760: 0.03925696258039142 \n",
      "strated\n",
      "Max Epoch Reached[15/15], Step [10/79], Loss: 0.0436\n",
      "Max Epoch Reached[15/15], Step [20/79], Loss: 0.0385\n",
      "Max Epoch Reached[15/15], Step [30/79], Loss: 0.0455\n",
      "Max Epoch Reached[15/15], Step [40/79], Loss: 0.0382\n",
      "Max Epoch Reached[15/15], Step [50/79], Loss: 0.0682\n",
      "Max Epoch Reached[15/15], Step [60/79], Loss: 0.0452\n",
      "Max Epoch Reached[15/15], Step [70/79], Loss: 0.0385\n",
      "Train Avg loss: tensor(0.0050, grad_fn=<DivBackward0>)\n",
      "Total no of parameters in Model :34622 for with batch size:1135 0.04283816061381783 \n",
      "strated\n",
      "Max Epoch Reached[15/15], Step [10/53], Loss: 0.0475\n",
      "Max Epoch Reached[15/15], Step [20/53], Loss: 0.0608\n",
      "Max Epoch Reached[15/15], Step [30/53], Loss: 0.0613\n",
      "Max Epoch Reached[15/15], Step [40/53], Loss: 0.0624\n",
      "Max Epoch Reached[15/15], Step [50/53], Loss: 0.0747\n",
      "Train Avg loss: tensor(0.0027, grad_fn=<DivBackward0>)\n",
      "Total no of parameters in Model :34622 for with batch size:1510 0.05185653083026409 \n",
      "strated\n",
      "Max Epoch Reached[15/15], Step [10/40], Loss: 0.0499\n",
      "Max Epoch Reached[15/15], Step [20/40], Loss: 0.0768\n",
      "Max Epoch Reached[15/15], Step [30/40], Loss: 0.0706\n",
      "Max Epoch Reached[15/15], Step [40/40], Loss: 0.0804\n",
      "Train Avg loss: tensor(0.0018, grad_fn=<DivBackward0>)\n",
      "Accuracy of the network on the test images: 98.1% & Test Loss: 0.060364043073994775 \r"
     ]
    }
   ],
   "source": [
    "modelsTrainEpochArr = []\n",
    "modelsTrainLossArr = []\n",
    "modelsTrainAccArr = []\n",
    "modelsTestLossArr = []\n",
    "modelsTestAccArr = []\n",
    "modelsSensitivityArr=[]\n",
    "\n",
    "for i in range (len(batchArr)):\n",
    "    torch.manual_seed(1)\n",
    "    \n",
    "    j=copy.deepcopy(i) \n",
    "    j = Model()\n",
    "    loss_func = nn.CrossEntropyLoss()\n",
    "    #optimizer = torch.optim.SGD(j.parameters(), lr=0.0004, momentum= 0.5)\n",
    "    optimizer = torch.optim.Adam(j.parameters(), lr=1e-3, weight_decay= 1e-4)\n",
    "\n",
    "\n",
    "    max_epochs = 15\n",
    "    train_batch_size = int(batchArr[i])\n",
    "\n",
    "    a=[]\n",
    "    for k in j.parameters():\n",
    "        a.append(torch.numel(k))\n",
    "    print(f'Total no of parameters in Model :{np.sum(a)} for with batch size:{train_batch_size}')\n",
    "\n",
    "    train_epoch,train_losses,train_acc,sensitivity,tvgLoss = trainFunc(j,max_epochs,train_batch_size)\n",
    "\n",
    "    test_batch_size = int(batchArr[i])\n",
    "\n",
    "    testAcc, testLoss = testFunction(j,loss_func,test_batch_size)\n",
    "\n",
    "    #sensitivity = sensitivityFunc(j)\n",
    "    \n",
    "    modelsTrainEpochArr.append(train_epoch)\n",
    "    modelsTrainLossArr.append(train_losses)\n",
    "    modelsTrainAccArr.append(train_acc)\n",
    "    modelsTestAccArr.append(testAcc)\n",
    "    modelsTestLossArr.append(testLoss)\n",
    "    modelsSensitivityArr.append(sensitivity)"
   ]
  },
  {
   "cell_type": "code",
   "execution_count": 104,
   "metadata": {},
   "outputs": [],
   "source": [
    "def meanScore(dataArr):\n",
    "    meanModelData = []\n",
    "    for i in range (len(dataArr)):\n",
    "        meanScore = np.mean(dataArr[i])\n",
    "        meanModelData.append(meanScore)\n",
    "    return meanModelData\n",
    "\n",
    "def minScore(dataArr):\n",
    "    minModelScore = []\n",
    "    for i in range (len(dataArr)):\n",
    "        minScore = np.mean(dataArr[i])\n",
    "        minModelScore.append(minScore)\n",
    "    return minModelScore\n",
    "\n",
    "def maxScore(dataArr):\n",
    "    maxModelScore = []\n",
    "    for i in range (len(dataArr)):\n",
    "        maxScore = np.max(dataArr[i])\n",
    "        maxModelScore.append(maxScore)\n",
    "    return maxModelScore\n"
   ]
  },
  {
   "cell_type": "code",
   "execution_count": 107,
   "metadata": {},
   "outputs": [
    {
     "data": {
      "image/png": "[encoded data removed]",
      "text/plain": [
       "<Figure size 432x288 with 2 Axes>"
      ]
     },
     "metadata": {
      "needs_background": "light"
     },
     "output_type": "display_data"
    }
   ],
   "source": [
    "fig,ax=plt.subplots()\n",
    "ax.plot(batchArr,minScore(modelsTrainLossArr),color=\"Blue\", marker=\"o\",linestyle='dashed')\n",
    "ax.plot(batchArr,modelsTestLossArr,color=\"Blue\", marker=\"v\")\n",
    "ax.legend(['Train Loss','Test Loss'],loc=\"upper right\")\n",
    "ax.set_xlabel(\"Batch\",color=\"Green\")\n",
    "#ax.set_xscale('log')\n",
    "ax.set_ylabel(\"CrossEntropy Loss\",color = \"blue\")\n",
    "ax.set_title(\"Loss,Sensitivity Vs Batch Size\",color=\"g\")\n",
    "\n",
    "ax2=ax.twinx()\n",
    "ax2.plot(batchArr,minScore(modelsSensitivityArr),color=\"red\")\n",
    "ax2.set_xlabel(\"Batch\",color=\"Green\")\n",
    "ax2.set_ylabel(\"Sensitivity\",color = \"red\")\n",
    "ax2.legend(['Sensitivity'],loc=\"center left\")\n",
    "\n",
    "plt.show()\n",
    "fig.savefig('D:/Clemson/COURSE/SEM-2/CPSC-8430 Deep Learning - 001/Homework/CPSC-8430-Deep-Learning-001/HW1/plots/Diff Batch Graph HW1_3.2Loss.jpg',\n",
    "            format='jpeg',\n",
    "            dpi=100,\n",
    "            bbox_inches='tight')"
   ]
  },
  {
   "cell_type": "code",
   "execution_count": 109,
   "metadata": {},
   "outputs": [
    {
     "data": {
      "image/png": "[encoded data removed]",
      "text/plain": [
       "<Figure size 432x288 with 2 Axes>"
      ]
     },
     "metadata": {
      "needs_background": "light"
     },
     "output_type": "display_data"
    }
   ],
   "source": [
    "fig,ax=plt.subplots()\n",
    "ax.plot(batchArr,minScore(modelsTrainAccArr),color=\"Blue\", marker=\"o\",linestyle='dashed')\n",
    "ax.plot(batchArr,modelsTestAccArr,color=\"Blue\", marker=\"v\")\n",
    "ax.legend(['Train Acc','Test Acc'],loc=\"upper right\")\n",
    "ax.set_xlabel(\"Batch\",color=\"Green\")\n",
    "#ax.set_xscale('log')\n",
    "ax.set_ylabel(\"Accuracy\",color = \"blue\")\n",
    "ax.set_title(\"Accuracy,Sensitivity Vs Batch Size\",color=\"g\")\n",
    "\n",
    "ax2=ax.twinx()\n",
    "ax2.plot(batchArr,minScore(modelsSensitivityArr),color=\"red\")\n",
    "ax2.set_xlabel(\"Batch\",color=\"Green\")\n",
    "ax2.set_ylabel(\"Sensitivity\",color = \"red\")\n",
    "ax2.legend(['Sensitivity'],loc=\"center left\")\n",
    "\n",
    "plt.show()\n",
    "fig.savefig('D:/Clemson/COURSE/SEM-2/CPSC-8430 Deep Learning - 001/Homework/CPSC-8430-Deep-Learning-001/HW1/plots/Diff Batch Graph HW1_3.2Acc.jpg',\n",
    "            format='jpeg',\n",
    "            dpi=100,\n",
    "            bbox_inches='tight')"
   ]
  },
  {
   "cell_type": "code",
   "execution_count": null,
   "metadata": {},
   "outputs": [],
   "source": []
  }
 ],
 "metadata": {
  "interpreter": {
   "hash": "d1d86b2f3ed665d691ce24c615a98bbc398f66743afc4d4e970e6f8b36fab2b9"
  },
  "kernelspec": {
   "display_name": "Python 3.9.7 ('CPSC-8430-DeepLearning')",
   "language": "python",
   "name": "python3"
  },
  "language_info": {
   "codemirror_mode": {
    "name": "ipython",
    "version": 3
   },
   "file_extension": ".py",
   "mimetype": "text/x-python",
   "name": "python",
   "nbconvert_exporter": "python",
   "pygments_lexer": "ipython3",
   "version": "3.9.7"
  },
  "orig_nbformat": 4
 },
 "nbformat": 4,
 "nbformat_minor": 2
}
