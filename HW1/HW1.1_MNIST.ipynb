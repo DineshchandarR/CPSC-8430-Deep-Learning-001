{
 "cells": [
  {
   "cell_type": "code",
   "execution_count": 12,
   "id": "eb7606a1-8326-4f14-8a0b-b56b85ca2f7d",
   "metadata": {},
   "outputs": [],
   "source": [
    "import torch\n",
    "import torch.nn as nn\n",
    "import torch.nn.functional as F\n",
    "import torchvision\n",
    "import torchvision.transforms as transforms\n",
    "import matplotlib.pyplot as plt\n",
    "import numpy as np"
   ]
  },
  {
   "cell_type": "code",
   "execution_count": 13,
   "id": "4497617b-aa3e-45bf-9225-0908be3cc4ce",
   "metadata": {},
   "outputs": [
    {
     "name": "stdout",
     "output_type": "stream",
     "text": [
      "train_dataset size: 60000 \n",
      "test_dataset size: 10000\n"
     ]
    }
   ],
   "source": [
    "# MNIST dataset \n",
    "train_dataset = torchvision.datasets.MNIST(root='./data', \n",
    "                                           train=True, \n",
    "                                           transform=transforms.ToTensor(),  \n",
    "                                           download=True)\n",
    "\n",
    "test_dataset = torchvision.datasets.MNIST(root='./data', \n",
    "                                          train=False, \n",
    "                                          transform=transforms.ToTensor())\n",
    "\n",
    "print(\"train_dataset size:\", len(train_dataset),\"\\ntest_dataset size:\", len(test_dataset))"
   ]
  },
  {
   "cell_type": "code",
   "execution_count": 14,
   "id": "3400b297-54ca-4c74-af20-026999f84a73",
   "metadata": {},
   "outputs": [],
   "source": [
    "# Data loader\n",
    "train_loader = torch.utils.data.DataLoader(dataset=train_dataset, \n",
    "                                           batch_size=600, \n",
    "                                           shuffle=True)\n",
    "\n",
    "test_loader = torch.utils.data.DataLoader(dataset=test_dataset, \n",
    "                                          batch_size=100, \n",
    "                                          shuffle=False)"
   ]
  },
  {
   "cell_type": "code",
   "execution_count": 15,
   "id": "bef45032-4873-469d-8fed-c88b8095b1b6",
   "metadata": {},
   "outputs": [
    {
     "data": {
      "image/png": "[encoded data removed]",
      "text/plain": [
       "<Figure size 432x288 with 6 Axes>"
      ]
     },
     "metadata": {},
     "output_type": "display_data"
    }
   ],
   "source": [
    "examples = iter(test_loader)\n",
    "example_data, example_targets = examples.next()\n",
    "\n",
    "for i in range(6):\n",
    "    plt.subplot(2,3,i+1)\n",
    "    plt.imshow(example_data[i][0], cmap='gray')\n",
    "    plt.title(\"Actual Val: {}\".format(example_targets[i]),color='white')\n",
    "    plt.xticks([])\n",
    "    plt.yticks([])\n",
    "plt.show()"
   ]
  },
  {
   "cell_type": "code",
   "execution_count": 16,
   "id": "762ab56d-6dbb-40cd-97b6-91a5c8eae46e",
   "metadata": {},
   "outputs": [],
   "source": [
    "# Hyper-parameters \n",
    "input_size = 784 # 28x28\n",
    "num_epochs = 10\n",
    "learning_rate = 0.001\n",
    "kernel_size = 4"
   ]
  },
  {
   "cell_type": "code",
   "execution_count": 17,
   "id": "47473b54-b57c-4650-a6fa-57af14833660",
   "metadata": {},
   "outputs": [],
   "source": [
    "class CNN(nn.Module):\n",
    "    def __init__(self,):\n",
    "        super(CNN, self).__init__()\n",
    "        self.conv1 = nn.Conv2d(1, 10, kernel_size) #1st Convolution\n",
    "        self.pool = nn.MaxPool2d(2, 2)   #pool_size=2, strides=2 \n",
    "        self.conv2 = nn.Conv2d(10, 20, kernel_size) #2nd Convolution\n",
    "        self.fc1 = nn.Linear(320, 50) #((I/P - Filter + 2*Pad)/Stride)+1 \n",
    "        self.fc2 = nn.Linear(50, 100)\n",
    "        self.fc3 = nn.Linear(100, 10)\n",
    "\n",
    "    def forward(self, x):\n",
    "        # -> n, 3, 32, 32\n",
    "        x = self.pool(F.relu(self.conv1(x)))  \n",
    "        x = self.pool(F.relu(self.conv2(x)))  \n",
    "        x = x.view(-1, 320)            #Flattening \n",
    "        x = F.relu(self.fc1(x))        #Fully Connected NN       \n",
    "        x = F.relu(self.fc2(x))        #Fully Connected NN           \n",
    "        x = self.fc3(x)                #O/P Layer       \n",
    "        return x"
   ]
  },
  {
   "cell_type": "code",
   "execution_count": 18,
   "id": "45a1720a-be73-4af6-9f12-7c84e0b48c33",
   "metadata": {},
   "outputs": [],
   "source": [
    "cnn = CNN()\n",
    "loss_func = nn.CrossEntropyLoss()\n",
    "optimizer = torch.optim.Adam(cnn.parameters(), lr=learning_rate)"
   ]
  },
  {
   "cell_type": "code",
   "execution_count": 19,
   "id": "bbeb313e-f7e2-4ed3-b059-190a1d63819f",
   "metadata": {},
   "outputs": [
    {
     "name": "stdout",
     "output_type": "stream",
     "text": [
      "Epoch [1/10], Step [100/100], Loss: 0.3825\n",
      "Epoch [1/10], Accuracy : 68.39666666666666 %\n",
      "Epoch [2/10], Step [100/100], Loss: 0.1581\n",
      "Epoch [2/10], Accuracy : 91.92166666666667 %\n",
      "Epoch [3/10], Step [100/100], Loss: 0.1436\n",
      "Epoch [3/10], Accuracy : 95.13666666666667 %\n",
      "Epoch [4/10], Step [100/100], Loss: 0.0849\n",
      "Epoch [4/10], Accuracy : 96.475 %\n",
      "Epoch [5/10], Step [100/100], Loss: 0.0913\n",
      "Epoch [5/10], Accuracy : 97.11166666666666 %\n",
      "Epoch [6/10], Step [100/100], Loss: 0.1277\n",
      "Epoch [6/10], Accuracy : 97.545 %\n",
      "Epoch [7/10], Step [100/100], Loss: 0.0672\n",
      "Epoch [7/10], Accuracy : 97.78166666666667 %\n",
      "Epoch [8/10], Step [100/100], Loss: 0.0492\n",
      "Epoch [8/10], Accuracy : 98.03166666666667 %\n",
      "Epoch [9/10], Step [100/100], Loss: 0.0686\n",
      "Epoch [9/10], Accuracy : 98.14833333333333 %\n",
      "Epoch [10/10], Step [100/100], Loss: 0.0515\n",
      "Epoch [10/10], Accuracy : 98.25333333333333 %\n"
     ]
    }
   ],
   "source": [
    "train_losses = []\n",
    "train_epoch = []\n",
    "train_acc = []\n",
    "test_losses = []\n",
    "test_epoch = []\n",
    "\n",
    "# Train the model\n",
    "n_total_steps = len(train_loader)\n",
    "for epoch in range(num_epochs):\n",
    "    n_correct = 0\n",
    "    n_samples = 0\n",
    "    for i, (images, labels) in enumerate(train_loader):  \n",
    "        # Forward pass\n",
    "        prediction = cnn(images)\n",
    "        loss = loss_func(prediction, labels)\n",
    "        # Backward and optimize\n",
    "        optimizer.zero_grad()\n",
    "        loss.backward()\n",
    "        optimizer.step()\n",
    "        \n",
    "        _, predicted = torch.max(prediction.data, 1)\n",
    "        n_samples += labels.size(0)\n",
    "        n_correct += (predicted == labels).sum().item()\n",
    "        acc = 100.0 * n_correct / n_samples\n",
    "        \n",
    "        if (i+1) % 100 == 0:\n",
    "            print (f'Epoch [{epoch+1}/{num_epochs}], Step [{i+1}/{n_total_steps}], Loss: {loss.item():.4f}')\n",
    "            train_epoch.append(epoch+1)\n",
    "            train_losses.append(loss.item())\n",
    "            print(f'Epoch [{epoch+1}/{num_epochs}], Accuracy : {acc} %')\n",
    "            train_acc.append(acc)"
   ]
  },
  {
   "cell_type": "code",
   "execution_count": 20,
   "id": "79b98761-1265-4a21-aab4-80ed56d8ca76",
   "metadata": {},
   "outputs": [
    {
     "data": {
      "image/png": "[encoded data removed]",
      "text/plain": [
       "<Figure size 432x288 with 1 Axes>"
      ]
     },
     "metadata": {
      "needs_background": "light"
     },
     "output_type": "display_data"
    }
   ],
   "source": [
    "#plot\n",
    "plt.plot(train_epoch,train_losses,color=\"blue\")\n",
    "plt.title('CNN Loss VS Epoch')\n",
    "plt.show()"
   ]
  },
  {
   "cell_type": "code",
   "execution_count": 21,
   "id": "b6d1fb57-ceac-44ed-bf8c-6b897a911cae",
   "metadata": {},
   "outputs": [
    {
     "data": {
      "image/png": "[encoded data removed]",
      "text/plain": [
       "<Figure size 432x288 with 1 Axes>"
      ]
     },
     "metadata": {
      "needs_background": "light"
     },
     "output_type": "display_data"
    }
   ],
   "source": [
    "#plot\n",
    "plt.plot(train_epoch,train_acc,color=\"red\")\n",
    "plt.title('CNN Loss VS Epoch')\n",
    "plt.show()"
   ]
  },
  {
   "cell_type": "code",
   "execution_count": 22,
   "id": "176bdbc3-0e7e-4ac4-be00-dc6c294a3179",
   "metadata": {},
   "outputs": [
    {
     "name": "stdout",
     "output_type": "stream",
     "text": [
      "Accuracy of the network: 98.2 %\n",
      "Accuracy of 0: 98.87755102040816 %\n",
      "Accuracy of 1: 99.55947136563877 %\n",
      "Accuracy of 2: 98.54651162790698 %\n",
      "Accuracy of 3: 99.5049504950495 %\n",
      "Accuracy of 4: 99.38900203665987 %\n",
      "Accuracy of 5: 97.86995515695067 %\n",
      "Accuracy of 6: 97.59916492693111 %\n",
      "Accuracy of 7: 97.37354085603113 %\n",
      "Accuracy of 8: 97.3305954825462 %\n",
      "Accuracy of 9: 95.73835480673935 %\n"
     ]
    }
   ],
   "source": [
    "with torch.no_grad():\n",
    "    n_correct = 0\n",
    "    n_samples = 0\n",
    "    n_class_correct = [0 for i in range(10)]\n",
    "    n_class_samples = [0 for i in range(10)]\n",
    "    for test_images, test_labels in test_loader:\n",
    "        outputs = cnn(test_images)\n",
    "        # max returns (value ,index)\n",
    "        _, predicted = torch.max(outputs, 1)\n",
    "        n_samples += test_labels.size(0)\n",
    "        n_correct += (predicted == test_labels).sum().item()\n",
    "        \n",
    "        for i in range(100):\n",
    "            label = test_labels[i]\n",
    "            pred = predicted[i]\n",
    "            if (label == pred):\n",
    "                n_class_correct[label] += 1\n",
    "            n_class_samples[label] += 1\n",
    "\n",
    "    acc = 100.0 * n_correct / n_samples\n",
    "    print(f'Accuracy of the network: {acc} %')\n",
    "\n",
    "    for i in range(10):\n",
    "        acc = 100.0 * n_class_correct[i] / n_class_samples[i]\n",
    "        print(f'Accuracy of {i}: {acc} %')"
   ]
  },
  {
   "cell_type": "code",
   "execution_count": 23,
   "id": "3e0e9af7-9e56-43dd-93f5-dc5117563836",
   "metadata": {},
   "outputs": [
    {
     "name": "stdout",
     "output_type": "stream",
     "text": [
      "Accuracy of the network on the test images: 98.2 %\n"
     ]
    }
   ],
   "source": [
    "# Test the model\n",
    "# In test phase, we don't need to compute gradients (for memory efficiency)\n",
    "with torch.no_grad():\n",
    "    n_correct = 0\n",
    "    n_samples = 0\n",
    "    for images, labels in test_loader:\n",
    "        prediction = cnn(images)\n",
    "        # max returns (value ,index)\n",
    "        _, predicted = torch.max(prediction.data, 1)\n",
    "        n_samples += labels.size(0)\n",
    "        n_correct += (predicted == labels).sum().item()\n",
    "\n",
    "    acc = 100.0 * n_correct / n_samples\n",
    "    print(f'Accuracy of the network on the test images: {acc} %')"
   ]
  },
  {
   "cell_type": "code",
   "execution_count": null,
   "id": "19932ee4",
   "metadata": {},
   "outputs": [],
   "source": []
  }
 ],
 "metadata": {
  "kernelspec": {
   "display_name": "Python 3 (ipykernel)",
   "language": "python",
   "name": "python3"
  },
  "language_info": {
   "codemirror_mode": {
    "name": "ipython",
    "version": 3
   },
   "file_extension": ".py",
   "mimetype": "text/x-python",
   "name": "python",
   "nbconvert_exporter": "python",
   "pygments_lexer": "ipython3",
   "version": "3.9.7"
  }
 },
 "nbformat": 4,
 "nbformat_minor": 5
}
