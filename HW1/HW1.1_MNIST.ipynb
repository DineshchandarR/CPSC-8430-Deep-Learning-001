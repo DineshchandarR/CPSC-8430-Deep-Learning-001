{
 "cells": [
  {
   "cell_type": "code",
   "execution_count": 1,
   "id": "eb7606a1-8326-4f14-8a0b-b56b85ca2f7d",
   "metadata": {},
   "outputs": [],
   "source": [
    "import torch\n",
    "import torch.nn as nn\n",
    "import torch.nn.functional as F\n",
    "import torchvision\n",
    "import torchvision.transforms as transforms\n",
    "import matplotlib.pyplot as plt\n",
    "import numpy as np"
   ]
  },
  {
   "cell_type": "code",
   "execution_count": 2,
   "id": "4497617b-aa3e-45bf-9225-0908be3cc4ce",
   "metadata": {},
   "outputs": [
    {
     "name": "stdout",
     "output_type": "stream",
     "text": [
      "train_dataset size: 60000 \n",
      "test_dataset size: 10000\n"
     ]
    }
   ],
   "source": [
    "torch.manual_seed(1)\n",
    "\n",
    "# MNIST dataset \n",
    "train_dataset = torchvision.datasets.MNIST(root='./data', \n",
    "                                           train=True, \n",
    "                                           transform=transforms.ToTensor(),  \n",
    "                                           download=True)\n",
    "\n",
    "test_dataset = torchvision.datasets.MNIST(root='./data', \n",
    "                                          train=False, \n",
    "                                          transform=transforms.ToTensor())\n",
    "\n",
    "print(\"train_dataset size:\", len(train_dataset),\"\\ntest_dataset size:\", len(test_dataset))"
   ]
  },
  {
   "cell_type": "code",
   "execution_count": 3,
   "id": "3400b297-54ca-4c74-af20-026999f84a73",
   "metadata": {},
   "outputs": [],
   "source": [
    "# Data loader\n",
    "train_loader = torch.utils.data.DataLoader(dataset=train_dataset, \n",
    "                                           batch_size=600, \n",
    "                                           shuffle=True)\n",
    "\n",
    "test_loader = torch.utils.data.DataLoader(dataset=test_dataset, \n",
    "                                          batch_size=100, \n",
    "                                          shuffle=False)"
   ]
  },
  {
   "cell_type": "code",
   "execution_count": 4,
   "id": "bef45032-4873-469d-8fed-c88b8095b1b6",
   "metadata": {},
   "outputs": [
    {
     "data": {
      "image/png": "[encoded data removed]",
      "text/plain": [
       "<Figure size 432x288 with 6 Axes>"
      ]
     },
     "metadata": {},
     "output_type": "display_data"
    }
   ],
   "source": [
    "examples = iter(test_loader)\n",
    "example_data, example_targets = examples.next()\n",
    "\n",
    "for i in range(6):\n",
    "    plt.subplot(2,3,i+1)\n",
    "    plt.imshow(example_data[i][0], cmap='gray')\n",
    "    plt.title(\"Actual Val: {}\".format(example_targets[i]),color='white')\n",
    "    plt.xticks([])\n",
    "    plt.yticks([])\n",
    "plt.show()"
   ]
  },
  {
   "cell_type": "code",
   "execution_count": 5,
   "id": "47473b54-b57c-4650-a6fa-57af14833660",
   "metadata": {},
   "outputs": [],
   "source": [
    "class CNN1(nn.Module):\n",
    "    def __init__(self,):\n",
    "        super(CNN1, self).__init__()\n",
    "        self.conv1 = nn.Conv2d(1, 10, kernel_size) #1st Convolution\n",
    "        self.pool = nn.MaxPool2d(2, 2)   #pool_size=2, strides=2 \n",
    "        self.conv2 = nn.Conv2d(10, 20, kernel_size) #2nd Convolution\n",
    "        self.fc1 = nn.Linear(320, 50) #((I/P - Filter + 2*Pad)/Stride)+1 \n",
    "        self.dropout = nn.Dropout(dropout)\n",
    "        self.fc2 = nn.Linear(50, 100)\n",
    "        self.fc3 = nn.Linear(100, 10)\n",
    "\n",
    "    def forward(self, x):\n",
    "        # -> n, 3, 32, 32\n",
    "        x = self.pool(F.relu(self.conv1(x)))  \n",
    "        x = self.pool(F.relu(self.conv2(x)))  \n",
    "        x = x.view(-1, 320)            #Flattening \n",
    "        x = F.relu(self.fc1(x))        #Fully Connected NN   \n",
    "        x = self.dropout(x)   \n",
    "        x = F.relu(self.fc2(x))        #Fully Connected NN           \n",
    "        x = self.fc3(x)                #O/P Layer       \n",
    "        return x"
   ]
  },
  {
   "cell_type": "code",
   "execution_count": 6,
   "id": "bbeb313e-f7e2-4ed3-b059-190a1d63819f",
   "metadata": {},
   "outputs": [],
   "source": [
    "# train_losses = []\n",
    "# train_epoch = []\n",
    "# train_acc = []\n",
    "# test_losses = []\n",
    "# test_epoch = []\n",
    "# not_converged =True\n",
    "# epoch = 0\n",
    "# Train the model\n",
    "\n",
    "#for epoch in range(num_epochs):\n",
    "def trainFunc(model,num_epochs):\n",
    "    model.train()\n",
    "    n_total_steps = len(train_loader)\n",
    "    train_losses = []\n",
    "    train_epoch = []\n",
    "    train_acc = []\n",
    "    not_converged =True\n",
    "    epoch = 0\n",
    "    trainAvgLossArr = []\n",
    "    while not_converged:\n",
    "        epoch += 1\n",
    "        n_correct = 0\n",
    "        n_samples = 0\n",
    "        lossSum = 0\n",
    "\n",
    "        for i, (images, labels) in enumerate(train_loader):  \n",
    "            # Forward pass\n",
    "            prediction = model(images)\n",
    "            loss = loss_func(prediction, labels)\n",
    "            lossSum += loss.detach().numpy()\n",
    "            # Backward and optimize\n",
    "            optimizer.zero_grad()\n",
    "            loss.backward()\n",
    "            optimizer.step()\n",
    "\n",
    "            _, predicted = torch.max(prediction.data, 1)\n",
    "            n_samples += labels.size(0)\n",
    "            n_correct += (predicted == labels).sum().item()\n",
    "            acc = 100.0 * n_correct / n_samples\n",
    "\n",
    "            if (i+1) % 100 == 0:\n",
    "                print (f'Epoch [{epoch}/{num_epochs}], Step [{i+1}/{n_total_steps}], Loss: {loss.item():.4f}',end='\\r',flush=True)\n",
    "                train_epoch.append(epoch)\n",
    "                train_losses.append(loss.item())\n",
    "                print(f'Epoch [{epoch}/{num_epochs}], Accuracy : {acc} %',end='\\r',flush=True)\n",
    "                train_acc.append(acc)\n",
    "\n",
    "                if epoch == num_epochs:\n",
    "                        print(f\"Max Epoch Reached, Loss: {loss.item():.4f}, Accuracy:{acc:2f}%\")\n",
    "                        not_converged = False\n",
    "                elif (epoch > 5) and  (train_losses[-1] < 0.001):\n",
    "                    if abs(train_losses[-3] - train_losses[-2]) < 1.0e-05 and abs(train_losses[-2] - train_losses[-1]) < 1.0e-05:\n",
    "                        print(\"Convergeance reached for loss:\",train_losses[-1])\n",
    "                        not_converged = False\n",
    "\n",
    "        trainAvgLossArr.append(lossSum/i+1)\n",
    "        \n",
    "                        \n",
    "    return train_epoch,train_losses,train_acc,trainAvgLossArr"
   ]
  },
  {
   "cell_type": "code",
   "execution_count": 7,
   "id": "762ab56d-6dbb-40cd-97b6-91a5c8eae46e",
   "metadata": {},
   "outputs": [],
   "source": [
    "# Hyper-parameters \n",
    "input_size = 784 # 28x28\n",
    "max_epochs = 15\n",
    "learning_rate = 0.001\n",
    "kernel_size = 4\n",
    "weight_decay_val = 1e-4\n",
    "dropout = 0.25"
   ]
  },
  {
   "cell_type": "code",
   "execution_count": 8,
   "id": "45a1720a-be73-4af6-9f12-7c84e0b48c33",
   "metadata": {},
   "outputs": [
    {
     "name": "stdout",
     "output_type": "stream",
     "text": [
      "Total no of parameters in Model 1: 25550\n"
     ]
    }
   ],
   "source": [
    "torch.manual_seed(1)\n",
    "\n",
    "cnn1 = CNN1()\n",
    "loss_func = nn.CrossEntropyLoss()\n",
    "optimizer = torch.optim.Adam(cnn1.parameters(), lr=learning_rate, weight_decay = weight_decay_val)\n",
    "\n",
    "a=[]\n",
    "for i in cnn1.parameters():\n",
    "    a.append(torch.numel(i))\n",
    "print('Total no of parameters in Model 1:', np.sum(a),)"
   ]
  },
  {
   "cell_type": "code",
   "execution_count": 9,
   "id": "cb54c942-f483-4ae5-916b-de2467da80e9",
   "metadata": {},
   "outputs": [
    {
     "name": "stdout",
     "output_type": "stream",
     "text": [
      "Max Epoch Reached, Loss: 0.0744, Accuracy:98.045000%\n"
     ]
    }
   ],
   "source": [
    "train_epoch,train_losses,train_acc,trainAvgLossArr =trainFunc(cnn1,max_epochs)"
   ]
  },
  {
   "cell_type": "code",
   "execution_count": 10,
   "id": "79b98761-1265-4a21-aab4-80ed56d8ca76",
   "metadata": {},
   "outputs": [
    {
     "data": {
      "image/png": "[encoded data removed]",
      "text/plain": [
       "<Figure size 432x288 with 1 Axes>"
      ]
     },
     "metadata": {
      "needs_background": "light"
     },
     "output_type": "display_data"
    }
   ],
   "source": [
    "#plot\n",
    "plt.plot(train_epoch,trainAvgLossArr,color=\"blue\")\n",
    "plt.title('CNN Loss VS Epoch')\n",
    "plt.show()"
   ]
  },
  {
   "cell_type": "code",
   "execution_count": 11,
   "id": "b6d1fb57-ceac-44ed-bf8c-6b897a911cae",
   "metadata": {},
   "outputs": [
    {
     "data": {
      "image/png": "[encoded data removed]",
      "text/plain": [
       "<Figure size 432x288 with 1 Axes>"
      ]
     },
     "metadata": {
      "needs_background": "light"
     },
     "output_type": "display_data"
    }
   ],
   "source": [
    "#plot\n",
    "plt.plot(train_epoch,train_acc,color=\"red\")\n",
    "plt.title('CNN Accuracy VS Epoch')\n",
    "plt.show()"
   ]
  },
  {
   "cell_type": "code",
   "execution_count": 12,
   "id": "176bdbc3-0e7e-4ac4-be00-dc6c294a3179",
   "metadata": {},
   "outputs": [],
   "source": [
    "def testFunc (model):\n",
    "    model.eval()\n",
    "    with torch.no_grad():\n",
    "        n_correct = 0\n",
    "        n_samples = 0\n",
    "        n_class_correct = [0 for i in range(10)]\n",
    "        n_class_samples = [0 for i in range(10)]\n",
    "        for test_images, test_labels in test_loader:\n",
    "            outputs = model(test_images)\n",
    "            # max returns (value ,index)\n",
    "            _, predicted = torch.max(outputs, 1)\n",
    "            n_samples += test_labels.size(0)\n",
    "            n_correct += (predicted == test_labels).sum().item()\n",
    "            \n",
    "            for i in range(100):\n",
    "                label = test_labels[i]\n",
    "                pred = predicted[i]\n",
    "                if (label == pred):\n",
    "                    n_class_correct[label] += 1\n",
    "                n_class_samples[label] += 1\n",
    "\n",
    "        netTest_acc1 = 100.0 * n_correct / n_samples\n",
    "        print(f'Accuracy of the network: {netTest_acc1} %')\n",
    "\n",
    "        for i in range(10):\n",
    "            acc = 100.0 * n_class_correct[i] / n_class_samples[i]\n",
    "            print(f'Accuracy of {i}: {acc} %')\n",
    "    \n",
    "    return netTest_acc1"
   ]
  },
  {
   "cell_type": "code",
   "execution_count": 13,
   "id": "fac376ff",
   "metadata": {},
   "outputs": [
    {
     "name": "stdout",
     "output_type": "stream",
     "text": [
      "Accuracy of the network: 98.66 %\n",
      "Accuracy of 0: 99.48979591836735 %\n",
      "Accuracy of 1: 99.29515418502203 %\n",
      "Accuracy of 2: 98.25581395348837 %\n",
      "Accuracy of 3: 98.41584158415841 %\n",
      "Accuracy of 4: 99.38900203665987 %\n",
      "Accuracy of 5: 98.99103139013452 %\n",
      "Accuracy of 6: 98.43423799582463 %\n",
      "Accuracy of 7: 99.0272373540856 %\n",
      "Accuracy of 8: 97.84394250513347 %\n",
      "Accuracy of 9: 97.42319127849356 %\n"
     ]
    }
   ],
   "source": [
    "cnn1TestAcc = testFunc(cnn1)"
   ]
  },
  {
   "cell_type": "code",
   "execution_count": 14,
   "id": "cf7ae8dd-ed01-4327-b374-d4e2356c3403",
   "metadata": {},
   "outputs": [],
   "source": [
    "class CNN2(nn.Module):\n",
    "    def __init__(self,):\n",
    "        super(CNN2, self).__init__()\n",
    "        self.conv1 = nn.Conv2d(1, 10, kernel_size) #1st Convolution\n",
    "        self.pool = nn.MaxPool2d(2, 2)   #pool_size=2, strides=2 \n",
    "        self.conv2 = nn.Conv2d(10, 20, kernel_size) #2nd Convolution\n",
    "        self.fc1 = nn.Linear(20*kernel_size*kernel_size, 50) #((I/P - Filter + 2*Pad)/Stride)+1 \n",
    "        self.fc2 = nn.Linear(50,50)\n",
    "        self.fc3 = nn.Linear(50,40)\n",
    "        self.fc4 = nn.Linear(40,30)\n",
    "        self.fc5 = nn.Linear(30, 10)\n",
    "\n",
    "    def forward(self, x):\n",
    "        # -> n, 3, 32, 32\n",
    "        x = self.pool(F.relu(self.conv1(x)))  \n",
    "        x = self.pool(F.relu(self.conv2(x)))  \n",
    "        x = x.view(-1, 320)            #Flattening \n",
    "        x = F.relu(self.fc1(x))        #Fully Connected NN       \n",
    "        x = F.relu(self.fc2(x))        #Fully Connected NN \n",
    "        x = F.relu(self.fc3(x))        #Fully Connected NN \n",
    "        x = F.relu(self.fc4(x))        #Fully Connected NN\n",
    "        #x = F.relu(self.fc5(x))        #Fully Connected NN \n",
    "        x = self.fc5(x)                #O/P Layer       \n",
    "        return x\n"
   ]
  },
  {
   "cell_type": "code",
   "execution_count": 15,
   "id": "2f561c96-01c0-4da7-890c-476f84ade1cc",
   "metadata": {},
   "outputs": [
    {
     "name": "stdout",
     "output_type": "stream",
     "text": [
      "Total no of parameters in Model 2: 25570\n"
     ]
    }
   ],
   "source": [
    "torch.manual_seed(1)\n",
    "\n",
    "cnn2 = CNN2()\n",
    "loss_func = nn.CrossEntropyLoss()\n",
    "optimizer = torch.optim.Adam(cnn2.parameters(), lr=learning_rate, weight_decay = weight_decay_val)\n",
    "\n",
    "a=[]\n",
    "\n",
    "for i in cnn2.parameters():\n",
    "    a.append(torch.numel(i))\n",
    "print('Total no of parameters in Model 2:', np.sum(a),)"
   ]
  },
  {
   "cell_type": "code",
   "execution_count": 16,
   "id": "66960f10-866e-4e5b-a734-d28943961ea0",
   "metadata": {},
   "outputs": [
    {
     "name": "stdout",
     "output_type": "stream",
     "text": [
      "Max Epoch Reached, Loss: 0.0880, Accuracy:97.825000%\n"
     ]
    }
   ],
   "source": [
    "train_epoch2,train_losses2,train_acc2,trainAvgLossArr2=trainFunc(cnn2,max_epochs)"
   ]
  },
  {
   "cell_type": "code",
   "execution_count": 17,
   "id": "ff932594-acd4-47c2-b341-149167335979",
   "metadata": {},
   "outputs": [
    {
     "data": {
      "image/png": "[encoded data removed]",
      "text/plain": [
       "<Figure size 432x288 with 1 Axes>"
      ]
     },
     "metadata": {
      "needs_background": "light"
     },
     "output_type": "display_data"
    }
   ],
   "source": [
    "#plot\n",
    "plt.plot(train_epoch2,trainAvgLossArr2,color=\"blue\")\n",
    "plt.title('CNN Loss VS Epoch')\n",
    "plt.show()"
   ]
  },
  {
   "cell_type": "code",
   "execution_count": 18,
   "id": "c6eaa7a2-5920-4b48-a52b-18fa733dbf78",
   "metadata": {},
   "outputs": [
    {
     "data": {
      "image/png": "[encoded data removed]",
      "text/plain": [
       "<Figure size 432x288 with 1 Axes>"
      ]
     },
     "metadata": {
      "needs_background": "light"
     },
     "output_type": "display_data"
    }
   ],
   "source": [
    "#plot\n",
    "plt.plot(train_epoch2,train_acc2,color=\"red\")\n",
    "plt.title('CNN accuracy VS Epoch')\n",
    "plt.show()"
   ]
  },
  {
   "cell_type": "code",
   "execution_count": 19,
   "id": "a54db4b2-75b1-4321-ad01-f2921009dfd9",
   "metadata": {},
   "outputs": [
    {
     "name": "stdout",
     "output_type": "stream",
     "text": [
      "Accuracy of the network: 97.9 %\n",
      "Accuracy of 0: 99.28571428571429 %\n",
      "Accuracy of 1: 99.20704845814979 %\n",
      "Accuracy of 2: 97.96511627906976 %\n",
      "Accuracy of 3: 96.83168316831683 %\n",
      "Accuracy of 4: 98.57433808553971 %\n",
      "Accuracy of 5: 97.98206278026906 %\n",
      "Accuracy of 6: 98.43423799582463 %\n",
      "Accuracy of 7: 97.95719844357977 %\n",
      "Accuracy of 8: 98.04928131416838 %\n",
      "Accuracy of 9: 94.64816650148661 %\n"
     ]
    }
   ],
   "source": [
    "cnn2TestAcc = testFunc(cnn2)"
   ]
  },
  {
   "cell_type": "code",
   "execution_count": 20,
   "id": "5191f093",
   "metadata": {},
   "outputs": [],
   "source": [
    "#Model 3\n",
    "class CNN3(nn.Module):\n",
    "    def __init__(self,): \n",
    "        super(CNN3, self).__init__()\n",
    "        self.conv1 = nn.Conv2d(1, 10, 5)\n",
    "        self.pool = nn.MaxPool2d(2, 2)\n",
    "        self.conv2 = nn.Conv2d(10, 15, 5)\n",
    "        self.fc1 = nn.Linear(15*4*4, 86)\n",
    "        self.fc2 = nn.Linear(86, 10)\n",
    "       \n",
    "\n",
    "    def forward(self, x):\n",
    "        x = self.pool(F.relu(self.conv1(x)))\n",
    "        x = self.pool(F.relu(self.conv2(x)))\n",
    "     \n",
    "        x = x.view(-1, 15*4*4)\n",
    "        x = F.relu(self.fc1(x))\n",
    "        x = self.fc2(x)\n",
    "        \n",
    "        return x"
   ]
  },
  {
   "cell_type": "code",
   "execution_count": 21,
   "id": "7198aaa1",
   "metadata": {},
   "outputs": [
    {
     "name": "stdout",
     "output_type": "stream",
     "text": [
      "Total no of parameters in Model 3: 25621\n"
     ]
    }
   ],
   "source": [
    "torch.manual_seed(1)\n",
    "\n",
    "cnn3 = CNN3()\n",
    "loss_func = nn.CrossEntropyLoss()\n",
    "optimizer = torch.optim.Adam(cnn3.parameters(), lr=learning_rate, weight_decay = weight_decay_val)\n",
    "\n",
    "a=[]\n",
    "\n",
    "for i in cnn3.parameters():\n",
    "    a.append(torch.numel(i))\n",
    "print('Total no of parameters in Model 3:', np.sum(a))"
   ]
  },
  {
   "cell_type": "code",
   "execution_count": 22,
   "id": "81995f96",
   "metadata": {},
   "outputs": [
    {
     "name": "stdout",
     "output_type": "stream",
     "text": [
      "Max Epoch Reached, Loss: 0.0242, Accuracy:98.898333%\n"
     ]
    }
   ],
   "source": [
    "train_epoch3,train_losses3,train_acc3,trainAvgLossArr3=trainFunc(cnn3,max_epochs)"
   ]
  },
  {
   "cell_type": "code",
   "execution_count": 23,
   "id": "7e323be9-9179-45ba-9441-4da4d7a763cc",
   "metadata": {},
   "outputs": [
    {
     "data": {
      "image/png": "[encoded data removed]",
      "text/plain": [
       "<Figure size 432x288 with 1 Axes>"
      ]
     },
     "metadata": {
      "needs_background": "light"
     },
     "output_type": "display_data"
    }
   ],
   "source": [
    "#plot\n",
    "plt.plot(train_epoch3,trainAvgLossArr3,color=\"blue\")\n",
    "plt.title('CNN Loss VS Epoch')\n",
    "plt.show()"
   ]
  },
  {
   "cell_type": "code",
   "execution_count": 24,
   "id": "d28327a9",
   "metadata": {},
   "outputs": [
    {
     "data": {
      "image/png": "[encoded data removed]",
      "text/plain": [
       "<Figure size 432x288 with 1 Axes>"
      ]
     },
     "metadata": {
      "needs_background": "light"
     },
     "output_type": "display_data"
    }
   ],
   "source": [
    "#plot\n",
    "plt.plot(train_epoch3,train_acc3,color=\"red\")\n",
    "plt.title('CNN accuracy VS Epoch')\n",
    "plt.show()"
   ]
  },
  {
   "cell_type": "code",
   "execution_count": 25,
   "id": "8dd3e552",
   "metadata": {},
   "outputs": [
    {
     "name": "stdout",
     "output_type": "stream",
     "text": [
      "Accuracy of the network: 98.8 %\n",
      "Accuracy of 0: 99.48979591836735 %\n",
      "Accuracy of 1: 99.20704845814979 %\n",
      "Accuracy of 2: 99.2248062015504 %\n",
      "Accuracy of 3: 99.00990099009901 %\n",
      "Accuracy of 4: 99.38900203665987 %\n",
      "Accuracy of 5: 97.6457399103139 %\n",
      "Accuracy of 6: 98.95615866388309 %\n",
      "Accuracy of 7: 98.44357976653697 %\n",
      "Accuracy of 8: 98.870636550308 %\n",
      "Accuracy of 9: 97.62140733399406 %\n"
     ]
    }
   ],
   "source": [
    "cnn3TestAcc = testFunc(cnn3)"
   ]
  },
  {
   "cell_type": "code",
   "execution_count": 26,
   "id": "8a90c55c",
   "metadata": {},
   "outputs": [
    {
     "data": {
      "image/png": "[encoded data removed]",
      "text/plain": [
       "<Figure size 720x288 with 1 Axes>"
      ]
     },
     "metadata": {
      "needs_background": "light"
     },
     "output_type": "display_data"
    },
    {
     "data": {
      "image/png": "[encoded data removed]",
      "text/plain": [
       "<Figure size 720x288 with 1 Axes>"
      ]
     },
     "metadata": {
      "needs_background": "light"
     },
     "output_type": "display_data"
    },
    {
     "name": "stdout",
     "output_type": "stream",
     "text": [
      "CNN1 Test Accuracy: 98.66 % \n",
      "CNN2 Test Accuracy: 97.9 % \n",
      "CNN3 Test Accuracy: 98.8 %\n"
     ]
    }
   ],
   "source": [
    "plt.figure(figsize=(10,4))\n",
    "plt.plot(train_epoch,trainAvgLossArr, color = \"red\")\n",
    "plt.plot(train_epoch2,trainAvgLossArr2, color = \"blue\")\n",
    "plt.plot(train_epoch3,trainAvgLossArr3, color = \"green\")\n",
    "plt.title('Learnig progression of model (Loss)')\n",
    "plt.legend(['First Model', 'Second Model','Thrid Model'])\n",
    "plt.xlabel('Epoch')\n",
    "plt.ylabel('Loss')\n",
    "plt.savefig('EpochVSLoss.png')\n",
    "plt.show()\n",
    "\n",
    "plt.figure(figsize=(10,4))\n",
    "plt.plot(train_epoch,train_acc,color=\"red\")\n",
    "plt.plot(train_epoch2,train_acc2,color=\"blue\")\n",
    "plt.plot(train_epoch3,train_acc3,color=\"green\")\n",
    "plt.title('Model Train Accuraccy')\n",
    "plt.legend(['First Model', 'Second Model','Thrid Model'])\n",
    "plt.xlabel('Function')\n",
    "plt.ylabel('Target')\n",
    "plt.savefig('Model_Prediction.png')\n",
    "plt.show()\n",
    "\n",
    "print('CNN1 Test Accuracy:',cnn1TestAcc,'%','\\nCNN2 Test Accuracy:',cnn2TestAcc,'%','\\nCNN3 Test Accuracy:',cnn3TestAcc,'%')"
   ]
  }
 ],
 "metadata": {
  "kernelspec": {
   "display_name": "Python 3 (ipykernel)",
   "language": "python",
   "name": "python3"
  },
  "language_info": {
   "codemirror_mode": {
    "name": "ipython",
    "version": 3
   },
   "file_extension": ".py",
   "mimetype": "text/x-python",
   "name": "python",
   "nbconvert_exporter": "python",
   "pygments_lexer": "ipython3",
   "version": "3.9.7"
  }
 },
 "nbformat": 4,
 "nbformat_minor": 5
}
