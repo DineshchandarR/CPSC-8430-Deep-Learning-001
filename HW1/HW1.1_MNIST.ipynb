{
 "cells": [
  {
   "cell_type": "code",
   "execution_count": 1,
   "id": "eb7606a1-8326-4f14-8a0b-b56b85ca2f7d",
   "metadata": {},
   "outputs": [],
   "source": [
    "import torch\n",
    "import torch.nn as nn\n",
    "import torch.nn.functional as F\n",
    "import torchvision\n",
    "import torchvision.transforms as transforms\n",
    "import matplotlib.pyplot as plt\n",
    "import numpy as np"
   ]
  },
  {
   "cell_type": "code",
   "execution_count": 2,
   "id": "4497617b-aa3e-45bf-9225-0908be3cc4ce",
   "metadata": {},
   "outputs": [
    {
     "name": "stdout",
     "output_type": "stream",
     "text": [
      "train_dataset size: 60000 \n",
      "test_dataset size: 10000\n"
     ]
    }
   ],
   "source": [
    "torch.manual_seed(1)\n",
    "\n",
    "# MNIST dataset \n",
    "train_dataset = torchvision.datasets.MNIST(root='./data', \n",
    "                                           train=True, \n",
    "                                           transform=transforms.ToTensor(),  \n",
    "                                           download=True)\n",
    "\n",
    "test_dataset = torchvision.datasets.MNIST(root='./data', \n",
    "                                          train=False, \n",
    "                                          transform=transforms.ToTensor())\n",
    "\n",
    "print(\"train_dataset size:\", len(train_dataset),\"\\ntest_dataset size:\", len(test_dataset))"
   ]
  },
  {
   "cell_type": "code",
   "execution_count": 3,
   "id": "3400b297-54ca-4c74-af20-026999f84a73",
   "metadata": {},
   "outputs": [],
   "source": [
    "# Data loader\n",
    "train_loader = torch.utils.data.DataLoader(dataset=train_dataset, \n",
    "                                           batch_size=600, \n",
    "                                           shuffle=True)\n",
    "\n",
    "test_loader = torch.utils.data.DataLoader(dataset=test_dataset, \n",
    "                                          batch_size=100, \n",
    "                                          shuffle=False)"
   ]
  },
  {
   "cell_type": "code",
   "execution_count": 4,
   "id": "bef45032-4873-469d-8fed-c88b8095b1b6",
   "metadata": {},
   "outputs": [
    {
     "data": {
      "image/png": "[encoded data removed]",
      "text/plain": [
       "<Figure size 432x288 with 6 Axes>"
      ]
     },
     "metadata": {},
     "output_type": "display_data"
    }
   ],
   "source": [
    "examples = iter(test_loader)\n",
    "example_data, example_targets = examples.next()\n",
    "\n",
    "for i in range(6):\n",
    "    plt.subplot(2,3,i+1)\n",
    "    plt.imshow(example_data[i][0], cmap='gray')\n",
    "    plt.title(\"Actual Val: {}\".format(example_targets[i]),color='white')\n",
    "    plt.xticks([])\n",
    "    plt.yticks([])\n",
    "plt.show()"
   ]
  },
  {
   "cell_type": "code",
   "execution_count": 5,
   "id": "762ab56d-6dbb-40cd-97b6-91a5c8eae46e",
   "metadata": {},
   "outputs": [],
   "source": [
    "# Hyper-parameters \n",
    "input_size = 784 # 28x28\n",
    "max_epochs = 15\n",
    "learning_rate = 0.001\n",
    "kernel_size = 4\n",
    "weight_decay_val = 1e-4\n",
    "dropout = 0.25"
   ]
  },
  {
   "cell_type": "code",
   "execution_count": 6,
   "id": "47473b54-b57c-4650-a6fa-57af14833660",
   "metadata": {},
   "outputs": [],
   "source": [
    "class CNN1(nn.Module):\n",
    "    def __init__(self,):\n",
    "        super(CNN1, self).__init__()\n",
    "        self.conv1 = nn.Conv2d(1, 10, kernel_size) #1st Convolution\n",
    "        self.pool = nn.MaxPool2d(2, 2)   #pool_size=2, strides=2 \n",
    "        self.conv2 = nn.Conv2d(10, 20, kernel_size) #2nd Convolution\n",
    "        self.fc1 = nn.Linear(320, 50) #((I/P - Filter + 2*Pad)/Stride)+1 \n",
    "        self.dropout = nn.Dropout(dropout)\n",
    "        self.fc2 = nn.Linear(50, 100)\n",
    "        self.fc3 = nn.Linear(100, 10)\n",
    "\n",
    "    def forward(self, x):\n",
    "        # -> n, 3, 32, 32\n",
    "        x = self.pool(F.relu(self.conv1(x)))  \n",
    "        x = self.pool(F.relu(self.conv2(x)))  \n",
    "        x = x.view(-1, 320)            #Flattening \n",
    "        x = F.relu(self.fc1(x))        #Fully Connected NN   \n",
    "        x = self.dropout(x)   \n",
    "        x = F.relu(self.fc2(x))        #Fully Connected NN           \n",
    "        x = self.fc3(x)                #O/P Layer       \n",
    "        return x"
   ]
  },
  {
   "cell_type": "code",
   "execution_count": 7,
   "id": "45a1720a-be73-4af6-9f12-7c84e0b48c33",
   "metadata": {},
   "outputs": [
    {
     "name": "stdout",
     "output_type": "stream",
     "text": [
      "Total no of parameters in Model 1: 25550\n"
     ]
    }
   ],
   "source": [
    "cnn1 = CNN1()\n",
    "loss_func = nn.CrossEntropyLoss()\n",
    "optimizer = torch.optim.Adam(cnn1.parameters(), lr=learning_rate, weight_decay = weight_decay_val)\n",
    "\n",
    "a=[]\n",
    "for i in cnn1.parameters():\n",
    "    a.append(torch.numel(i))\n",
    "print('Total no of parameters in Model 1:', np.sum(a),)"
   ]
  },
  {
   "cell_type": "code",
   "execution_count": 8,
   "id": "bbeb313e-f7e2-4ed3-b059-190a1d63819f",
   "metadata": {},
   "outputs": [],
   "source": [
    "# train_losses = []\n",
    "# train_epoch = []\n",
    "# train_acc = []\n",
    "# test_losses = []\n",
    "# test_epoch = []\n",
    "# not_converged =True\n",
    "# epoch = 0\n",
    "# Train the model\n",
    "\n",
    "#for epoch in range(num_epochs):\n",
    "def testFunc(model,num_epochs):\n",
    "    n_total_steps = len(train_loader)\n",
    "    train_losses = []\n",
    "    train_epoch = []\n",
    "    train_acc = []\n",
    "    test_losses = []\n",
    "    test_epoch = []\n",
    "    not_converged =True\n",
    "    epoch = 0\n",
    "    while not_converged:\n",
    "        epoch += 1\n",
    "        n_correct = 0\n",
    "        n_samples = 0\n",
    "        for i, (images, labels) in enumerate(train_loader):  \n",
    "            # Forward pass\n",
    "            prediction = model(images)\n",
    "            loss = loss_func(prediction, labels)\n",
    "            # Backward and optimize\n",
    "            optimizer.zero_grad()\n",
    "            loss.backward()\n",
    "            optimizer.step()\n",
    "\n",
    "            _, predicted = torch.max(prediction.data, 1)\n",
    "            n_samples += labels.size(0)\n",
    "            n_correct += (predicted == labels).sum().item()\n",
    "            acc = 100.0 * n_correct / n_samples\n",
    "\n",
    "            if (i+1) % 100 == 0:\n",
    "                print (f'Epoch [{epoch}/{num_epochs}], Step [{i+1}/{n_total_steps}], Loss: {loss.item():.4f}')\n",
    "                train_epoch.append(epoch)\n",
    "                train_losses.append(loss.item())\n",
    "                print(f'Epoch [{epoch}/{num_epochs}], Accuracy : {acc} %')\n",
    "                train_acc.append(acc)\n",
    "\n",
    "                if epoch == num_epochs:\n",
    "                        print(\"Max Epoch Reached\")\n",
    "                        not_converged = False\n",
    "                elif (epoch > 5) and  (train_losses[-1] < 0.001):\n",
    "                    if abs(train_losses[-3] - train_losses[-2]) < 1.0e-05 and abs(train_losses[-2] - train_losses[-1]) < 1.0e-05:\n",
    "                        print(\"Convergeance reached for loss:\",train_losses[-1])\n",
    "                        not_converged = False\n",
    "                        \n",
    "    return train_epoch,train_losses,train_acc"
   ]
  },
  {
   "cell_type": "code",
   "execution_count": 9,
   "id": "cb54c942-f483-4ae5-916b-de2467da80e9",
   "metadata": {},
   "outputs": [
    {
     "name": "stdout",
     "output_type": "stream",
     "text": [
      "Epoch [1/15], Step [100/100], Loss: 0.3931\n",
      "Epoch [1/15], Accuracy : 68.07333333333334 %\n",
      "Epoch [2/15], Step [100/100], Loss: 0.2127\n",
      "Epoch [2/15], Accuracy : 90.495 %\n"
     ]
    },
    {
     "ename": "KeyboardInterrupt",
     "evalue": "",
     "output_type": "error",
     "traceback": [
      "\u001b[1;31m---------------------------------------------------------------------------\u001b[0m",
      "\u001b[1;31mKeyboardInterrupt\u001b[0m                         Traceback (most recent call last)",
      "\u001b[1;32m~\\AppData\\Local\\Temp/ipykernel_22512/3276726869.py\u001b[0m in \u001b[0;36m<module>\u001b[1;34m\u001b[0m\n\u001b[1;32m----> 1\u001b[1;33m \u001b[0mtrain_epoch\u001b[0m\u001b[1;33m,\u001b[0m\u001b[0mtrain_losses\u001b[0m\u001b[1;33m,\u001b[0m\u001b[0mtrain_acc\u001b[0m\u001b[1;33m=\u001b[0m\u001b[0mtestFunc\u001b[0m\u001b[1;33m(\u001b[0m\u001b[0mcnn1\u001b[0m\u001b[1;33m,\u001b[0m\u001b[0mmax_epochs\u001b[0m\u001b[1;33m)\u001b[0m\u001b[1;33m\u001b[0m\u001b[1;33m\u001b[0m\u001b[0m\n\u001b[0m",
      "\u001b[1;32m~\\AppData\\Local\\Temp/ipykernel_22512/1200368565.py\u001b[0m in \u001b[0;36mtestFunc\u001b[1;34m(model, num_epochs)\u001b[0m\n\u001b[0;32m     22\u001b[0m         \u001b[0mn_correct\u001b[0m \u001b[1;33m=\u001b[0m \u001b[1;36m0\u001b[0m\u001b[1;33m\u001b[0m\u001b[1;33m\u001b[0m\u001b[0m\n\u001b[0;32m     23\u001b[0m         \u001b[0mn_samples\u001b[0m \u001b[1;33m=\u001b[0m \u001b[1;36m0\u001b[0m\u001b[1;33m\u001b[0m\u001b[1;33m\u001b[0m\u001b[0m\n\u001b[1;32m---> 24\u001b[1;33m         \u001b[1;32mfor\u001b[0m \u001b[0mi\u001b[0m\u001b[1;33m,\u001b[0m \u001b[1;33m(\u001b[0m\u001b[0mimages\u001b[0m\u001b[1;33m,\u001b[0m \u001b[0mlabels\u001b[0m\u001b[1;33m)\u001b[0m \u001b[1;32min\u001b[0m \u001b[0menumerate\u001b[0m\u001b[1;33m(\u001b[0m\u001b[0mtrain_loader\u001b[0m\u001b[1;33m)\u001b[0m\u001b[1;33m:\u001b[0m\u001b[1;33m\u001b[0m\u001b[1;33m\u001b[0m\u001b[0m\n\u001b[0m\u001b[0;32m     25\u001b[0m             \u001b[1;31m# Forward pass\u001b[0m\u001b[1;33m\u001b[0m\u001b[1;33m\u001b[0m\u001b[0m\n\u001b[0;32m     26\u001b[0m             \u001b[0mprediction\u001b[0m \u001b[1;33m=\u001b[0m \u001b[0mmodel\u001b[0m\u001b[1;33m(\u001b[0m\u001b[0mimages\u001b[0m\u001b[1;33m)\u001b[0m\u001b[1;33m\u001b[0m\u001b[1;33m\u001b[0m\u001b[0m\n",
      "\u001b[1;32mE:\\anaconda3\\envs\\CPSC-8430-DeepLearning\\lib\\site-packages\\torch\\utils\\data\\dataloader.py\u001b[0m in \u001b[0;36m__next__\u001b[1;34m(self)\u001b[0m\n\u001b[0;32m    519\u001b[0m             \u001b[1;32mif\u001b[0m \u001b[0mself\u001b[0m\u001b[1;33m.\u001b[0m\u001b[0m_sampler_iter\u001b[0m \u001b[1;32mis\u001b[0m \u001b[1;32mNone\u001b[0m\u001b[1;33m:\u001b[0m\u001b[1;33m\u001b[0m\u001b[1;33m\u001b[0m\u001b[0m\n\u001b[0;32m    520\u001b[0m                 \u001b[0mself\u001b[0m\u001b[1;33m.\u001b[0m\u001b[0m_reset\u001b[0m\u001b[1;33m(\u001b[0m\u001b[1;33m)\u001b[0m\u001b[1;33m\u001b[0m\u001b[1;33m\u001b[0m\u001b[0m\n\u001b[1;32m--> 521\u001b[1;33m             \u001b[0mdata\u001b[0m \u001b[1;33m=\u001b[0m \u001b[0mself\u001b[0m\u001b[1;33m.\u001b[0m\u001b[0m_next_data\u001b[0m\u001b[1;33m(\u001b[0m\u001b[1;33m)\u001b[0m\u001b[1;33m\u001b[0m\u001b[1;33m\u001b[0m\u001b[0m\n\u001b[0m\u001b[0;32m    522\u001b[0m             \u001b[0mself\u001b[0m\u001b[1;33m.\u001b[0m\u001b[0m_num_yielded\u001b[0m \u001b[1;33m+=\u001b[0m \u001b[1;36m1\u001b[0m\u001b[1;33m\u001b[0m\u001b[1;33m\u001b[0m\u001b[0m\n\u001b[0;32m    523\u001b[0m             \u001b[1;32mif\u001b[0m \u001b[0mself\u001b[0m\u001b[1;33m.\u001b[0m\u001b[0m_dataset_kind\u001b[0m \u001b[1;33m==\u001b[0m \u001b[0m_DatasetKind\u001b[0m\u001b[1;33m.\u001b[0m\u001b[0mIterable\u001b[0m \u001b[1;32mand\u001b[0m\u001b[0;31m \u001b[0m\u001b[0;31m\\\u001b[0m\u001b[1;33m\u001b[0m\u001b[1;33m\u001b[0m\u001b[0m\n",
      "\u001b[1;32mE:\\anaconda3\\envs\\CPSC-8430-DeepLearning\\lib\\site-packages\\torch\\utils\\data\\dataloader.py\u001b[0m in \u001b[0;36m_next_data\u001b[1;34m(self)\u001b[0m\n\u001b[0;32m    559\u001b[0m     \u001b[1;32mdef\u001b[0m \u001b[0m_next_data\u001b[0m\u001b[1;33m(\u001b[0m\u001b[0mself\u001b[0m\u001b[1;33m)\u001b[0m\u001b[1;33m:\u001b[0m\u001b[1;33m\u001b[0m\u001b[1;33m\u001b[0m\u001b[0m\n\u001b[0;32m    560\u001b[0m         \u001b[0mindex\u001b[0m \u001b[1;33m=\u001b[0m \u001b[0mself\u001b[0m\u001b[1;33m.\u001b[0m\u001b[0m_next_index\u001b[0m\u001b[1;33m(\u001b[0m\u001b[1;33m)\u001b[0m  \u001b[1;31m# may raise StopIteration\u001b[0m\u001b[1;33m\u001b[0m\u001b[1;33m\u001b[0m\u001b[0m\n\u001b[1;32m--> 561\u001b[1;33m         \u001b[0mdata\u001b[0m \u001b[1;33m=\u001b[0m \u001b[0mself\u001b[0m\u001b[1;33m.\u001b[0m\u001b[0m_dataset_fetcher\u001b[0m\u001b[1;33m.\u001b[0m\u001b[0mfetch\u001b[0m\u001b[1;33m(\u001b[0m\u001b[0mindex\u001b[0m\u001b[1;33m)\u001b[0m  \u001b[1;31m# may raise StopIteration\u001b[0m\u001b[1;33m\u001b[0m\u001b[1;33m\u001b[0m\u001b[0m\n\u001b[0m\u001b[0;32m    562\u001b[0m         \u001b[1;32mif\u001b[0m \u001b[0mself\u001b[0m\u001b[1;33m.\u001b[0m\u001b[0m_pin_memory\u001b[0m\u001b[1;33m:\u001b[0m\u001b[1;33m\u001b[0m\u001b[1;33m\u001b[0m\u001b[0m\n\u001b[0;32m    563\u001b[0m             \u001b[0mdata\u001b[0m \u001b[1;33m=\u001b[0m \u001b[0m_utils\u001b[0m\u001b[1;33m.\u001b[0m\u001b[0mpin_memory\u001b[0m\u001b[1;33m.\u001b[0m\u001b[0mpin_memory\u001b[0m\u001b[1;33m(\u001b[0m\u001b[0mdata\u001b[0m\u001b[1;33m)\u001b[0m\u001b[1;33m\u001b[0m\u001b[1;33m\u001b[0m\u001b[0m\n",
      "\u001b[1;32mE:\\anaconda3\\envs\\CPSC-8430-DeepLearning\\lib\\site-packages\\torch\\utils\\data\\_utils\\fetch.py\u001b[0m in \u001b[0;36mfetch\u001b[1;34m(self, possibly_batched_index)\u001b[0m\n\u001b[0;32m     47\u001b[0m     \u001b[1;32mdef\u001b[0m \u001b[0mfetch\u001b[0m\u001b[1;33m(\u001b[0m\u001b[0mself\u001b[0m\u001b[1;33m,\u001b[0m \u001b[0mpossibly_batched_index\u001b[0m\u001b[1;33m)\u001b[0m\u001b[1;33m:\u001b[0m\u001b[1;33m\u001b[0m\u001b[1;33m\u001b[0m\u001b[0m\n\u001b[0;32m     48\u001b[0m         \u001b[1;32mif\u001b[0m \u001b[0mself\u001b[0m\u001b[1;33m.\u001b[0m\u001b[0mauto_collation\u001b[0m\u001b[1;33m:\u001b[0m\u001b[1;33m\u001b[0m\u001b[1;33m\u001b[0m\u001b[0m\n\u001b[1;32m---> 49\u001b[1;33m             \u001b[0mdata\u001b[0m \u001b[1;33m=\u001b[0m \u001b[1;33m[\u001b[0m\u001b[0mself\u001b[0m\u001b[1;33m.\u001b[0m\u001b[0mdataset\u001b[0m\u001b[1;33m[\u001b[0m\u001b[0midx\u001b[0m\u001b[1;33m]\u001b[0m \u001b[1;32mfor\u001b[0m \u001b[0midx\u001b[0m \u001b[1;32min\u001b[0m \u001b[0mpossibly_batched_index\u001b[0m\u001b[1;33m]\u001b[0m\u001b[1;33m\u001b[0m\u001b[1;33m\u001b[0m\u001b[0m\n\u001b[0m\u001b[0;32m     50\u001b[0m         \u001b[1;32melse\u001b[0m\u001b[1;33m:\u001b[0m\u001b[1;33m\u001b[0m\u001b[1;33m\u001b[0m\u001b[0m\n\u001b[0;32m     51\u001b[0m             \u001b[0mdata\u001b[0m \u001b[1;33m=\u001b[0m \u001b[0mself\u001b[0m\u001b[1;33m.\u001b[0m\u001b[0mdataset\u001b[0m\u001b[1;33m[\u001b[0m\u001b[0mpossibly_batched_index\u001b[0m\u001b[1;33m]\u001b[0m\u001b[1;33m\u001b[0m\u001b[1;33m\u001b[0m\u001b[0m\n",
      "\u001b[1;32mE:\\anaconda3\\envs\\CPSC-8430-DeepLearning\\lib\\site-packages\\torch\\utils\\data\\_utils\\fetch.py\u001b[0m in \u001b[0;36m<listcomp>\u001b[1;34m(.0)\u001b[0m\n\u001b[0;32m     47\u001b[0m     \u001b[1;32mdef\u001b[0m \u001b[0mfetch\u001b[0m\u001b[1;33m(\u001b[0m\u001b[0mself\u001b[0m\u001b[1;33m,\u001b[0m \u001b[0mpossibly_batched_index\u001b[0m\u001b[1;33m)\u001b[0m\u001b[1;33m:\u001b[0m\u001b[1;33m\u001b[0m\u001b[1;33m\u001b[0m\u001b[0m\n\u001b[0;32m     48\u001b[0m         \u001b[1;32mif\u001b[0m \u001b[0mself\u001b[0m\u001b[1;33m.\u001b[0m\u001b[0mauto_collation\u001b[0m\u001b[1;33m:\u001b[0m\u001b[1;33m\u001b[0m\u001b[1;33m\u001b[0m\u001b[0m\n\u001b[1;32m---> 49\u001b[1;33m             \u001b[0mdata\u001b[0m \u001b[1;33m=\u001b[0m \u001b[1;33m[\u001b[0m\u001b[0mself\u001b[0m\u001b[1;33m.\u001b[0m\u001b[0mdataset\u001b[0m\u001b[1;33m[\u001b[0m\u001b[0midx\u001b[0m\u001b[1;33m]\u001b[0m \u001b[1;32mfor\u001b[0m \u001b[0midx\u001b[0m \u001b[1;32min\u001b[0m \u001b[0mpossibly_batched_index\u001b[0m\u001b[1;33m]\u001b[0m\u001b[1;33m\u001b[0m\u001b[1;33m\u001b[0m\u001b[0m\n\u001b[0m\u001b[0;32m     50\u001b[0m         \u001b[1;32melse\u001b[0m\u001b[1;33m:\u001b[0m\u001b[1;33m\u001b[0m\u001b[1;33m\u001b[0m\u001b[0m\n\u001b[0;32m     51\u001b[0m             \u001b[0mdata\u001b[0m \u001b[1;33m=\u001b[0m \u001b[0mself\u001b[0m\u001b[1;33m.\u001b[0m\u001b[0mdataset\u001b[0m\u001b[1;33m[\u001b[0m\u001b[0mpossibly_batched_index\u001b[0m\u001b[1;33m]\u001b[0m\u001b[1;33m\u001b[0m\u001b[1;33m\u001b[0m\u001b[0m\n",
      "\u001b[1;32mE:\\anaconda3\\envs\\CPSC-8430-DeepLearning\\lib\\site-packages\\torchvision\\datasets\\mnist.py\u001b[0m in \u001b[0;36m__getitem__\u001b[1;34m(self, index)\u001b[0m\n\u001b[0;32m    132\u001b[0m \u001b[1;33m\u001b[0m\u001b[0m\n\u001b[0;32m    133\u001b[0m         \u001b[1;32mif\u001b[0m \u001b[0mself\u001b[0m\u001b[1;33m.\u001b[0m\u001b[0mtransform\u001b[0m \u001b[1;32mis\u001b[0m \u001b[1;32mnot\u001b[0m \u001b[1;32mNone\u001b[0m\u001b[1;33m:\u001b[0m\u001b[1;33m\u001b[0m\u001b[1;33m\u001b[0m\u001b[0m\n\u001b[1;32m--> 134\u001b[1;33m             \u001b[0mimg\u001b[0m \u001b[1;33m=\u001b[0m \u001b[0mself\u001b[0m\u001b[1;33m.\u001b[0m\u001b[0mtransform\u001b[0m\u001b[1;33m(\u001b[0m\u001b[0mimg\u001b[0m\u001b[1;33m)\u001b[0m\u001b[1;33m\u001b[0m\u001b[1;33m\u001b[0m\u001b[0m\n\u001b[0m\u001b[0;32m    135\u001b[0m \u001b[1;33m\u001b[0m\u001b[0m\n\u001b[0;32m    136\u001b[0m         \u001b[1;32mif\u001b[0m \u001b[0mself\u001b[0m\u001b[1;33m.\u001b[0m\u001b[0mtarget_transform\u001b[0m \u001b[1;32mis\u001b[0m \u001b[1;32mnot\u001b[0m \u001b[1;32mNone\u001b[0m\u001b[1;33m:\u001b[0m\u001b[1;33m\u001b[0m\u001b[1;33m\u001b[0m\u001b[0m\n",
      "\u001b[1;32mE:\\anaconda3\\envs\\CPSC-8430-DeepLearning\\lib\\site-packages\\torchvision\\transforms\\transforms.py\u001b[0m in \u001b[0;36m__call__\u001b[1;34m(self, pic)\u001b[0m\n\u001b[0;32m     96\u001b[0m             \u001b[0mTensor\u001b[0m\u001b[1;33m:\u001b[0m \u001b[0mConverted\u001b[0m \u001b[0mimage\u001b[0m\u001b[1;33m.\u001b[0m\u001b[1;33m\u001b[0m\u001b[1;33m\u001b[0m\u001b[0m\n\u001b[0;32m     97\u001b[0m         \"\"\"\n\u001b[1;32m---> 98\u001b[1;33m         \u001b[1;32mreturn\u001b[0m \u001b[0mF\u001b[0m\u001b[1;33m.\u001b[0m\u001b[0mto_tensor\u001b[0m\u001b[1;33m(\u001b[0m\u001b[0mpic\u001b[0m\u001b[1;33m)\u001b[0m\u001b[1;33m\u001b[0m\u001b[1;33m\u001b[0m\u001b[0m\n\u001b[0m\u001b[0;32m     99\u001b[0m \u001b[1;33m\u001b[0m\u001b[0m\n\u001b[0;32m    100\u001b[0m     \u001b[1;32mdef\u001b[0m \u001b[0m__repr__\u001b[0m\u001b[1;33m(\u001b[0m\u001b[0mself\u001b[0m\u001b[1;33m)\u001b[0m\u001b[1;33m:\u001b[0m\u001b[1;33m\u001b[0m\u001b[1;33m\u001b[0m\u001b[0m\n",
      "\u001b[1;32mE:\\anaconda3\\envs\\CPSC-8430-DeepLearning\\lib\\site-packages\\torchvision\\transforms\\functional.py\u001b[0m in \u001b[0;36mto_tensor\u001b[1;34m(pic)\u001b[0m\n\u001b[0;32m    139\u001b[0m     \u001b[0mmode_to_nptype\u001b[0m \u001b[1;33m=\u001b[0m \u001b[1;33m{\u001b[0m\u001b[1;34m'I'\u001b[0m\u001b[1;33m:\u001b[0m \u001b[0mnp\u001b[0m\u001b[1;33m.\u001b[0m\u001b[0mint32\u001b[0m\u001b[1;33m,\u001b[0m \u001b[1;34m'I;16'\u001b[0m\u001b[1;33m:\u001b[0m \u001b[0mnp\u001b[0m\u001b[1;33m.\u001b[0m\u001b[0mint16\u001b[0m\u001b[1;33m,\u001b[0m \u001b[1;34m'F'\u001b[0m\u001b[1;33m:\u001b[0m \u001b[0mnp\u001b[0m\u001b[1;33m.\u001b[0m\u001b[0mfloat32\u001b[0m\u001b[1;33m}\u001b[0m\u001b[1;33m\u001b[0m\u001b[1;33m\u001b[0m\u001b[0m\n\u001b[0;32m    140\u001b[0m     img = torch.from_numpy(\n\u001b[1;32m--> 141\u001b[1;33m         \u001b[0mnp\u001b[0m\u001b[1;33m.\u001b[0m\u001b[0marray\u001b[0m\u001b[1;33m(\u001b[0m\u001b[0mpic\u001b[0m\u001b[1;33m,\u001b[0m \u001b[0mmode_to_nptype\u001b[0m\u001b[1;33m.\u001b[0m\u001b[0mget\u001b[0m\u001b[1;33m(\u001b[0m\u001b[0mpic\u001b[0m\u001b[1;33m.\u001b[0m\u001b[0mmode\u001b[0m\u001b[1;33m,\u001b[0m \u001b[0mnp\u001b[0m\u001b[1;33m.\u001b[0m\u001b[0muint8\u001b[0m\u001b[1;33m)\u001b[0m\u001b[1;33m,\u001b[0m \u001b[0mcopy\u001b[0m\u001b[1;33m=\u001b[0m\u001b[1;32mTrue\u001b[0m\u001b[1;33m)\u001b[0m\u001b[1;33m\u001b[0m\u001b[1;33m\u001b[0m\u001b[0m\n\u001b[0m\u001b[0;32m    142\u001b[0m     )\n\u001b[0;32m    143\u001b[0m \u001b[1;33m\u001b[0m\u001b[0m\n",
      "\u001b[1;32mE:\\anaconda3\\envs\\CPSC-8430-DeepLearning\\lib\\site-packages\\PIL\\Image.py\u001b[0m in \u001b[0;36m__array__\u001b[1;34m(self, dtype)\u001b[0m\n\u001b[0;32m    701\u001b[0m             \u001b[0m__array_interface__\u001b[0m \u001b[1;33m=\u001b[0m \u001b[0mnew\u001b[0m\u001b[1;33m\u001b[0m\u001b[1;33m\u001b[0m\u001b[0m\n\u001b[0;32m    702\u001b[0m \u001b[1;33m\u001b[0m\u001b[0m\n\u001b[1;32m--> 703\u001b[1;33m         \u001b[1;32mreturn\u001b[0m \u001b[0mnp\u001b[0m\u001b[1;33m.\u001b[0m\u001b[0marray\u001b[0m\u001b[1;33m(\u001b[0m\u001b[0mArrayData\u001b[0m\u001b[1;33m(\u001b[0m\u001b[1;33m)\u001b[0m\u001b[1;33m,\u001b[0m \u001b[0mdtype\u001b[0m\u001b[1;33m)\u001b[0m\u001b[1;33m\u001b[0m\u001b[1;33m\u001b[0m\u001b[0m\n\u001b[0m\u001b[0;32m    704\u001b[0m \u001b[1;33m\u001b[0m\u001b[0m\n\u001b[0;32m    705\u001b[0m     \u001b[1;32mdef\u001b[0m \u001b[0m__getstate__\u001b[0m\u001b[1;33m(\u001b[0m\u001b[0mself\u001b[0m\u001b[1;33m)\u001b[0m\u001b[1;33m:\u001b[0m\u001b[1;33m\u001b[0m\u001b[1;33m\u001b[0m\u001b[0m\n",
      "\u001b[1;31mKeyboardInterrupt\u001b[0m: "
     ]
    }
   ],
   "source": [
    "train_epoch,train_losses,train_acc=testFunc(cnn1,max_epochs)"
   ]
  },
  {
   "cell_type": "code",
   "execution_count": null,
   "id": "79b98761-1265-4a21-aab4-80ed56d8ca76",
   "metadata": {},
   "outputs": [
    {
     "data": {
      "image/png": "[encoded data removed]",
      "text/plain": [
       "<Figure size 432x288 with 1 Axes>"
      ]
     },
     "metadata": {
      "needs_background": "light"
     },
     "output_type": "display_data"
    }
   ],
   "source": [
    "#plot\n",
    "plt.plot(train_epoch,train_losses,color=\"blue\")\n",
    "plt.title('CNN Loss VS Epoch')\n",
    "plt.show()"
   ]
  },
  {
   "cell_type": "code",
   "execution_count": null,
   "id": "b6d1fb57-ceac-44ed-bf8c-6b897a911cae",
   "metadata": {},
   "outputs": [
    {
     "data": {
      "image/png": "[encoded data removed]",
      "text/plain": [
       "<Figure size 432x288 with 1 Axes>"
      ]
     },
     "metadata": {
      "needs_background": "light"
     },
     "output_type": "display_data"
    }
   ],
   "source": [
    "#plot\n",
    "plt.plot(train_epoch,train_acc,color=\"red\")\n",
    "plt.title('CNN Accuracy VS Epoch')\n",
    "plt.show()"
   ]
  },
  {
   "cell_type": "code",
   "execution_count": null,
   "id": "176bdbc3-0e7e-4ac4-be00-dc6c294a3179",
   "metadata": {},
   "outputs": [
    {
     "name": "stdout",
     "output_type": "stream",
     "text": [
      "Accuracy of the network: 97.94 %\n",
      "Accuracy of 0: 98.57142857142857 %\n",
      "Accuracy of 1: 98.94273127753304 %\n",
      "Accuracy of 2: 98.93410852713178 %\n",
      "Accuracy of 3: 96.93069306930693 %\n",
      "Accuracy of 4: 98.98167006109979 %\n",
      "Accuracy of 5: 98.65470852017937 %\n",
      "Accuracy of 6: 97.49478079331942 %\n",
      "Accuracy of 7: 97.08171206225681 %\n",
      "Accuracy of 8: 96.09856262833675 %\n",
      "Accuracy of 9: 97.62140733399406 %\n"
     ]
    }
   ],
   "source": [
    "with torch.no_grad():\n",
    "    n_correct = 0\n",
    "    n_samples = 0\n",
    "    n_class_correct = [0 for i in range(10)]\n",
    "    n_class_samples = [0 for i in range(10)]\n",
    "    for test_images, test_labels in test_loader:\n",
    "        outputs = cnn1(test_images)\n",
    "        # max returns (value ,index)\n",
    "        _, predicted = torch.max(outputs, 1)\n",
    "        n_samples += test_labels.size(0)\n",
    "        n_correct += (predicted == test_labels).sum().item()\n",
    "        \n",
    "        for i in range(100):\n",
    "            label = test_labels[i]\n",
    "            pred = predicted[i]\n",
    "            if (label == pred):\n",
    "                n_class_correct[label] += 1\n",
    "            n_class_samples[label] += 1\n",
    "\n",
    "    netTest_acc1 = 100.0 * n_correct / n_samples\n",
    "    print(f'Accuracy of the network: {netTest_acc1} %')\n",
    "\n",
    "    for i in range(10):\n",
    "        acc = 100.0 * n_class_correct[i] / n_class_samples[i]\n",
    "        print(f'Accuracy of {i}: {acc} %')"
   ]
  },
  {
   "cell_type": "code",
   "execution_count": null,
   "id": "3e0e9af7-9e56-43dd-93f5-dc5117563836",
   "metadata": {},
   "outputs": [
    {
     "name": "stdout",
     "output_type": "stream",
     "text": [
      "Accuracy of the network on the test images: 97.93 %\n"
     ]
    }
   ],
   "source": [
    "# Test the model\n",
    "# In test phase, we don't need to compute gradients (for memory efficiency)\n",
    "with torch.no_grad():\n",
    "    n_correct = 0\n",
    "    n_samples = 0\n",
    "    for images, labels in test_loader:\n",
    "        prediction = cnn1(images)\n",
    "        # max returns (value ,index)\n",
    "        _, predicted = torch.max(prediction.data, 1)\n",
    "        n_samples += labels.size(0)\n",
    "        n_correct += (predicted == labels).sum().item()\n",
    "\n",
    "    netTest_acc1 = 100.0 * n_correct / n_samples\n",
    "    print(f'Accuracy of the network on the test images: {netTest_acc1} %')"
   ]
  },
  {
   "cell_type": "code",
   "execution_count": 10,
   "id": "cf7ae8dd-ed01-4327-b374-d4e2356c3403",
   "metadata": {},
   "outputs": [],
   "source": [
    "class CNN2(nn.Module):\n",
    "    def __init__(self,):\n",
    "        super(CNN2, self).__init__()\n",
    "        self.conv1 = nn.Conv2d(1, 10, kernel_size) #1st Convolution\n",
    "        self.pool = nn.MaxPool2d(2, 2)   #pool_size=2, strides=2 \n",
    "        self.conv2 = nn.Conv2d(10, 20, kernel_size) #2nd Convolution\n",
    "        self.fc1 = nn.Linear(20*kernel_size*kernel_size, 50) #((I/P - Filter + 2*Pad)/Stride)+1 \n",
    "        self.fc2 = nn.Linear(50,50)\n",
    "        self.fc3 = nn.Linear(50,40)\n",
    "        self.fc4 = nn.Linear(40,30)\n",
    "        self.fc5 = nn.Linear(30, 10)\n",
    "\n",
    "    def forward(self, x):\n",
    "        # -> n, 3, 32, 32\n",
    "        x = self.pool(F.relu(self.conv1(x)))  \n",
    "        x = self.pool(F.relu(self.conv2(x)))  \n",
    "        x = x.view(-1, 320)            #Flattening \n",
    "        x = F.relu(self.fc1(x))        #Fully Connected NN       \n",
    "        x = F.relu(self.fc2(x))        #Fully Connected NN \n",
    "        x = F.relu(self.fc3(x))        #Fully Connected NN \n",
    "        x = F.relu(self.fc4(x))        #Fully Connected NN\n",
    "        #x = F.relu(self.fc5(x))        #Fully Connected NN \n",
    "        x = self.fc5(x)                #O/P Layer       \n",
    "        return x\n"
   ]
  },
  {
   "cell_type": "code",
   "execution_count": 11,
   "id": "2f561c96-01c0-4da7-890c-476f84ade1cc",
   "metadata": {},
   "outputs": [
    {
     "name": "stdout",
     "output_type": "stream",
     "text": [
      "Total no of parameters in Model 2: 25570\n"
     ]
    }
   ],
   "source": [
    "cnn2 = CNN2()\n",
    "loss_func = nn.CrossEntropyLoss()\n",
    "optimizer = torch.optim.Adam(cnn2.parameters(), lr=learning_rate, weight_decay = weight_decay_val)\n",
    "\n",
    "a=[]\n",
    "\n",
    "for i in cnn2.parameters():\n",
    "    a.append(torch.numel(i))\n",
    "print('Total no of parameters in Model 2:', np.sum(a),)"
   ]
  },
  {
   "cell_type": "code",
   "execution_count": 13,
   "id": "66960f10-866e-4e5b-a734-d28943961ea0",
   "metadata": {},
   "outputs": [
    {
     "name": "stdout",
     "output_type": "stream",
     "text": [
      "Epoch [1/15], Step [100/100], Loss: 0.3905\n",
      "Epoch [1/15], Accuracy : 82.36166666666666 %\n"
     ]
    },
    {
     "ename": "KeyboardInterrupt",
     "evalue": "",
     "output_type": "error",
     "traceback": [
      "\u001b[1;31m---------------------------------------------------------------------------\u001b[0m",
      "\u001b[1;31mKeyboardInterrupt\u001b[0m                         Traceback (most recent call last)",
      "\u001b[1;32m~\\AppData\\Local\\Temp/ipykernel_22512/2928041876.py\u001b[0m in \u001b[0;36m<module>\u001b[1;34m\u001b[0m\n\u001b[1;32m----> 1\u001b[1;33m \u001b[0mtrain_epoch2\u001b[0m\u001b[1;33m,\u001b[0m\u001b[0mtrain_losses2\u001b[0m\u001b[1;33m,\u001b[0m\u001b[0mtrain_acc2\u001b[0m\u001b[1;33m=\u001b[0m\u001b[0mtestFunc\u001b[0m\u001b[1;33m(\u001b[0m\u001b[0mcnn2\u001b[0m\u001b[1;33m,\u001b[0m\u001b[0mmax_epochs\u001b[0m\u001b[1;33m)\u001b[0m\u001b[1;33m\u001b[0m\u001b[1;33m\u001b[0m\u001b[0m\n\u001b[0m",
      "\u001b[1;32m~\\AppData\\Local\\Temp/ipykernel_22512/1200368565.py\u001b[0m in \u001b[0;36mtestFunc\u001b[1;34m(model, num_epochs)\u001b[0m\n\u001b[0;32m     24\u001b[0m         \u001b[1;32mfor\u001b[0m \u001b[0mi\u001b[0m\u001b[1;33m,\u001b[0m \u001b[1;33m(\u001b[0m\u001b[0mimages\u001b[0m\u001b[1;33m,\u001b[0m \u001b[0mlabels\u001b[0m\u001b[1;33m)\u001b[0m \u001b[1;32min\u001b[0m \u001b[0menumerate\u001b[0m\u001b[1;33m(\u001b[0m\u001b[0mtrain_loader\u001b[0m\u001b[1;33m)\u001b[0m\u001b[1;33m:\u001b[0m\u001b[1;33m\u001b[0m\u001b[1;33m\u001b[0m\u001b[0m\n\u001b[0;32m     25\u001b[0m             \u001b[1;31m# Forward pass\u001b[0m\u001b[1;33m\u001b[0m\u001b[1;33m\u001b[0m\u001b[0m\n\u001b[1;32m---> 26\u001b[1;33m             \u001b[0mprediction\u001b[0m \u001b[1;33m=\u001b[0m \u001b[0mmodel\u001b[0m\u001b[1;33m(\u001b[0m\u001b[0mimages\u001b[0m\u001b[1;33m)\u001b[0m\u001b[1;33m\u001b[0m\u001b[1;33m\u001b[0m\u001b[0m\n\u001b[0m\u001b[0;32m     27\u001b[0m             \u001b[0mloss\u001b[0m \u001b[1;33m=\u001b[0m \u001b[0mloss_func\u001b[0m\u001b[1;33m(\u001b[0m\u001b[0mprediction\u001b[0m\u001b[1;33m,\u001b[0m \u001b[0mlabels\u001b[0m\u001b[1;33m)\u001b[0m\u001b[1;33m\u001b[0m\u001b[1;33m\u001b[0m\u001b[0m\n\u001b[0;32m     28\u001b[0m             \u001b[1;31m# Backward and optimize\u001b[0m\u001b[1;33m\u001b[0m\u001b[1;33m\u001b[0m\u001b[0m\n",
      "\u001b[1;32mE:\\anaconda3\\envs\\CPSC-8430-DeepLearning\\lib\\site-packages\\torch\\nn\\modules\\module.py\u001b[0m in \u001b[0;36m_call_impl\u001b[1;34m(self, *input, **kwargs)\u001b[0m\n\u001b[0;32m   1100\u001b[0m         if not (self._backward_hooks or self._forward_hooks or self._forward_pre_hooks or _global_backward_hooks\n\u001b[0;32m   1101\u001b[0m                 or _global_forward_hooks or _global_forward_pre_hooks):\n\u001b[1;32m-> 1102\u001b[1;33m             \u001b[1;32mreturn\u001b[0m \u001b[0mforward_call\u001b[0m\u001b[1;33m(\u001b[0m\u001b[1;33m*\u001b[0m\u001b[0minput\u001b[0m\u001b[1;33m,\u001b[0m \u001b[1;33m**\u001b[0m\u001b[0mkwargs\u001b[0m\u001b[1;33m)\u001b[0m\u001b[1;33m\u001b[0m\u001b[1;33m\u001b[0m\u001b[0m\n\u001b[0m\u001b[0;32m   1103\u001b[0m         \u001b[1;31m# Do not call functions when jit is used\u001b[0m\u001b[1;33m\u001b[0m\u001b[1;33m\u001b[0m\u001b[0m\n\u001b[0;32m   1104\u001b[0m         \u001b[0mfull_backward_hooks\u001b[0m\u001b[1;33m,\u001b[0m \u001b[0mnon_full_backward_hooks\u001b[0m \u001b[1;33m=\u001b[0m \u001b[1;33m[\u001b[0m\u001b[1;33m]\u001b[0m\u001b[1;33m,\u001b[0m \u001b[1;33m[\u001b[0m\u001b[1;33m]\u001b[0m\u001b[1;33m\u001b[0m\u001b[1;33m\u001b[0m\u001b[0m\n",
      "\u001b[1;32m~\\AppData\\Local\\Temp/ipykernel_22512/1097253482.py\u001b[0m in \u001b[0;36mforward\u001b[1;34m(self, x)\u001b[0m\n\u001b[0;32m     13\u001b[0m     \u001b[1;32mdef\u001b[0m \u001b[0mforward\u001b[0m\u001b[1;33m(\u001b[0m\u001b[0mself\u001b[0m\u001b[1;33m,\u001b[0m \u001b[0mx\u001b[0m\u001b[1;33m)\u001b[0m\u001b[1;33m:\u001b[0m\u001b[1;33m\u001b[0m\u001b[1;33m\u001b[0m\u001b[0m\n\u001b[0;32m     14\u001b[0m         \u001b[1;31m# -> n, 3, 32, 32\u001b[0m\u001b[1;33m\u001b[0m\u001b[1;33m\u001b[0m\u001b[0m\n\u001b[1;32m---> 15\u001b[1;33m         \u001b[0mx\u001b[0m \u001b[1;33m=\u001b[0m \u001b[0mself\u001b[0m\u001b[1;33m.\u001b[0m\u001b[0mpool\u001b[0m\u001b[1;33m(\u001b[0m\u001b[0mF\u001b[0m\u001b[1;33m.\u001b[0m\u001b[0mrelu\u001b[0m\u001b[1;33m(\u001b[0m\u001b[0mself\u001b[0m\u001b[1;33m.\u001b[0m\u001b[0mconv1\u001b[0m\u001b[1;33m(\u001b[0m\u001b[0mx\u001b[0m\u001b[1;33m)\u001b[0m\u001b[1;33m)\u001b[0m\u001b[1;33m)\u001b[0m\u001b[1;33m\u001b[0m\u001b[1;33m\u001b[0m\u001b[0m\n\u001b[0m\u001b[0;32m     16\u001b[0m         \u001b[0mx\u001b[0m \u001b[1;33m=\u001b[0m \u001b[0mself\u001b[0m\u001b[1;33m.\u001b[0m\u001b[0mpool\u001b[0m\u001b[1;33m(\u001b[0m\u001b[0mF\u001b[0m\u001b[1;33m.\u001b[0m\u001b[0mrelu\u001b[0m\u001b[1;33m(\u001b[0m\u001b[0mself\u001b[0m\u001b[1;33m.\u001b[0m\u001b[0mconv2\u001b[0m\u001b[1;33m(\u001b[0m\u001b[0mx\u001b[0m\u001b[1;33m)\u001b[0m\u001b[1;33m)\u001b[0m\u001b[1;33m)\u001b[0m\u001b[1;33m\u001b[0m\u001b[1;33m\u001b[0m\u001b[0m\n\u001b[0;32m     17\u001b[0m         \u001b[0mx\u001b[0m \u001b[1;33m=\u001b[0m \u001b[0mx\u001b[0m\u001b[1;33m.\u001b[0m\u001b[0mview\u001b[0m\u001b[1;33m(\u001b[0m\u001b[1;33m-\u001b[0m\u001b[1;36m1\u001b[0m\u001b[1;33m,\u001b[0m \u001b[1;36m320\u001b[0m\u001b[1;33m)\u001b[0m            \u001b[1;31m#Flattening\u001b[0m\u001b[1;33m\u001b[0m\u001b[1;33m\u001b[0m\u001b[0m\n",
      "\u001b[1;32mE:\\anaconda3\\envs\\CPSC-8430-DeepLearning\\lib\\site-packages\\torch\\nn\\modules\\module.py\u001b[0m in \u001b[0;36m_call_impl\u001b[1;34m(self, *input, **kwargs)\u001b[0m\n\u001b[0;32m   1100\u001b[0m         if not (self._backward_hooks or self._forward_hooks or self._forward_pre_hooks or _global_backward_hooks\n\u001b[0;32m   1101\u001b[0m                 or _global_forward_hooks or _global_forward_pre_hooks):\n\u001b[1;32m-> 1102\u001b[1;33m             \u001b[1;32mreturn\u001b[0m \u001b[0mforward_call\u001b[0m\u001b[1;33m(\u001b[0m\u001b[1;33m*\u001b[0m\u001b[0minput\u001b[0m\u001b[1;33m,\u001b[0m \u001b[1;33m**\u001b[0m\u001b[0mkwargs\u001b[0m\u001b[1;33m)\u001b[0m\u001b[1;33m\u001b[0m\u001b[1;33m\u001b[0m\u001b[0m\n\u001b[0m\u001b[0;32m   1103\u001b[0m         \u001b[1;31m# Do not call functions when jit is used\u001b[0m\u001b[1;33m\u001b[0m\u001b[1;33m\u001b[0m\u001b[0m\n\u001b[0;32m   1104\u001b[0m         \u001b[0mfull_backward_hooks\u001b[0m\u001b[1;33m,\u001b[0m \u001b[0mnon_full_backward_hooks\u001b[0m \u001b[1;33m=\u001b[0m \u001b[1;33m[\u001b[0m\u001b[1;33m]\u001b[0m\u001b[1;33m,\u001b[0m \u001b[1;33m[\u001b[0m\u001b[1;33m]\u001b[0m\u001b[1;33m\u001b[0m\u001b[1;33m\u001b[0m\u001b[0m\n",
      "\u001b[1;32mE:\\anaconda3\\envs\\CPSC-8430-DeepLearning\\lib\\site-packages\\torch\\nn\\modules\\conv.py\u001b[0m in \u001b[0;36mforward\u001b[1;34m(self, input)\u001b[0m\n\u001b[0;32m    444\u001b[0m \u001b[1;33m\u001b[0m\u001b[0m\n\u001b[0;32m    445\u001b[0m     \u001b[1;32mdef\u001b[0m \u001b[0mforward\u001b[0m\u001b[1;33m(\u001b[0m\u001b[0mself\u001b[0m\u001b[1;33m,\u001b[0m \u001b[0minput\u001b[0m\u001b[1;33m:\u001b[0m \u001b[0mTensor\u001b[0m\u001b[1;33m)\u001b[0m \u001b[1;33m->\u001b[0m \u001b[0mTensor\u001b[0m\u001b[1;33m:\u001b[0m\u001b[1;33m\u001b[0m\u001b[1;33m\u001b[0m\u001b[0m\n\u001b[1;32m--> 446\u001b[1;33m         \u001b[1;32mreturn\u001b[0m \u001b[0mself\u001b[0m\u001b[1;33m.\u001b[0m\u001b[0m_conv_forward\u001b[0m\u001b[1;33m(\u001b[0m\u001b[0minput\u001b[0m\u001b[1;33m,\u001b[0m \u001b[0mself\u001b[0m\u001b[1;33m.\u001b[0m\u001b[0mweight\u001b[0m\u001b[1;33m,\u001b[0m \u001b[0mself\u001b[0m\u001b[1;33m.\u001b[0m\u001b[0mbias\u001b[0m\u001b[1;33m)\u001b[0m\u001b[1;33m\u001b[0m\u001b[1;33m\u001b[0m\u001b[0m\n\u001b[0m\u001b[0;32m    447\u001b[0m \u001b[1;33m\u001b[0m\u001b[0m\n\u001b[0;32m    448\u001b[0m \u001b[1;32mclass\u001b[0m \u001b[0mConv3d\u001b[0m\u001b[1;33m(\u001b[0m\u001b[0m_ConvNd\u001b[0m\u001b[1;33m)\u001b[0m\u001b[1;33m:\u001b[0m\u001b[1;33m\u001b[0m\u001b[1;33m\u001b[0m\u001b[0m\n",
      "\u001b[1;32mE:\\anaconda3\\envs\\CPSC-8430-DeepLearning\\lib\\site-packages\\torch\\nn\\modules\\conv.py\u001b[0m in \u001b[0;36m_conv_forward\u001b[1;34m(self, input, weight, bias)\u001b[0m\n\u001b[0;32m    440\u001b[0m                             \u001b[0mweight\u001b[0m\u001b[1;33m,\u001b[0m \u001b[0mbias\u001b[0m\u001b[1;33m,\u001b[0m \u001b[0mself\u001b[0m\u001b[1;33m.\u001b[0m\u001b[0mstride\u001b[0m\u001b[1;33m,\u001b[0m\u001b[1;33m\u001b[0m\u001b[1;33m\u001b[0m\u001b[0m\n\u001b[0;32m    441\u001b[0m                             _pair(0), self.dilation, self.groups)\n\u001b[1;32m--> 442\u001b[1;33m         return F.conv2d(input, weight, bias, self.stride,\n\u001b[0m\u001b[0;32m    443\u001b[0m                         self.padding, self.dilation, self.groups)\n\u001b[0;32m    444\u001b[0m \u001b[1;33m\u001b[0m\u001b[0m\n",
      "\u001b[1;31mKeyboardInterrupt\u001b[0m: "
     ]
    }
   ],
   "source": [
    "train_epoch2,train_losses2,train_acc2=testFunc(cnn2,max_epochs)"
   ]
  },
  {
   "cell_type": "code",
   "execution_count": null,
   "id": "ff932594-acd4-47c2-b341-149167335979",
   "metadata": {},
   "outputs": [
    {
     "data": {
      "image/png": "[encoded data removed]",
      "text/plain": [
       "<Figure size 432x288 with 1 Axes>"
      ]
     },
     "metadata": {
      "needs_background": "light"
     },
     "output_type": "display_data"
    }
   ],
   "source": [
    "#plot\n",
    "plt.plot(train_epoch2,train_losses2,color=\"blue\")\n",
    "plt.title('CNN Loss VS Epoch')\n",
    "plt.show()"
   ]
  },
  {
   "cell_type": "code",
   "execution_count": null,
   "id": "c6eaa7a2-5920-4b48-a52b-18fa733dbf78",
   "metadata": {},
   "outputs": [
    {
     "data": {
      "image/png": "[encoded data removed]",
      "text/plain": [
       "<Figure size 432x288 with 1 Axes>"
      ]
     },
     "metadata": {
      "needs_background": "light"
     },
     "output_type": "display_data"
    }
   ],
   "source": [
    "#plot\n",
    "plt.plot(train_epoch2,train_acc2,color=\"red\")\n",
    "plt.title('CNN accuracy VS Epoch')\n",
    "plt.show()"
   ]
  },
  {
   "cell_type": "code",
   "execution_count": null,
   "id": "a54db4b2-75b1-4321-ad01-f2921009dfd9",
   "metadata": {},
   "outputs": [
    {
     "name": "stdout",
     "output_type": "stream",
     "text": [
      "Accuracy of the network: 98.18 %\n",
      "Accuracy of 0: 99.28571428571429 %\n",
      "Accuracy of 1: 99.47136563876651 %\n",
      "Accuracy of 2: 96.89922480620154 %\n",
      "Accuracy of 3: 98.31683168316832 %\n",
      "Accuracy of 4: 99.38900203665987 %\n",
      "Accuracy of 5: 97.30941704035874 %\n",
      "Accuracy of 6: 98.32985386221294 %\n",
      "Accuracy of 7: 98.15175097276264 %\n",
      "Accuracy of 8: 97.3305954825462 %\n",
      "Accuracy of 9: 97.12586719524282 %\n"
     ]
    }
   ],
   "source": [
    "with torch.no_grad():\n",
    "    n_correct = 0\n",
    "    n_samples = 0\n",
    "    n_class_correct = [0 for i in range(10)]\n",
    "    n_class_samples = [0 for i in range(10)]\n",
    "    for test_images, test_labels in test_loader:\n",
    "        outputs = cnn2(test_images)\n",
    "        # max returns (value ,index)\n",
    "        _, predicted = torch.max(outputs, 1)\n",
    "        n_samples += test_labels.size(0)\n",
    "        n_correct += (predicted == test_labels).sum().item()\n",
    "        \n",
    "        for i in range(100):\n",
    "            label = test_labels[i]\n",
    "            pred = predicted[i]\n",
    "            if (label == pred):\n",
    "                n_class_correct[label] += 1\n",
    "            n_class_samples[label] += 1\n",
    "\n",
    "    netTest_acc2 = 100.0 * n_correct / n_samples\n",
    "    print(f'Accuracy of the network: {netTest_acc2} %')\n",
    "\n",
    "    for i in range(10):\n",
    "        acc = 100.0 * n_class_correct[i] / n_class_samples[i]\n",
    "        print(f'Accuracy of {i}: {acc} %')"
   ]
  },
  {
   "cell_type": "code",
   "execution_count": null,
   "id": "5191f093",
   "metadata": {},
   "outputs": [],
   "source": [
    "#Model 3\n",
    "class CNN3(nn.Module):\n",
    "    def __init__(self,): \n",
    "        super(CNN3, self).__init__()\n",
    "        self.conv1 = nn.Conv2d(1, 10, 5)\n",
    "        self.pool = nn.MaxPool2d(2, 2)\n",
    "        self.conv2 = nn.Conv2d(10, 15, 5)\n",
    "        #self.conv3 =  nn.Conv2d(16,32,5)\n",
    "        self.fc1 = nn.Linear(15*4*4, 86)\n",
    "        self.fc2 = nn.Linear(86, 10)\n",
    "        #self.fc3 = nn.Linear(l2, 10)\n",
    "\n",
    "    def forward(self, x):\n",
    "        x = self.pool(F.relu(self.conv1(x)))\n",
    "        x = self.pool(F.relu(self.conv2(x)))\n",
    "        #x = self.pool(F.relu(self.conv3(x)))\n",
    "        #print(x.shape)\n",
    "        x = x.view(-1, 15*4*4)\n",
    "        x = F.relu(self.fc1(x))\n",
    "        x = self.fc2(x)\n",
    "        # x = F.relu(self.fc2(x))\n",
    "        # x = self.fc3(x)\n",
    "        return x"
   ]
  },
  {
   "cell_type": "code",
   "execution_count": null,
   "id": "7198aaa1",
   "metadata": {},
   "outputs": [
    {
     "name": "stdout",
     "output_type": "stream",
     "text": [
      "Total no of parameters in Model 3: 25621\n"
     ]
    }
   ],
   "source": [
    "cnn3 = CNN3()\n",
    "loss_func = nn.CrossEntropyLoss()\n",
    "optimizer = torch.optim.Adam(cnn3.parameters(), lr=learning_rate, weight_decay = weight_decay_val)\n",
    "\n",
    "a=[]\n",
    "\n",
    "for i in cnn3.parameters():\n",
    "    a.append(torch.numel(i))\n",
    "print('Total no of parameters in Model 3:', np.sum(a))"
   ]
  },
  {
   "cell_type": "code",
   "execution_count": null,
   "id": "81995f96",
   "metadata": {},
   "outputs": [
    {
     "name": "stdout",
     "output_type": "stream",
     "text": [
      "Epoch [1/15], Step [100/100], Loss: 0.2840\n",
      "Epoch [1/15], Accuracy : 76.73166666666667 %\n",
      "Epoch [2/15], Step [100/100], Loss: 0.1750\n",
      "Epoch [2/15], Accuracy : 93.75166666666667 %\n",
      "Epoch [3/15], Step [100/100], Loss: 0.1205\n",
      "Epoch [3/15], Accuracy : 96.02666666666667 %\n",
      "Epoch [4/15], Step [100/100], Loss: 0.0755\n",
      "Epoch [4/15], Accuracy : 96.94 %\n",
      "Epoch [5/15], Step [100/100], Loss: 0.0926\n",
      "Epoch [5/15], Accuracy : 97.47333333333333 %\n",
      "Epoch [6/15], Step [100/100], Loss: 0.0549\n",
      "Epoch [6/15], Accuracy : 97.91833333333334 %\n",
      "Epoch [7/15], Step [100/100], Loss: 0.0638\n",
      "Epoch [7/15], Accuracy : 98.03 %\n",
      "Epoch [8/15], Step [100/100], Loss: 0.0569\n",
      "Epoch [8/15], Accuracy : 98.24 %\n",
      "Epoch [9/15], Step [100/100], Loss: 0.0451\n",
      "Epoch [9/15], Accuracy : 98.44 %\n",
      "Epoch [10/15], Step [100/100], Loss: 0.0573\n",
      "Epoch [10/15], Accuracy : 98.57666666666667 %\n",
      "Epoch [11/15], Step [100/100], Loss: 0.0667\n",
      "Epoch [11/15], Accuracy : 98.67833333333333 %\n",
      "Epoch [12/15], Step [100/100], Loss: 0.0478\n",
      "Epoch [12/15], Accuracy : 98.74833333333333 %\n",
      "Epoch [13/15], Step [100/100], Loss: 0.0406\n",
      "Epoch [13/15], Accuracy : 98.77166666666666 %\n",
      "Epoch [14/15], Step [100/100], Loss: 0.0359\n",
      "Epoch [14/15], Accuracy : 98.92666666666666 %\n",
      "Epoch [15/15], Step [100/100], Loss: 0.0206\n",
      "Epoch [15/15], Accuracy : 98.955 %\n",
      "Max Epoch Reached\n"
     ]
    }
   ],
   "source": [
    "train_epoch3,train_losses3,train_acc3=testFunc(cnn3,max_epochs)"
   ]
  },
  {
   "cell_type": "code",
   "execution_count": null,
   "id": "7e323be9-9179-45ba-9441-4da4d7a763cc",
   "metadata": {},
   "outputs": [
    {
     "data": {
      "image/png": "[encoded data removed]",
      "text/plain": [
       "<Figure size 432x288 with 1 Axes>"
      ]
     },
     "metadata": {
      "needs_background": "light"
     },
     "output_type": "display_data"
    }
   ],
   "source": [
    "#plot\n",
    "plt.plot(train_epoch3,train_losses3,color=\"blue\")\n",
    "plt.title('CNN Loss VS Epoch')\n",
    "plt.show()"
   ]
  },
  {
   "cell_type": "code",
   "execution_count": null,
   "id": "d28327a9",
   "metadata": {},
   "outputs": [
    {
     "data": {
      "image/png": "[encoded data removed]",
      "text/plain": [
       "<Figure size 432x288 with 1 Axes>"
      ]
     },
     "metadata": {
      "needs_background": "light"
     },
     "output_type": "display_data"
    }
   ],
   "source": [
    "#plot\n",
    "plt.plot(train_epoch3,train_acc3,color=\"red\")\n",
    "plt.title('CNN accuracy VS Epoch')\n",
    "plt.show()"
   ]
  },
  {
   "cell_type": "code",
   "execution_count": null,
   "id": "8dd3e552",
   "metadata": {},
   "outputs": [
    {
     "name": "stdout",
     "output_type": "stream",
     "text": [
      "Accuracy of the network: 98.88 %\n",
      "Accuracy of 0: 99.48979591836735 %\n",
      "Accuracy of 1: 99.8237885462555 %\n",
      "Accuracy of 2: 98.93410852713178 %\n",
      "Accuracy of 3: 99.3069306930693 %\n",
      "Accuracy of 4: 98.98167006109979 %\n",
      "Accuracy of 5: 98.09417040358744 %\n",
      "Accuracy of 6: 98.53862212943632 %\n",
      "Accuracy of 7: 97.47081712062257 %\n",
      "Accuracy of 8: 98.76796714579055 %\n",
      "Accuracy of 9: 99.20713577799802 %\n"
     ]
    }
   ],
   "source": [
    "with torch.no_grad():\n",
    "    n_correct = 0\n",
    "    n_samples = 0\n",
    "    n_class_correct = [0 for i in range(10)]\n",
    "    n_class_samples = [0 for i in range(10)]\n",
    "    for test_images, test_labels in test_loader:\n",
    "        outputs = cnn3(test_images)\n",
    "        # max returns (value ,index)\n",
    "        _, predicted = torch.max(outputs, 1)\n",
    "        n_samples += test_labels.size(0)\n",
    "        n_correct += (predicted == test_labels).sum().item()\n",
    "        \n",
    "        for i in range(100):\n",
    "            label = test_labels[i]\n",
    "            pred = predicted[i]\n",
    "            if (label == pred):\n",
    "                n_class_correct[label] += 1\n",
    "            n_class_samples[label] += 1\n",
    "\n",
    "    netTest_acc3 = 100.0 * n_correct / n_samples\n",
    "    print(f'Accuracy of the network: {netTest_acc3} %')\n",
    "\n",
    "    for i in range(10):\n",
    "        acc = 100.0 * n_class_correct[i] / n_class_samples[i]\n",
    "        print(f'Accuracy of {i}: {acc} %')"
   ]
  },
  {
   "cell_type": "code",
   "execution_count": null,
   "id": "8a90c55c",
   "metadata": {},
   "outputs": [
    {
     "data": {
      "image/png": "[encoded data removed]",
      "text/plain": [
       "<Figure size 720x288 with 1 Axes>"
      ]
     },
     "metadata": {
      "needs_background": "light"
     },
     "output_type": "display_data"
    },
    {
     "data": {
      "image/png": "[encoded data removed]",
      "text/plain": [
       "<Figure size 720x288 with 1 Axes>"
      ]
     },
     "metadata": {
      "needs_background": "light"
     },
     "output_type": "display_data"
    },
    {
     "name": "stdout",
     "output_type": "stream",
     "text": [
      "CNN1 Test Accuracy: 97.93 % \n",
      "CNN2 Test Accuracy: 98.18 % \n",
      "CNN3 Test Accuracy: 98.88 %\n"
     ]
    }
   ],
   "source": [
    "plt.figure(figsize=(10,4))\n",
    "plt.plot(train_epoch,train_losses, color = \"red\")\n",
    "plt.plot(train_epoch2,train_losses2, color = \"blue\")\n",
    "plt.plot(train_epoch3,train_losses3, color = \"green\")\n",
    "plt.title('Learnig progression of model (Loss)')\n",
    "plt.legend(['First Model', 'Second Model','Thrid Model'])\n",
    "plt.xlabel('Epoch')\n",
    "plt.ylabel('Loss')\n",
    "plt.savefig('EpochVSLoss.png')\n",
    "plt.show()\n",
    "\n",
    "plt.figure(figsize=(10,4))\n",
    "plt.plot(train_epoch,train_acc,color=\"red\")\n",
    "plt.plot(train_epoch2,train_acc2,color=\"blue\")\n",
    "plt.plot(train_epoch3,train_acc3,color=\"green\")\n",
    "plt.title('Model Train Accuraccy')\n",
    "plt.legend(['First Model', 'Second Model','Thrid Model'])\n",
    "plt.xlabel('Function')\n",
    "plt.ylabel('Target')\n",
    "plt.savefig('Model_Prediction.png')\n",
    "plt.show()\n",
    "\n",
    "print('CNN1 Test Accuracy:',netTest_acc1,'%','\\nCNN2 Test Accuracy:',netTest_acc2,'%','\\nCNN3 Test Accuracy:',netTest_acc3,'%')"
   ]
  },
  {
   "cell_type": "code",
   "execution_count": null,
   "id": "3e901095",
   "metadata": {},
   "outputs": [],
   "source": [
    "##Skorch Optimization##\n",
    "import skorch\n",
    "from skorch import NeuralNetClassifier\n",
    "import sklearn\n",
    "from sklearn.model_selection import GridSearchCV\n",
    "\n"
   ]
  },
  {
   "cell_type": "code",
   "execution_count": null,
   "id": "78a92fbc",
   "metadata": {},
   "outputs": [],
   "source": [
    "net = NeuralNetClassifier(\n",
    "    CNN3,\n",
    "    max_epochs=15,\n",
    "    lr=0.1,\n",
    "    #loss_function= torch.nn.CrossEntropyLoss(),\n",
    "    optimizer = torch.optim.Adam,\n",
    "    #device=device,\n",
    ")\n",
    "\n",
    "params = {\n",
    "    'lr': [0.01,0.015, 0.02,0.001],\n",
    "    'max_epochs': [5, 10, 15],\n",
    "    'optimizer': [torch.optim.Adam, torch.optim.RMSprop,torch.optim.SGD ],\n",
    "    #'loss_function': [torch.nn.CrossEntropyLoss(),torch.nn.MSELoss()]\n",
    "}"
   ]
  },
  {
   "cell_type": "code",
   "execution_count": null,
   "id": "ae09aa12",
   "metadata": {},
   "outputs": [
    {
     "name": "stdout",
     "output_type": "stream",
     "text": [
      "  epoch    train_loss    valid_acc    valid_loss     dur\n",
      "-------  ------------  -----------  ------------  ------\n",
      "      1           nan       \u001b[32m0.0714\u001b[0m           nan  0.0130\n",
      "      2           nan       0.0714           nan  0.0100\n",
      "      3           nan       0.0714           nan  0.0120\n",
      "      4           nan       0.0714           nan  0.0100\n",
      "      5           nan       0.0714           nan  0.0100\n",
      "  epoch    train_loss    valid_acc    valid_loss     dur\n",
      "-------  ------------  -----------  ------------  ------\n",
      "      1           nan       \u001b[32m0.0714\u001b[0m           nan  0.0100\n",
      "      2           nan       0.0714           nan  0.0140\n",
      "      3           nan       0.0714           nan  0.0140\n",
      "      4           nan       0.0714           nan  0.0130\n",
      "      5           nan       0.0714           nan  0.0100\n",
      "  epoch    train_loss    valid_acc    valid_loss     dur\n",
      "-------  ------------  -----------  ------------  ------\n",
      "      1           nan       \u001b[32m0.0714\u001b[0m           nan  0.0110\n",
      "      2           nan       \u001b[32m0.1429\u001b[0m           nan  0.0110\n"
     ]
    },
    {
     "name": "stderr",
     "output_type": "stream",
     "text": [
      "E:\\anaconda3\\envs\\CPSC-8430-DeepLearning\\lib\\site-packages\\sklearn\\model_selection\\_split.py:676: UserWarning: The least populated class in y has only 4 members, which is less than n_splits=5.\n",
      "  warnings.warn(\n",
      "E:\\anaconda3\\envs\\CPSC-8430-DeepLearning\\lib\\site-packages\\sklearn\\model_selection\\_split.py:676: UserWarning: The least populated class in y has only 4 members, which is less than n_splits=5.\n",
      "  warnings.warn(\n",
      "E:\\anaconda3\\envs\\CPSC-8430-DeepLearning\\lib\\site-packages\\sklearn\\model_selection\\_split.py:676: UserWarning: The least populated class in y has only 4 members, which is less than n_splits=5.\n",
      "  warnings.warn(\n"
     ]
    },
    {
     "name": "stdout",
     "output_type": "stream",
     "text": [
      "      3           nan       0.0714           nan  0.0110\n",
      "      4           nan       \u001b[32m0.2143\u001b[0m           nan  0.0110\n",
      "      5           nan       0.1429           nan  0.0120\n",
      "  epoch    train_loss    valid_acc    valid_loss     dur\n",
      "-------  ------------  -----------  ------------  ------\n",
      "      1           nan       \u001b[32m0.0714\u001b[0m           nan  0.0090\n",
      "      2           nan       0.0714           nan  0.0120\n",
      "      3           nan       0.0714           nan  0.0120\n",
      "      4           nan       0.0714           nan  0.0100\n",
      "      5           nan       0.0714           nan  0.0120\n",
      "  epoch    train_loss    valid_acc    valid_loss     dur\n",
      "-------  ------------  -----------  ------------  ------\n",
      "      1           nan       \u001b[32m0.1429\u001b[0m           nan  0.0110\n",
      "      2           nan       0.0714           nan  0.0110\n",
      "      3           nan       0.0714           nan  0.0100\n",
      "      4           nan       0.0714           nan  0.0110\n",
      "      5           nan       0.0714           nan  0.0110\n",
      "  epoch    train_loss    valid_acc    valid_loss     dur\n",
      "-------  ------------  -----------  ------------  ------\n",
      "      1           nan       \u001b[32m0.1429\u001b[0m           nan  0.0100\n",
      "      2           nan       0.1429           nan  0.0110\n",
      "      3           nan       0.1429           nan  0.0120\n",
      "      4           nan       0.1429           nan  0.0110\n"
     ]
    },
    {
     "name": "stderr",
     "output_type": "stream",
     "text": [
      "E:\\anaconda3\\envs\\CPSC-8430-DeepLearning\\lib\\site-packages\\sklearn\\model_selection\\_split.py:676: UserWarning: The least populated class in y has only 4 members, which is less than n_splits=5.\n",
      "  warnings.warn(\n",
      "E:\\anaconda3\\envs\\CPSC-8430-DeepLearning\\lib\\site-packages\\sklearn\\model_selection\\_split.py:676: UserWarning: The least populated class in y has only 4 members, which is less than n_splits=5.\n",
      "  warnings.warn(\n",
      "E:\\anaconda3\\envs\\CPSC-8430-DeepLearning\\lib\\site-packages\\sklearn\\model_selection\\_split.py:676: UserWarning: The least populated class in y has only 4 members, which is less than n_splits=5.\n",
      "  warnings.warn(\n"
     ]
    },
    {
     "name": "stdout",
     "output_type": "stream",
     "text": [
      "      5           nan       0.1429           nan  0.0110\n",
      "  epoch    train_loss    valid_acc    valid_loss     dur\n",
      "-------  ------------  -----------  ------------  ------\n",
      "      1           nan       \u001b[32m0.1429\u001b[0m           nan  0.0090\n",
      "      2           nan       0.0714           nan  0.0110\n",
      "      3           nan       0.0714           nan  0.0110\n",
      "      4           nan       0.0714           nan  0.0110\n",
      "      5           nan       0.0714           nan  0.0100\n",
      "  epoch    train_loss    valid_acc    valid_loss     dur\n",
      "-------  ------------  -----------  ------------  ------\n",
      "      1           nan       \u001b[32m0.0714\u001b[0m           nan  0.0110\n",
      "      2           nan       0.0714           nan  0.0120\n",
      "      3           nan       0.0714           nan  0.0110\n",
      "      4           nan       0.0714           nan  0.0110\n",
      "      5           nan       0.0714           nan  0.0120\n",
      "  epoch    train_loss    valid_acc    valid_loss     dur\n",
      "-------  ------------  -----------  ------------  ------\n",
      "      1           nan       \u001b[32m0.1429\u001b[0m           nan  0.0100\n",
      "      2           nan       0.1429           nan  0.0100\n",
      "      3           nan       \u001b[32m0.2143\u001b[0m           nan  0.0110\n",
      "      4           nan       0.1429           nan  0.0110\n"
     ]
    },
    {
     "name": "stderr",
     "output_type": "stream",
     "text": [
      "E:\\anaconda3\\envs\\CPSC-8430-DeepLearning\\lib\\site-packages\\sklearn\\model_selection\\_split.py:676: UserWarning: The least populated class in y has only 4 members, which is less than n_splits=5.\n",
      "  warnings.warn(\n",
      "E:\\anaconda3\\envs\\CPSC-8430-DeepLearning\\lib\\site-packages\\sklearn\\model_selection\\_split.py:676: UserWarning: The least populated class in y has only 4 members, which is less than n_splits=5.\n",
      "  warnings.warn(\n",
      "E:\\anaconda3\\envs\\CPSC-8430-DeepLearning\\lib\\site-packages\\sklearn\\model_selection\\_split.py:676: UserWarning: The least populated class in y has only 4 members, which is less than n_splits=5.\n",
      "  warnings.warn(\n"
     ]
    },
    {
     "name": "stdout",
     "output_type": "stream",
     "text": [
      "      5           nan       0.1429           nan  0.0110\n",
      "  epoch    train_loss    valid_acc    valid_loss     dur\n",
      "-------  ------------  -----------  ------------  ------\n",
      "      1           nan       \u001b[32m0.1429\u001b[0m           nan  0.0110\n",
      "      2           nan       0.0714           nan  0.0130\n",
      "      3           nan       0.0714           nan  0.0110\n",
      "      4           nan       0.1429           nan  0.0110\n",
      "      5           nan       0.0714           nan  0.0110\n",
      "      6           nan       0.0714           nan  0.0110\n",
      "      7           nan       0.0714           nan  0.0120\n",
      "      8           nan       0.0714           nan  0.0120\n",
      "      9           nan       0.0714           nan  0.0100\n",
      "     10           nan       0.0714           nan  0.0120\n",
      "  epoch    train_loss    valid_acc    valid_loss     dur\n",
      "-------  ------------  -----------  ------------  ------\n",
      "      1           nan       \u001b[32m0.1429\u001b[0m           nan  0.0100\n",
      "      2           nan       0.1429           nan  0.0120\n",
      "      3           nan       0.1429           nan  0.0110\n"
     ]
    },
    {
     "name": "stderr",
     "output_type": "stream",
     "text": [
      "E:\\anaconda3\\envs\\CPSC-8430-DeepLearning\\lib\\site-packages\\sklearn\\model_selection\\_split.py:676: UserWarning: The least populated class in y has only 4 members, which is less than n_splits=5.\n",
      "  warnings.warn(\n",
      "E:\\anaconda3\\envs\\CPSC-8430-DeepLearning\\lib\\site-packages\\sklearn\\model_selection\\_split.py:676: UserWarning: The least populated class in y has only 4 members, which is less than n_splits=5.\n",
      "  warnings.warn(\n"
     ]
    },
    {
     "name": "stdout",
     "output_type": "stream",
     "text": [
      "      4           nan       0.1429           nan  0.0110\n",
      "      5           nan       0.1429           nan  0.0120\n",
      "      6           nan       0.1429           nan  0.0120\n",
      "      7           nan       0.1429           nan  0.0120\n",
      "      8           nan       0.1429           nan  0.0113\n",
      "      9           nan       0.1429           nan  0.0110\n",
      "     10           nan       0.1429           nan  0.0120\n",
      "  epoch    train_loss    valid_acc    valid_loss     dur\n",
      "-------  ------------  -----------  ------------  ------\n",
      "      1           nan       \u001b[32m0.1429\u001b[0m           nan  0.0100\n",
      "      2           nan       0.1429           nan  0.0110\n",
      "      3           nan       0.1429           nan  0.0120\n",
      "      4           nan       0.1429           nan  0.0100\n",
      "      5           nan       0.1429           nan  0.0120\n",
      "      6           nan       0.1429           nan  0.0120\n",
      "      7           nan       0.1429           nan  0.0110\n",
      "      8           nan       0.1429           nan  0.0120\n",
      "      9           nan       0.1429           nan  0.0120\n",
      "     10           nan       0.1429           nan  0.0120\n",
      "  epoch    train_loss    valid_acc    valid_loss     dur\n",
      "-------  ------------  -----------  ------------  ------\n",
      "      1           nan       \u001b[32m0.0714\u001b[0m           nan  0.0100\n",
      "      2           nan       0.0714           nan  0.0120\n",
      "      3           nan       0.0714           nan  0.0110\n",
      "      4           nan       0.0714           nan  0.0120\n"
     ]
    },
    {
     "name": "stderr",
     "output_type": "stream",
     "text": [
      "E:\\anaconda3\\envs\\CPSC-8430-DeepLearning\\lib\\site-packages\\sklearn\\model_selection\\_split.py:676: UserWarning: The least populated class in y has only 4 members, which is less than n_splits=5.\n",
      "  warnings.warn(\n",
      "E:\\anaconda3\\envs\\CPSC-8430-DeepLearning\\lib\\site-packages\\sklearn\\model_selection\\_split.py:676: UserWarning: The least populated class in y has only 4 members, which is less than n_splits=5.\n",
      "  warnings.warn(\n"
     ]
    },
    {
     "name": "stdout",
     "output_type": "stream",
     "text": [
      "      5           nan       0.0714           nan  0.0110\n",
      "      6           nan       0.0714           nan  0.0100\n",
      "      7           nan       0.0714           nan  0.0110\n",
      "      8           nan       0.0714           nan  0.0130\n",
      "      9           nan       0.0714           nan  0.0120\n",
      "     10           nan       0.0714           nan  0.0120\n",
      "  epoch    train_loss    valid_acc    valid_loss     dur\n",
      "-------  ------------  -----------  ------------  ------\n",
      "      1           nan       \u001b[32m0.1429\u001b[0m           nan  0.0110\n",
      "      2           nan       0.0714           nan  0.0120\n",
      "      3           nan       0.0714           nan  0.0120\n",
      "      4           nan       0.0714           nan  0.0110\n",
      "      5           nan       0.0714           nan  0.0110\n",
      "      6           nan       0.0714           nan  0.0100\n",
      "      7           nan       0.0714           nan  0.0120\n",
      "      8           nan       0.0714           nan  0.0120\n",
      "      9           nan       0.0714           nan  0.0120\n",
      "     10           nan       0.0714           nan  0.0130\n",
      "  epoch    train_loss    valid_acc    valid_loss     dur\n",
      "-------  ------------  -----------  ------------  ------\n",
      "      1           nan       \u001b[32m0.1429\u001b[0m           nan  0.0110\n",
      "      2           nan       0.1429           nan  0.0110\n",
      "      3           nan       0.1429           nan  0.0110\n"
     ]
    },
    {
     "name": "stderr",
     "output_type": "stream",
     "text": [
      "E:\\anaconda3\\envs\\CPSC-8430-DeepLearning\\lib\\site-packages\\sklearn\\model_selection\\_split.py:676: UserWarning: The least populated class in y has only 4 members, which is less than n_splits=5.\n",
      "  warnings.warn(\n",
      "E:\\anaconda3\\envs\\CPSC-8430-DeepLearning\\lib\\site-packages\\sklearn\\model_selection\\_split.py:676: UserWarning: The least populated class in y has only 4 members, which is less than n_splits=5.\n",
      "  warnings.warn(\n"
     ]
    },
    {
     "name": "stdout",
     "output_type": "stream",
     "text": [
      "      4           nan       0.1429           nan  0.0120\n",
      "      5           nan       0.1429           nan  0.0110\n",
      "      6           nan       0.1429           nan  0.0111\n",
      "      7           nan       0.1429           nan  0.0110\n",
      "      8           nan       0.1429           nan  0.0110\n",
      "      9           nan       0.1429           nan  0.0110\n",
      "     10           nan       0.1429           nan  0.0120\n",
      "  epoch    train_loss    valid_acc    valid_loss     dur\n",
      "-------  ------------  -----------  ------------  ------\n",
      "      1           nan       \u001b[32m0.0714\u001b[0m           nan  0.0100\n",
      "      2           nan       0.0714           nan  0.0110\n",
      "      3           nan       0.0714           nan  0.0120\n",
      "      4           nan       0.0000           nan  0.0110\n",
      "      5           nan       0.0000           nan  0.0110\n",
      "      6           nan       0.0000           nan  0.0110\n",
      "      7           nan       0.0000           nan  0.0120\n",
      "      8           nan       0.0000           nan  0.0120\n",
      "      9           nan       0.0000           nan  0.0110\n",
      "     10           nan       0.0000           nan  0.0110\n",
      "  epoch    train_loss    valid_acc    valid_loss     dur\n",
      "-------  ------------  -----------  ------------  ------\n",
      "      1           nan       \u001b[32m0.0714\u001b[0m           nan  0.0100\n",
      "      2           nan       0.0714           nan  0.0110\n",
      "      3           nan       0.0714           nan  0.0100\n",
      "      4           nan       0.0714           nan  0.0100\n",
      "      5           nan       0.0714           nan  0.0100\n"
     ]
    },
    {
     "name": "stderr",
     "output_type": "stream",
     "text": [
      "E:\\anaconda3\\envs\\CPSC-8430-DeepLearning\\lib\\site-packages\\sklearn\\model_selection\\_split.py:676: UserWarning: The least populated class in y has only 4 members, which is less than n_splits=5.\n",
      "  warnings.warn(\n",
      "E:\\anaconda3\\envs\\CPSC-8430-DeepLearning\\lib\\site-packages\\sklearn\\model_selection\\_split.py:676: UserWarning: The least populated class in y has only 4 members, which is less than n_splits=5.\n",
      "  warnings.warn(\n"
     ]
    },
    {
     "name": "stdout",
     "output_type": "stream",
     "text": [
      "      6           nan       0.0714           nan  0.0100\n",
      "      7           nan       0.0000           nan  0.0120\n",
      "      8           nan       0.0000           nan  0.0110\n",
      "      9           nan       0.0000           nan  0.0120\n",
      "     10           nan       0.0000           nan  0.0120\n",
      "  epoch    train_loss    valid_acc    valid_loss     dur\n",
      "-------  ------------  -----------  ------------  ------\n",
      "      1           nan       \u001b[32m0.0714\u001b[0m           nan  0.0110\n",
      "      2           nan       0.0714           nan  0.0130\n",
      "      3           nan       0.0714           nan  0.0120\n",
      "      4           nan       0.0714           nan  0.0110\n",
      "      5           nan       \u001b[32m0.1429\u001b[0m           nan  0.0120\n",
      "      6           nan       0.1429           nan  0.0100\n",
      "      7           nan       0.0714           nan  0.0110\n",
      "      8           nan       0.0714           nan  0.0100\n",
      "      9           nan       0.0714           nan  0.0110\n",
      "     10           nan       0.0714           nan  0.0110\n",
      "  epoch    train_loss    valid_acc    valid_loss     dur\n",
      "-------  ------------  -----------  ------------  ------\n",
      "      1           nan       \u001b[32m0.0714\u001b[0m           nan  0.0100\n",
      "      2           nan       0.0714           nan  0.0120\n",
      "      3           nan       0.0714           nan  0.0120\n",
      "      4           nan       0.0714           nan  0.0120\n"
     ]
    },
    {
     "name": "stderr",
     "output_type": "stream",
     "text": [
      "E:\\anaconda3\\envs\\CPSC-8430-DeepLearning\\lib\\site-packages\\sklearn\\model_selection\\_split.py:676: UserWarning: The least populated class in y has only 4 members, which is less than n_splits=5.\n",
      "  warnings.warn(\n",
      "E:\\anaconda3\\envs\\CPSC-8430-DeepLearning\\lib\\site-packages\\sklearn\\model_selection\\_split.py:676: UserWarning: The least populated class in y has only 4 members, which is less than n_splits=5.\n",
      "  warnings.warn(\n"
     ]
    },
    {
     "name": "stdout",
     "output_type": "stream",
     "text": [
      "      5           nan       0.0714           nan  0.0120\n",
      "      6           nan       0.0714           nan  0.0110\n",
      "      7           nan       0.0714           nan  0.0110\n",
      "      8           nan       0.0714           nan  0.0130\n",
      "      9           nan       0.0714           nan  0.0120\n",
      "     10           nan       0.0714           nan  0.0120\n",
      "     11           nan       0.0714           nan  0.0110\n",
      "     12           nan       0.0714           nan  0.0120\n",
      "     13           nan       0.0714           nan  0.0123\n",
      "     14           nan       0.0714           nan  0.0120\n",
      "     15           nan       0.0714           nan  0.0113\n",
      "  epoch    train_loss    valid_acc    valid_loss     dur\n",
      "-------  ------------  -----------  ------------  ------\n",
      "      1           nan       \u001b[32m0.0714\u001b[0m           nan  0.0100\n",
      "      2           nan       0.0714           nan  0.0120\n",
      "      3           nan       0.0714           nan  0.0120\n",
      "      4           nan       0.0714           nan  0.0120\n",
      "      5           nan       0.0714           nan  0.0110\n",
      "      6           nan       0.0714           nan  0.0122\n",
      "      7           nan       0.0714           nan  0.0130\n",
      "      8           nan       0.0714           nan  0.0130\n",
      "      9           nan       0.0714           nan  0.0120\n",
      "     10           nan       0.0714           nan  0.0140\n",
      "     11           nan       0.0714           nan  0.0130\n",
      "     12           nan       0.0714           nan  0.0130\n"
     ]
    },
    {
     "name": "stderr",
     "output_type": "stream",
     "text": [
      "E:\\anaconda3\\envs\\CPSC-8430-DeepLearning\\lib\\site-packages\\sklearn\\model_selection\\_split.py:676: UserWarning: The least populated class in y has only 4 members, which is less than n_splits=5.\n",
      "  warnings.warn(\n"
     ]
    },
    {
     "name": "stdout",
     "output_type": "stream",
     "text": [
      "     13           nan       0.0714           nan  0.0620\n",
      "     14           nan       0.0714           nan  0.0160\n",
      "     15           nan       0.0714           nan  0.0160\n",
      "  epoch    train_loss    valid_acc    valid_loss     dur\n",
      "-------  ------------  -----------  ------------  ------\n",
      "      1           nan       \u001b[32m0.0714\u001b[0m           nan  0.0140\n",
      "      2           nan       0.0714           nan  0.0152\n",
      "      3           nan       0.0714           nan  0.0130\n",
      "      4           nan       0.0714           nan  0.0140\n",
      "      5           nan       0.0714           nan  0.0150\n",
      "      6           nan       0.0714           nan  0.0170\n",
      "      7           nan       0.0714           nan  0.0160\n",
      "      8           nan       0.0714           nan  0.0150\n",
      "      9           nan       \u001b[32m0.1429\u001b[0m           nan  0.0120\n",
      "     10           nan       0.1429           nan  0.0130\n",
      "     11           nan       0.1429           nan  0.0120\n"
     ]
    },
    {
     "name": "stderr",
     "output_type": "stream",
     "text": [
      "E:\\anaconda3\\envs\\CPSC-8430-DeepLearning\\lib\\site-packages\\sklearn\\model_selection\\_split.py:676: UserWarning: The least populated class in y has only 4 members, which is less than n_splits=5.\n",
      "  warnings.warn(\n"
     ]
    },
    {
     "name": "stdout",
     "output_type": "stream",
     "text": [
      "     12           nan       0.1429           nan  0.0120\n",
      "     13           nan       0.1429           nan  0.0110\n",
      "     14           nan       0.1429           nan  0.0140\n",
      "     15           nan       0.1429           nan  0.0120\n",
      "  epoch    train_loss    valid_acc    valid_loss     dur\n",
      "-------  ------------  -----------  ------------  ------\n",
      "      1           nan       \u001b[32m0.0714\u001b[0m           nan  0.0110\n",
      "      2           nan       0.0714           nan  0.0120\n",
      "      3           nan       0.0714           nan  0.0120\n",
      "      4           nan       0.0714           nan  0.0120\n",
      "      5           nan       0.0714           nan  0.0120\n",
      "      6           nan       0.0714           nan  0.0120\n",
      "      7           nan       0.0714           nan  0.0110\n",
      "      8           nan       0.0714           nan  0.0100\n",
      "      9           nan       0.0714           nan  0.0120\n",
      "     10           nan       0.0714           nan  0.0120\n",
      "     11           nan       0.0714           nan  0.0120\n",
      "     12           nan       0.0714           nan  0.0120\n",
      "     13           nan       0.0714           nan  0.0110\n",
      "     14           nan       0.0714           nan  0.0110\n",
      "     15           nan       0.0714           nan  0.0120\n"
     ]
    },
    {
     "name": "stderr",
     "output_type": "stream",
     "text": [
      "E:\\anaconda3\\envs\\CPSC-8430-DeepLearning\\lib\\site-packages\\sklearn\\model_selection\\_split.py:676: UserWarning: The least populated class in y has only 4 members, which is less than n_splits=5.\n",
      "  warnings.warn(\n"
     ]
    },
    {
     "name": "stdout",
     "output_type": "stream",
     "text": [
      "  epoch    train_loss    valid_acc    valid_loss     dur\n",
      "-------  ------------  -----------  ------------  ------\n",
      "      1           nan       \u001b[32m0.1429\u001b[0m           nan  0.0100\n",
      "      2           nan       0.1429           nan  0.0130\n",
      "      3           nan       0.1429           nan  0.0110\n",
      "      4           nan       0.1429           nan  0.0120\n",
      "      5           nan       0.0714           nan  0.0120\n",
      "      6           nan       0.0714           nan  0.0120\n",
      "      7           nan       0.0714           nan  0.0120\n",
      "      8           nan       0.0714           nan  0.0110\n",
      "      9           nan       0.0714           nan  0.0120\n",
      "     10           nan       0.0714           nan  0.0123\n",
      "     11           nan       0.0714           nan  0.0120\n",
      "     12           nan       0.0714           nan  0.0130\n",
      "     13           nan       0.0714           nan  0.0110\n"
     ]
    },
    {
     "name": "stderr",
     "output_type": "stream",
     "text": [
      "E:\\anaconda3\\envs\\CPSC-8430-DeepLearning\\lib\\site-packages\\sklearn\\model_selection\\_split.py:676: UserWarning: The least populated class in y has only 4 members, which is less than n_splits=5.\n",
      "  warnings.warn(\n"
     ]
    },
    {
     "name": "stdout",
     "output_type": "stream",
     "text": [
      "     14           nan       0.0714           nan  0.0130\n",
      "     15           nan       0.0714           nan  0.0150\n",
      "  epoch    train_loss    valid_acc    valid_loss     dur\n",
      "-------  ------------  -----------  ------------  ------\n",
      "      1           nan       \u001b[32m0.0714\u001b[0m           nan  0.0120\n",
      "      2           nan       \u001b[32m0.1429\u001b[0m           nan  0.0130\n",
      "      3           nan       0.1429           nan  0.0130\n",
      "      4           nan       0.1429           nan  0.0123\n",
      "      5           nan       0.1429           nan  0.0120\n",
      "      6           nan       0.1429           nan  0.0110\n",
      "      7           nan       0.1429           nan  0.0120\n",
      "      8           nan       0.1429           nan  0.0110\n",
      "      9           nan       0.1429           nan  0.0130\n",
      "     10           nan       0.1429           nan  0.0113\n",
      "     11           nan       0.1429           nan  0.0120\n",
      "     12           nan       0.1429           nan  0.0114\n",
      "     13           nan       0.1429           nan  0.0100\n",
      "     14           nan       0.1429           nan  0.0130\n"
     ]
    },
    {
     "name": "stderr",
     "output_type": "stream",
     "text": [
      "E:\\anaconda3\\envs\\CPSC-8430-DeepLearning\\lib\\site-packages\\sklearn\\model_selection\\_split.py:676: UserWarning: The least populated class in y has only 4 members, which is less than n_splits=5.\n",
      "  warnings.warn(\n"
     ]
    },
    {
     "name": "stdout",
     "output_type": "stream",
     "text": [
      "     15           nan       0.1429           nan  0.0110\n",
      "  epoch    train_loss    valid_acc    valid_loss     dur\n",
      "-------  ------------  -----------  ------------  ------\n",
      "      1           nan       \u001b[32m0.1429\u001b[0m           nan  0.0110\n",
      "      2           nan       0.1429           nan  0.0120\n",
      "      3           nan       0.1429           nan  0.0130\n",
      "      4           nan       0.1429           nan  0.0120\n",
      "      5           nan       0.1429           nan  0.0120\n",
      "      6           nan       0.1429           nan  0.0110\n",
      "      7           nan       0.1429           nan  0.0113\n",
      "      8           nan       0.1429           nan  0.0120\n",
      "      9           nan       0.1429           nan  0.0120\n",
      "     10           nan       0.1429           nan  0.0110\n",
      "     11           nan       0.1429           nan  0.0120\n",
      "     12           nan       0.1429           nan  0.0110\n",
      "     13           nan       0.1429           nan  0.0130\n",
      "     14           nan       0.1429           nan  0.0110\n"
     ]
    },
    {
     "name": "stderr",
     "output_type": "stream",
     "text": [
      "E:\\anaconda3\\envs\\CPSC-8430-DeepLearning\\lib\\site-packages\\sklearn\\model_selection\\_split.py:676: UserWarning: The least populated class in y has only 4 members, which is less than n_splits=5.\n",
      "  warnings.warn(\n"
     ]
    },
    {
     "name": "stdout",
     "output_type": "stream",
     "text": [
      "     15           nan       0.1429           nan  0.0110\n",
      "  epoch    train_loss    valid_acc    valid_loss     dur\n",
      "-------  ------------  -----------  ------------  ------\n",
      "      1           nan       \u001b[32m0.2143\u001b[0m           nan  0.0130\n",
      "      2           nan       0.2143           nan  0.0110\n",
      "      3           nan       0.2143           nan  0.0110\n",
      "      4           nan       0.2143           nan  0.0130\n",
      "      5           nan       0.1429           nan  0.0120\n",
      "      6           nan       0.1429           nan  0.0110\n",
      "      7           nan       0.1429           nan  0.0120\n",
      "      8           nan       0.1429           nan  0.0120\n",
      "      9           nan       0.1429           nan  0.0110\n",
      "     10           nan       0.1429           nan  0.0120\n",
      "     11           nan       0.1429           nan  0.0130\n",
      "     12           nan       0.1429           nan  0.0120\n",
      "     13           nan       0.1429           nan  0.0120\n",
      "     14           nan       0.1429           nan  0.0120\n"
     ]
    },
    {
     "name": "stderr",
     "output_type": "stream",
     "text": [
      "E:\\anaconda3\\envs\\CPSC-8430-DeepLearning\\lib\\site-packages\\sklearn\\model_selection\\_split.py:676: UserWarning: The least populated class in y has only 4 members, which is less than n_splits=5.\n",
      "  warnings.warn(\n"
     ]
    },
    {
     "name": "stdout",
     "output_type": "stream",
     "text": [
      "     15           nan       0.1429           nan  0.0110\n",
      "  epoch    train_loss    valid_acc    valid_loss     dur\n",
      "-------  ------------  -----------  ------------  ------\n",
      "      1           nan       \u001b[32m0.1429\u001b[0m           nan  0.0100\n",
      "      2           nan       0.1429           nan  0.0130\n",
      "      3           nan       0.0714           nan  0.0130\n",
      "      4           nan       0.0714           nan  0.0124\n",
      "      5           nan       0.0714           nan  0.0110\n",
      "      6           nan       0.0714           nan  0.0100\n",
      "      7           nan       0.0714           nan  0.0140\n",
      "      8           nan       0.0714           nan  0.0130\n",
      "      9           nan       0.0714           nan  0.0130\n",
      "     10           nan       0.0714           nan  0.0110\n",
      "     11           nan       0.0714           nan  0.0130\n",
      "     12           nan       0.0714           nan  0.0110\n",
      "     13           nan       0.0714           nan  0.0130\n"
     ]
    },
    {
     "name": "stderr",
     "output_type": "stream",
     "text": [
      "E:\\anaconda3\\envs\\CPSC-8430-DeepLearning\\lib\\site-packages\\sklearn\\model_selection\\_split.py:676: UserWarning: The least populated class in y has only 4 members, which is less than n_splits=5.\n",
      "  warnings.warn(\n"
     ]
    },
    {
     "name": "stdout",
     "output_type": "stream",
     "text": [
      "     14           nan       0.0714           nan  0.0130\n",
      "     15           nan       0.0714           nan  0.0120\n",
      "  epoch    train_loss    valid_acc    valid_loss     dur\n",
      "-------  ------------  -----------  ------------  ------\n",
      "      1           nan       \u001b[32m0.1429\u001b[0m           nan  0.0130\n",
      "      2           nan       0.1429           nan  0.0120\n",
      "      3           nan       0.1429           nan  0.0120\n",
      "      4           nan       0.1429           nan  0.0130\n",
      "      5           nan       0.1429           nan  0.0120\n",
      "  epoch    train_loss    valid_acc    valid_loss     dur\n",
      "-------  ------------  -----------  ------------  ------\n",
      "      1           nan       \u001b[32m0.0714\u001b[0m           nan  0.0100\n",
      "      2           nan       0.0714           nan  0.0110\n",
      "      3           nan       0.0714           nan  0.0120\n",
      "      4           nan       \u001b[32m0.1429\u001b[0m           nan  0.0150\n",
      "      5           nan       0.0714           nan  0.0140\n",
      "  epoch    train_loss    valid_acc    valid_loss     dur\n",
      "-------  ------------  -----------  ------------  ------\n",
      "      1           nan       \u001b[32m0.1429\u001b[0m           nan  0.0110\n",
      "      2           nan       0.1429           nan  0.0120\n"
     ]
    },
    {
     "name": "stderr",
     "output_type": "stream",
     "text": [
      "E:\\anaconda3\\envs\\CPSC-8430-DeepLearning\\lib\\site-packages\\sklearn\\model_selection\\_split.py:676: UserWarning: The least populated class in y has only 4 members, which is less than n_splits=5.\n",
      "  warnings.warn(\n",
      "E:\\anaconda3\\envs\\CPSC-8430-DeepLearning\\lib\\site-packages\\sklearn\\model_selection\\_split.py:676: UserWarning: The least populated class in y has only 4 members, which is less than n_splits=5.\n",
      "  warnings.warn(\n",
      "E:\\anaconda3\\envs\\CPSC-8430-DeepLearning\\lib\\site-packages\\sklearn\\model_selection\\_split.py:676: UserWarning: The least populated class in y has only 4 members, which is less than n_splits=5.\n",
      "  warnings.warn(\n"
     ]
    },
    {
     "name": "stdout",
     "output_type": "stream",
     "text": [
      "      3           nan       \u001b[32m0.2143\u001b[0m           nan  0.0130\n",
      "      4           nan       0.0714           nan  0.0143\n",
      "      5           nan       0.0714           nan  0.0130\n",
      "  epoch    train_loss    valid_acc    valid_loss     dur\n",
      "-------  ------------  -----------  ------------  ------\n",
      "      1           nan       \u001b[32m0.0714\u001b[0m           nan  0.0120\n",
      "      2           nan       0.0714           nan  0.0110\n",
      "      3           nan       0.0714           nan  0.0120\n",
      "      4           nan       \u001b[32m0.1429\u001b[0m           nan  0.0110\n",
      "      5           nan       0.0714           nan  0.0130\n",
      "  epoch    train_loss    valid_acc    valid_loss     dur\n",
      "-------  ------------  -----------  ------------  ------\n",
      "      1           nan       \u001b[32m0.0714\u001b[0m           nan  0.0120\n",
      "      2           nan       \u001b[32m0.1429\u001b[0m           nan  0.0112\n",
      "      3           nan       0.1429           nan  0.0120\n",
      "      4           nan       0.1429           nan  0.0150\n",
      "      5           nan       0.1429           nan  0.0120\n",
      "  epoch    train_loss    valid_acc    valid_loss     dur\n",
      "-------  ------------  -----------  ------------  ------\n",
      "      1           nan       \u001b[32m0.0714\u001b[0m           nan  0.0110\n",
      "      2           nan       \u001b[32m0.1429\u001b[0m           nan  0.0130\n"
     ]
    },
    {
     "name": "stderr",
     "output_type": "stream",
     "text": [
      "E:\\anaconda3\\envs\\CPSC-8430-DeepLearning\\lib\\site-packages\\sklearn\\model_selection\\_split.py:676: UserWarning: The least populated class in y has only 4 members, which is less than n_splits=5.\n",
      "  warnings.warn(\n",
      "E:\\anaconda3\\envs\\CPSC-8430-DeepLearning\\lib\\site-packages\\sklearn\\model_selection\\_split.py:676: UserWarning: The least populated class in y has only 4 members, which is less than n_splits=5.\n",
      "  warnings.warn(\n",
      "E:\\anaconda3\\envs\\CPSC-8430-DeepLearning\\lib\\site-packages\\sklearn\\model_selection\\_split.py:676: UserWarning: The least populated class in y has only 4 members, which is less than n_splits=5.\n",
      "  warnings.warn(\n"
     ]
    },
    {
     "name": "stdout",
     "output_type": "stream",
     "text": [
      "      3           nan       0.1429           nan  0.0120\n",
      "      4           nan       0.1429           nan  0.0140\n",
      "      5           nan       0.1429           nan  0.0570\n",
      "  epoch    train_loss    valid_acc    valid_loss     dur\n",
      "-------  ------------  -----------  ------------  ------\n",
      "      1           nan       \u001b[32m0.0714\u001b[0m           nan  0.0160\n",
      "      2           nan       0.0714           nan  0.0130\n",
      "      3           nan       0.0714           nan  0.0160\n",
      "      4           nan       0.0714           nan  0.0130\n",
      "      5           nan       0.0714           nan  0.0130\n",
      "  epoch    train_loss    valid_acc    valid_loss     dur\n",
      "-------  ------------  -----------  ------------  ------\n",
      "      1           nan       \u001b[32m0.0714\u001b[0m           nan  0.0120\n",
      "      2           nan       0.0714           nan  0.0160\n",
      "      3           nan       0.0714           nan  0.0150\n",
      "      4           nan       0.0714           nan  0.0150\n",
      "      5           nan       0.0714           nan  0.0140\n"
     ]
    },
    {
     "name": "stderr",
     "output_type": "stream",
     "text": [
      "E:\\anaconda3\\envs\\CPSC-8430-DeepLearning\\lib\\site-packages\\sklearn\\model_selection\\_split.py:676: UserWarning: The least populated class in y has only 4 members, which is less than n_splits=5.\n",
      "  warnings.warn(\n",
      "E:\\anaconda3\\envs\\CPSC-8430-DeepLearning\\lib\\site-packages\\sklearn\\model_selection\\_split.py:676: UserWarning: The least populated class in y has only 4 members, which is less than n_splits=5.\n",
      "  warnings.warn(\n",
      "E:\\anaconda3\\envs\\CPSC-8430-DeepLearning\\lib\\site-packages\\sklearn\\model_selection\\_split.py:676: UserWarning: The least populated class in y has only 4 members, which is less than n_splits=5.\n",
      "  warnings.warn(\n"
     ]
    },
    {
     "name": "stdout",
     "output_type": "stream",
     "text": [
      "  epoch    train_loss    valid_acc    valid_loss     dur\n",
      "-------  ------------  -----------  ------------  ------\n",
      "      1           nan       \u001b[32m0.0714\u001b[0m           nan  0.0150\n",
      "      2           nan       0.0714           nan  0.0130\n",
      "      3           nan       0.0714           nan  0.0130\n",
      "      4           nan       0.0714           nan  0.0110\n",
      "      5           nan       0.0714           nan  0.0150\n",
      "  epoch    train_loss    valid_acc    valid_loss     dur\n",
      "-------  ------------  -----------  ------------  ------\n",
      "      1           nan       \u001b[32m0.1429\u001b[0m           nan  0.0110\n",
      "      2           nan       0.1429           nan  0.0140\n",
      "      3           nan       0.1429           nan  0.0120\n",
      "      4           nan       0.1429           nan  0.0110\n",
      "      5           nan       0.1429           nan  0.0130\n",
      "      6           nan       0.1429           nan  0.0130\n",
      "      7           nan       0.1429           nan  0.0120\n",
      "      8           nan       0.1429           nan  0.0140\n",
      "      9           nan       0.1429           nan  0.0130\n",
      "     10           nan       0.1429           nan  0.0130\n",
      "  epoch    train_loss    valid_acc    valid_loss     dur\n",
      "-------  ------------  -----------  ------------  ------\n",
      "      1           nan       \u001b[32m0.1429\u001b[0m           nan  0.0130\n",
      "      2           nan       0.1429           nan  0.0110\n"
     ]
    },
    {
     "name": "stderr",
     "output_type": "stream",
     "text": [
      "E:\\anaconda3\\envs\\CPSC-8430-DeepLearning\\lib\\site-packages\\sklearn\\model_selection\\_split.py:676: UserWarning: The least populated class in y has only 4 members, which is less than n_splits=5.\n",
      "  warnings.warn(\n",
      "E:\\anaconda3\\envs\\CPSC-8430-DeepLearning\\lib\\site-packages\\sklearn\\model_selection\\_split.py:676: UserWarning: The least populated class in y has only 4 members, which is less than n_splits=5.\n",
      "  warnings.warn(\n"
     ]
    },
    {
     "name": "stdout",
     "output_type": "stream",
     "text": [
      "      3           nan       0.1429           nan  0.0140\n",
      "      4           nan       0.1429           nan  0.0140\n",
      "      5           nan       0.1429           nan  0.0130\n",
      "      6           nan       \u001b[32m0.2143\u001b[0m           nan  0.0130\n",
      "      7           nan       0.0714           nan  0.0120\n",
      "      8           nan       0.0714           nan  0.0140\n",
      "      9           nan       0.0714           nan  0.0120\n",
      "     10           nan       0.0714           nan  0.0122\n",
      "  epoch    train_loss    valid_acc    valid_loss     dur\n",
      "-------  ------------  -----------  ------------  ------\n",
      "      1           nan       \u001b[32m0.0714\u001b[0m           nan  0.0100\n",
      "      2           nan       0.0714           nan  0.0130\n",
      "      3           nan       0.0714           nan  0.0120\n",
      "      4           nan       0.0714           nan  0.0130\n",
      "      5           nan       0.0714           nan  0.0140\n",
      "      6           nan       0.0714           nan  0.0140\n",
      "      7           nan       0.0714           nan  0.0120\n",
      "      8           nan       0.0714           nan  0.0140\n",
      "      9           nan       0.0714           nan  0.0140\n",
      "     10           nan       0.0714           nan  0.0140\n",
      "  epoch    train_loss    valid_acc    valid_loss     dur\n",
      "-------  ------------  -----------  ------------  ------\n",
      "      1           nan       \u001b[32m0.0714\u001b[0m           nan  0.0125\n",
      "      2           nan       0.0714           nan  0.0120\n",
      "      3           nan       0.0714           nan  0.0110\n"
     ]
    },
    {
     "name": "stderr",
     "output_type": "stream",
     "text": [
      "E:\\anaconda3\\envs\\CPSC-8430-DeepLearning\\lib\\site-packages\\sklearn\\model_selection\\_split.py:676: UserWarning: The least populated class in y has only 4 members, which is less than n_splits=5.\n",
      "  warnings.warn(\n",
      "E:\\anaconda3\\envs\\CPSC-8430-DeepLearning\\lib\\site-packages\\sklearn\\model_selection\\_split.py:676: UserWarning: The least populated class in y has only 4 members, which is less than n_splits=5.\n",
      "  warnings.warn(\n"
     ]
    },
    {
     "name": "stdout",
     "output_type": "stream",
     "text": [
      "      4           nan       0.0714           nan  0.0140\n",
      "      5           nan       0.0714           nan  0.0130\n",
      "      6           nan       0.0714           nan  0.0120\n",
      "      7           nan       0.0714           nan  0.0130\n",
      "      8           nan       0.0714           nan  0.0120\n",
      "      9           nan       0.0714           nan  0.0120\n",
      "     10           nan       0.0714           nan  0.0110\n",
      "  epoch    train_loss    valid_acc    valid_loss     dur\n",
      "-------  ------------  -----------  ------------  ------\n",
      "      1           nan       \u001b[32m0.0714\u001b[0m           nan  0.0130\n",
      "      2           nan       0.0714           nan  0.0120\n",
      "      3           nan       0.0714           nan  0.0130\n",
      "      4           nan       0.0714           nan  0.0120\n",
      "      5           nan       0.0714           nan  0.0150\n",
      "      6           nan       0.0714           nan  0.0120\n",
      "      7           nan       0.0714           nan  0.0130\n",
      "      8           nan       0.0714           nan  0.0120\n",
      "      9           nan       0.0714           nan  0.0120\n",
      "     10           nan       0.0714           nan  0.0140\n",
      "  epoch    train_loss    valid_acc    valid_loss     dur\n",
      "-------  ------------  -----------  ------------  ------\n",
      "      1           nan       \u001b[32m0.0714\u001b[0m           nan  0.0110\n",
      "      2           nan       0.0714           nan  0.0130\n"
     ]
    },
    {
     "name": "stderr",
     "output_type": "stream",
     "text": [
      "E:\\anaconda3\\envs\\CPSC-8430-DeepLearning\\lib\\site-packages\\sklearn\\model_selection\\_split.py:676: UserWarning: The least populated class in y has only 4 members, which is less than n_splits=5.\n",
      "  warnings.warn(\n",
      "E:\\anaconda3\\envs\\CPSC-8430-DeepLearning\\lib\\site-packages\\sklearn\\model_selection\\_split.py:676: UserWarning: The least populated class in y has only 4 members, which is less than n_splits=5.\n",
      "  warnings.warn(\n"
     ]
    },
    {
     "name": "stdout",
     "output_type": "stream",
     "text": [
      "      3           nan       0.0714           nan  0.0140\n",
      "      4           nan       0.0714           nan  0.0140\n",
      "      5           nan       0.0714           nan  0.0150\n",
      "      6           nan       0.0714           nan  0.0140\n",
      "      7           nan       0.0714           nan  0.0130\n",
      "      8           nan       0.0714           nan  0.0130\n",
      "      9           nan       0.0714           nan  0.0120\n",
      "     10           nan       0.0714           nan  0.0130\n",
      "  epoch    train_loss    valid_acc    valid_loss     dur\n",
      "-------  ------------  -----------  ------------  ------\n",
      "      1           nan       \u001b[32m0.1429\u001b[0m           nan  0.0090\n",
      "      2           nan       0.1429           nan  0.0140\n",
      "      3           nan       0.1429           nan  0.0130\n",
      "      4           nan       0.1429           nan  0.0130\n",
      "      5           nan       0.1429           nan  0.0130\n",
      "      6           nan       0.1429           nan  0.0120\n",
      "      7           nan       0.1429           nan  0.0110\n",
      "      8           nan       0.1429           nan  0.0130\n",
      "      9           nan       0.1429           nan  0.0110\n",
      "     10           nan       0.1429           nan  0.0140\n",
      "  epoch    train_loss    valid_acc    valid_loss     dur\n",
      "-------  ------------  -----------  ------------  ------\n",
      "      1           nan       \u001b[32m0.0714\u001b[0m           nan  0.0120\n",
      "      2           nan       0.0714           nan  0.0120\n"
     ]
    },
    {
     "name": "stderr",
     "output_type": "stream",
     "text": [
      "E:\\anaconda3\\envs\\CPSC-8430-DeepLearning\\lib\\site-packages\\sklearn\\model_selection\\_split.py:676: UserWarning: The least populated class in y has only 4 members, which is less than n_splits=5.\n",
      "  warnings.warn(\n",
      "E:\\anaconda3\\envs\\CPSC-8430-DeepLearning\\lib\\site-packages\\sklearn\\model_selection\\_split.py:676: UserWarning: The least populated class in y has only 4 members, which is less than n_splits=5.\n",
      "  warnings.warn(\n"
     ]
    },
    {
     "name": "stdout",
     "output_type": "stream",
     "text": [
      "      3           nan       0.0714           nan  0.0130\n",
      "      4           nan       0.0714           nan  0.0143\n",
      "      5           nan       0.0714           nan  0.0140\n",
      "      6           nan       0.0714           nan  0.0140\n",
      "      7           nan       0.0000           nan  0.0120\n",
      "      8           nan       0.0714           nan  0.0130\n",
      "      9           nan       0.0714           nan  0.0130\n",
      "     10           nan       0.0714           nan  0.0120\n",
      "  epoch    train_loss    valid_acc    valid_loss     dur\n",
      "-------  ------------  -----------  ------------  ------\n",
      "      1           nan       \u001b[32m0.0714\u001b[0m           nan  0.0130\n",
      "      2           nan       0.0714           nan  0.0110\n",
      "      3           nan       \u001b[32m0.2857\u001b[0m           nan  0.0120\n",
      "      4           nan       0.2143           nan  0.0120\n",
      "      5           nan       0.2143           nan  0.0130\n",
      "      6           nan       0.2143           nan  0.0130\n",
      "      7           nan       0.2143           nan  0.0120\n",
      "      8           nan       0.2143           nan  0.0140\n",
      "      9           nan       0.2143           nan  0.0140\n",
      "     10           nan       0.2143           nan  0.0130\n",
      "  epoch    train_loss    valid_acc    valid_loss     dur\n",
      "-------  ------------  -----------  ------------  ------\n",
      "      1           nan       \u001b[32m0.0714\u001b[0m           nan  0.0140\n",
      "      2           nan       0.0714           nan  0.0120\n",
      "      3           nan       0.0714           nan  0.0140\n"
     ]
    },
    {
     "name": "stderr",
     "output_type": "stream",
     "text": [
      "E:\\anaconda3\\envs\\CPSC-8430-DeepLearning\\lib\\site-packages\\sklearn\\model_selection\\_split.py:676: UserWarning: The least populated class in y has only 4 members, which is less than n_splits=5.\n",
      "  warnings.warn(\n",
      "E:\\anaconda3\\envs\\CPSC-8430-DeepLearning\\lib\\site-packages\\sklearn\\model_selection\\_split.py:676: UserWarning: The least populated class in y has only 4 members, which is less than n_splits=5.\n",
      "  warnings.warn(\n"
     ]
    },
    {
     "name": "stdout",
     "output_type": "stream",
     "text": [
      "      4           nan       0.0714           nan  0.0150\n",
      "      5           nan       0.0714           nan  0.0140\n",
      "      6           nan       0.0714           nan  0.0140\n",
      "      7           nan       0.0714           nan  0.0140\n",
      "      8           nan       0.0714           nan  0.0140\n",
      "      9           nan       0.0714           nan  0.0130\n",
      "     10           nan       0.0714           nan  0.0140\n",
      "     11           nan       0.0714           nan  0.0130\n",
      "     12           nan       0.0714           nan  0.0150\n",
      "     13           nan       0.0714           nan  0.0130\n",
      "     14           nan       0.0714           nan  0.0130\n",
      "     15           nan       0.0714           nan  0.0150\n",
      "  epoch    train_loss    valid_acc    valid_loss     dur\n",
      "-------  ------------  -----------  ------------  ------\n",
      "      1           nan       \u001b[32m0.2143\u001b[0m           nan  0.0140\n",
      "      2           nan       0.2143           nan  0.0110\n",
      "      3           nan       0.2143           nan  0.0130\n",
      "      4           nan       0.0714           nan  0.0130\n",
      "      5           nan       0.0714           nan  0.0140\n",
      "      6           nan       0.1429           nan  0.0130\n",
      "      7           nan       0.1429           nan  0.0150\n",
      "      8           nan       0.1429           nan  0.0130\n",
      "      9           nan       0.1429           nan  0.0140\n",
      "     10           nan       0.1429           nan  0.0140\n",
      "     11           nan       0.1429           nan  0.0140\n",
      "     12           nan       0.1429           nan  0.0140\n"
     ]
    },
    {
     "name": "stderr",
     "output_type": "stream",
     "text": [
      "E:\\anaconda3\\envs\\CPSC-8430-DeepLearning\\lib\\site-packages\\sklearn\\model_selection\\_split.py:676: UserWarning: The least populated class in y has only 4 members, which is less than n_splits=5.\n",
      "  warnings.warn(\n"
     ]
    },
    {
     "name": "stdout",
     "output_type": "stream",
     "text": [
      "     13           nan       0.1429           nan  0.0160\n",
      "     14           nan       0.1429           nan  0.0150\n",
      "     15           nan       0.1429           nan  0.0160\n",
      "  epoch    train_loss    valid_acc    valid_loss     dur\n",
      "-------  ------------  -----------  ------------  ------\n",
      "      1           nan       \u001b[32m0.1429\u001b[0m           nan  0.0110\n",
      "      2           nan       0.1429           nan  0.0130\n",
      "      3           nan       0.1429           nan  0.0130\n",
      "      4           nan       0.1429           nan  0.0130\n",
      "      5           nan       0.1429           nan  0.0140\n",
      "      6           nan       0.1429           nan  0.0140\n",
      "      7           nan       0.0714           nan  0.0140\n",
      "      8           nan       0.0714           nan  0.0140\n",
      "      9           nan       0.0714           nan  0.0160\n",
      "     10           nan       0.0714           nan  0.0140\n",
      "     11           nan       0.0714           nan  0.0130\n",
      "     12           nan       0.0714           nan  0.0130\n"
     ]
    },
    {
     "name": "stderr",
     "output_type": "stream",
     "text": [
      "E:\\anaconda3\\envs\\CPSC-8430-DeepLearning\\lib\\site-packages\\sklearn\\model_selection\\_split.py:676: UserWarning: The least populated class in y has only 4 members, which is less than n_splits=5.\n",
      "  warnings.warn(\n"
     ]
    },
    {
     "name": "stdout",
     "output_type": "stream",
     "text": [
      "     13           nan       0.0714           nan  0.0140\n",
      "     14           nan       0.0714           nan  0.0150\n",
      "     15           nan       0.0714           nan  0.0150\n",
      "  epoch    train_loss    valid_acc    valid_loss     dur\n",
      "-------  ------------  -----------  ------------  ------\n",
      "      1           nan       \u001b[32m0.0714\u001b[0m           nan  0.0130\n",
      "      2           nan       0.0714           nan  0.0120\n",
      "      3           nan       0.0714           nan  0.0120\n",
      "      4           nan       0.0714           nan  0.0123\n",
      "      5           nan       0.0714           nan  0.0130\n",
      "      6           nan       0.0714           nan  0.0130\n",
      "      7           nan       0.0714           nan  0.0130\n",
      "      8           nan       0.0714           nan  0.0140\n",
      "      9           nan       0.0714           nan  0.0130\n",
      "     10           nan       0.0714           nan  0.0130\n",
      "     11           nan       0.0714           nan  0.0130\n",
      "     12           nan       0.0714           nan  0.0130\n"
     ]
    },
    {
     "name": "stderr",
     "output_type": "stream",
     "text": [
      "E:\\anaconda3\\envs\\CPSC-8430-DeepLearning\\lib\\site-packages\\sklearn\\model_selection\\_split.py:676: UserWarning: The least populated class in y has only 4 members, which is less than n_splits=5.\n",
      "  warnings.warn(\n"
     ]
    },
    {
     "name": "stdout",
     "output_type": "stream",
     "text": [
      "     13           nan       0.0714           nan  0.0130\n",
      "     14           nan       0.0714           nan  0.0120\n",
      "     15           nan       0.0714           nan  0.0140\n",
      "  epoch    train_loss    valid_acc    valid_loss     dur\n",
      "-------  ------------  -----------  ------------  ------\n",
      "      1           nan       \u001b[32m0.1429\u001b[0m           nan  0.0180\n",
      "      2           nan       0.1429           nan  0.0160\n",
      "      3           nan       0.1429           nan  0.0150\n",
      "      4           nan       0.1429           nan  0.0150\n",
      "      5           nan       0.1429           nan  0.0140\n",
      "      6           nan       0.1429           nan  0.0150\n",
      "      7           nan       0.1429           nan  0.0130\n",
      "      8           nan       0.1429           nan  0.0140\n",
      "      9           nan       0.1429           nan  0.0130\n",
      "     10           nan       0.1429           nan  0.0150\n",
      "     11           nan       0.1429           nan  0.0150\n"
     ]
    },
    {
     "name": "stderr",
     "output_type": "stream",
     "text": [
      "E:\\anaconda3\\envs\\CPSC-8430-DeepLearning\\lib\\site-packages\\sklearn\\model_selection\\_split.py:676: UserWarning: The least populated class in y has only 4 members, which is less than n_splits=5.\n",
      "  warnings.warn(\n"
     ]
    },
    {
     "name": "stdout",
     "output_type": "stream",
     "text": [
      "     12           nan       0.1429           nan  0.0150\n",
      "     13           nan       0.1429           nan  0.0140\n",
      "     14           nan       0.1429           nan  0.0140\n",
      "     15           nan       0.1429           nan  0.0140\n",
      "  epoch    train_loss    valid_acc    valid_loss     dur\n",
      "-------  ------------  -----------  ------------  ------\n",
      "      1           nan       \u001b[32m0.0714\u001b[0m           nan  0.0150\n",
      "      2           nan       \u001b[32m0.1429\u001b[0m           nan  0.0150\n",
      "      3           nan       0.1429           nan  0.0140\n",
      "      4           nan       0.1429           nan  0.0150\n",
      "      5           nan       0.1429           nan  0.0160\n",
      "      6           nan       0.1429           nan  0.0130\n",
      "      7           nan       0.1429           nan  0.0130\n",
      "      8           nan       0.1429           nan  0.0160\n",
      "      9           nan       0.1429           nan  0.0140\n",
      "     10           nan       0.1429           nan  0.0150\n",
      "     11           nan       0.1429           nan  0.0150\n",
      "     12           nan       0.1429           nan  0.0140\n"
     ]
    },
    {
     "name": "stderr",
     "output_type": "stream",
     "text": [
      "E:\\anaconda3\\envs\\CPSC-8430-DeepLearning\\lib\\site-packages\\sklearn\\model_selection\\_split.py:676: UserWarning: The least populated class in y has only 4 members, which is less than n_splits=5.\n",
      "  warnings.warn(\n"
     ]
    },
    {
     "name": "stdout",
     "output_type": "stream",
     "text": [
      "     13           nan       0.1429           nan  0.0150\n",
      "     14           nan       0.1429           nan  0.0150\n",
      "     15           nan       0.1429           nan  0.0150\n",
      "  epoch    train_loss    valid_acc    valid_loss     dur\n",
      "-------  ------------  -----------  ------------  ------\n",
      "      1           nan       \u001b[32m0.1429\u001b[0m           nan  0.0160\n",
      "      2           nan       0.1429           nan  0.0160\n",
      "      3           nan       0.1429           nan  0.0160\n",
      "      4           nan       0.1429           nan  0.0160\n",
      "      5           nan       0.1429           nan  0.0160\n",
      "      6           nan       0.1429           nan  0.0150\n",
      "      7           nan       0.1429           nan  0.0160\n",
      "      8           nan       0.1429           nan  0.0150\n",
      "      9           nan       0.1429           nan  0.0160\n",
      "     10           nan       0.1429           nan  0.0140\n"
     ]
    },
    {
     "name": "stderr",
     "output_type": "stream",
     "text": [
      "E:\\anaconda3\\envs\\CPSC-8430-DeepLearning\\lib\\site-packages\\sklearn\\model_selection\\_split.py:676: UserWarning: The least populated class in y has only 4 members, which is less than n_splits=5.\n",
      "  warnings.warn(\n"
     ]
    },
    {
     "name": "stdout",
     "output_type": "stream",
     "text": [
      "     11           nan       0.1429           nan  0.0180\n",
      "     12           nan       0.1429           nan  0.0140\n",
      "     13           nan       0.1429           nan  0.0150\n",
      "     14           nan       0.1429           nan  0.0140\n",
      "     15           nan       0.1429           nan  0.0150\n",
      "  epoch    train_loss    valid_acc    valid_loss     dur\n",
      "-------  ------------  -----------  ------------  ------\n",
      "      1           nan       \u001b[32m0.0714\u001b[0m           nan  0.0160\n",
      "      2           nan       0.0714           nan  0.0140\n",
      "      3           nan       0.0000           nan  0.0120\n",
      "      4           nan       \u001b[32m0.1429\u001b[0m           nan  0.0120\n",
      "      5           nan       0.1429           nan  0.0130\n",
      "      6           nan       0.1429           nan  0.0160\n",
      "      7           nan       0.1429           nan  0.0150\n",
      "      8           nan       0.1429           nan  0.0150\n",
      "      9           nan       0.1429           nan  0.0130\n",
      "     10           nan       0.1429           nan  0.0160\n",
      "     11           nan       0.1429           nan  0.0160\n",
      "     12           nan       0.1429           nan  0.0150\n"
     ]
    },
    {
     "name": "stderr",
     "output_type": "stream",
     "text": [
      "E:\\anaconda3\\envs\\CPSC-8430-DeepLearning\\lib\\site-packages\\sklearn\\model_selection\\_split.py:676: UserWarning: The least populated class in y has only 4 members, which is less than n_splits=5.\n",
      "  warnings.warn(\n"
     ]
    },
    {
     "name": "stdout",
     "output_type": "stream",
     "text": [
      "     13           nan       0.1429           nan  0.0150\n",
      "     14           nan       0.1429           nan  0.0150\n",
      "     15           nan       0.1429           nan  0.0140\n",
      "  epoch    train_loss    valid_acc    valid_loss     dur\n",
      "-------  ------------  -----------  ------------  ------\n",
      "      1           nan       \u001b[32m0.1429\u001b[0m           nan  0.0150\n",
      "      2           nan       0.1429           nan  0.0150\n",
      "      3           nan       0.1429           nan  0.0150\n",
      "      4           nan       0.1429           nan  0.0150\n",
      "      5           nan       0.1429           nan  0.0150\n",
      "      6           nan       0.1429           nan  0.0130\n",
      "      7           nan       0.1429           nan  0.0130\n",
      "      8           nan       0.1429           nan  0.0150\n",
      "      9           nan       0.1429           nan  0.0160\n",
      "     10           nan       0.1429           nan  0.0130\n",
      "     11           nan       0.1429           nan  0.0150\n"
     ]
    },
    {
     "name": "stderr",
     "output_type": "stream",
     "text": [
      "E:\\anaconda3\\envs\\CPSC-8430-DeepLearning\\lib\\site-packages\\sklearn\\model_selection\\_split.py:676: UserWarning: The least populated class in y has only 4 members, which is less than n_splits=5.\n",
      "  warnings.warn(\n"
     ]
    },
    {
     "name": "stdout",
     "output_type": "stream",
     "text": [
      "     12           nan       0.1429           nan  0.0150\n",
      "     13           nan       0.1429           nan  0.0150\n",
      "     14           nan       0.1429           nan  0.0140\n",
      "     15           nan       0.1429           nan  0.0160\n",
      "  epoch    train_loss    valid_acc    valid_loss     dur\n",
      "-------  ------------  -----------  ------------  ------\n",
      "      1           nan       \u001b[32m0.0714\u001b[0m           nan  0.0170\n",
      "      2           nan       0.0714           nan  0.0170\n",
      "      3           nan       0.0714           nan  0.0140\n",
      "      4           nan       0.0714           nan  0.0150\n",
      "      5           nan       0.0714           nan  0.0140\n",
      "  epoch    train_loss    valid_acc    valid_loss     dur\n",
      "-------  ------------  -----------  ------------  ------\n",
      "      1           nan       \u001b[32m0.1429\u001b[0m           nan  0.0160\n",
      "      2           nan       0.0714           nan  0.0170\n",
      "      3           nan       0.0714           nan  0.0160\n",
      "      4           nan       0.0714           nan  0.0160\n",
      "      5           nan       0.0714           nan  0.0130\n"
     ]
    },
    {
     "name": "stderr",
     "output_type": "stream",
     "text": [
      "E:\\anaconda3\\envs\\CPSC-8430-DeepLearning\\lib\\site-packages\\sklearn\\model_selection\\_split.py:676: UserWarning: The least populated class in y has only 4 members, which is less than n_splits=5.\n",
      "  warnings.warn(\n",
      "E:\\anaconda3\\envs\\CPSC-8430-DeepLearning\\lib\\site-packages\\sklearn\\model_selection\\_split.py:676: UserWarning: The least populated class in y has only 4 members, which is less than n_splits=5.\n",
      "  warnings.warn(\n"
     ]
    },
    {
     "name": "stdout",
     "output_type": "stream",
     "text": [
      "  epoch    train_loss    valid_acc    valid_loss     dur\n",
      "-------  ------------  -----------  ------------  ------\n",
      "      1           nan       \u001b[32m0.0714\u001b[0m           nan  0.0160\n",
      "      2           nan       \u001b[32m0.1429\u001b[0m           nan  0.0150\n",
      "      3           nan       0.1429           nan  0.0130\n",
      "      4           nan       0.1429           nan  0.0140\n",
      "      5           nan       0.0714           nan  0.0160\n",
      "  epoch    train_loss    valid_acc    valid_loss     dur\n",
      "-------  ------------  -----------  ------------  ------\n",
      "      1           nan       \u001b[32m0.1429\u001b[0m           nan  0.0160\n",
      "      2           nan       0.1429           nan  0.0160\n",
      "      3           nan       0.1429           nan  0.0130\n",
      "      4           nan       0.1429           nan  0.0160\n",
      "      5           nan       0.1429           nan  0.0160\n"
     ]
    },
    {
     "name": "stderr",
     "output_type": "stream",
     "text": [
      "E:\\anaconda3\\envs\\CPSC-8430-DeepLearning\\lib\\site-packages\\sklearn\\model_selection\\_split.py:676: UserWarning: The least populated class in y has only 4 members, which is less than n_splits=5.\n",
      "  warnings.warn(\n",
      "E:\\anaconda3\\envs\\CPSC-8430-DeepLearning\\lib\\site-packages\\sklearn\\model_selection\\_split.py:676: UserWarning: The least populated class in y has only 4 members, which is less than n_splits=5.\n",
      "  warnings.warn(\n"
     ]
    },
    {
     "name": "stdout",
     "output_type": "stream",
     "text": [
      "  epoch    train_loss    valid_acc    valid_loss     dur\n",
      "-------  ------------  -----------  ------------  ------\n",
      "      1           nan       \u001b[32m0.0714\u001b[0m           nan  0.0140\n",
      "      2           nan       0.0714           nan  0.0150\n",
      "      3           nan       0.0714           nan  0.0130\n",
      "      4           nan       0.0714           nan  0.0150\n",
      "      5           nan       0.0714           nan  0.0160\n",
      "  epoch    train_loss    valid_acc    valid_loss     dur\n",
      "-------  ------------  -----------  ------------  ------\n",
      "      1           nan       \u001b[32m0.0714\u001b[0m           nan  0.0150\n",
      "      2           nan       0.0714           nan  0.0150\n",
      "      3           nan       \u001b[32m0.1429\u001b[0m           nan  0.0130\n",
      "      4           nan       0.1429           nan  0.0160\n",
      "      5           nan       0.1429           nan  0.0160\n"
     ]
    },
    {
     "name": "stderr",
     "output_type": "stream",
     "text": [
      "E:\\anaconda3\\envs\\CPSC-8430-DeepLearning\\lib\\site-packages\\sklearn\\model_selection\\_split.py:676: UserWarning: The least populated class in y has only 4 members, which is less than n_splits=5.\n",
      "  warnings.warn(\n",
      "E:\\anaconda3\\envs\\CPSC-8430-DeepLearning\\lib\\site-packages\\sklearn\\model_selection\\_split.py:676: UserWarning: The least populated class in y has only 4 members, which is less than n_splits=5.\n",
      "  warnings.warn(\n"
     ]
    },
    {
     "name": "stdout",
     "output_type": "stream",
     "text": [
      "  epoch    train_loss    valid_acc    valid_loss     dur\n",
      "-------  ------------  -----------  ------------  ------\n",
      "      1           nan       \u001b[32m0.0714\u001b[0m           nan  0.0120\n",
      "      2           nan       0.0714           nan  0.0140\n",
      "      3           nan       \u001b[32m0.1429\u001b[0m           nan  0.0130\n",
      "      4           nan       0.1429           nan  0.0140\n",
      "      5           nan       0.1429           nan  0.0140\n",
      "  epoch    train_loss    valid_acc    valid_loss     dur\n",
      "-------  ------------  -----------  ------------  ------\n",
      "      1           nan       \u001b[32m0.0714\u001b[0m           nan  0.0140\n",
      "      2           nan       0.0714           nan  0.0150\n",
      "      3           nan       0.0714           nan  0.0150\n",
      "      4           nan       0.0714           nan  0.0160\n",
      "      5           nan       0.0714           nan  0.0160\n"
     ]
    },
    {
     "name": "stderr",
     "output_type": "stream",
     "text": [
      "E:\\anaconda3\\envs\\CPSC-8430-DeepLearning\\lib\\site-packages\\sklearn\\model_selection\\_split.py:676: UserWarning: The least populated class in y has only 4 members, which is less than n_splits=5.\n",
      "  warnings.warn(\n",
      "E:\\anaconda3\\envs\\CPSC-8430-DeepLearning\\lib\\site-packages\\sklearn\\model_selection\\_split.py:676: UserWarning: The least populated class in y has only 4 members, which is less than n_splits=5.\n",
      "  warnings.warn(\n",
      "E:\\anaconda3\\envs\\CPSC-8430-DeepLearning\\lib\\site-packages\\sklearn\\model_selection\\_split.py:676: UserWarning: The least populated class in y has only 4 members, which is less than n_splits=5.\n",
      "  warnings.warn(\n"
     ]
    },
    {
     "name": "stdout",
     "output_type": "stream",
     "text": [
      "  epoch    train_loss    valid_acc    valid_loss     dur\n",
      "-------  ------------  -----------  ------------  ------\n",
      "      1           nan       \u001b[32m0.1429\u001b[0m           nan  0.0140\n",
      "      2           nan       0.1429           nan  0.0150\n",
      "      3           nan       0.1429           nan  0.0150\n",
      "      4           nan       0.1429           nan  0.0140\n",
      "      5           nan       0.1429           nan  0.0130\n",
      "  epoch    train_loss    valid_acc    valid_loss     dur\n",
      "-------  ------------  -----------  ------------  ------\n",
      "      1           nan       \u001b[32m0.1429\u001b[0m           nan  0.0150\n",
      "      2           nan       0.1429           nan  0.0140\n",
      "      3           nan       0.1429           nan  0.0140\n",
      "      4           nan       0.1429           nan  0.0130\n",
      "      5           nan       0.1429           nan  0.0160\n",
      "      6           nan       0.1429           nan  0.0150\n",
      "      7           nan       0.1429           nan  0.0150\n",
      "      8           nan       0.1429           nan  0.0150\n",
      "      9           nan       0.1429           nan  0.0150\n",
      "     10           nan       0.1429           nan  0.0130\n",
      "  epoch    train_loss    valid_acc    valid_loss     dur\n",
      "-------  ------------  -----------  ------------  ------\n",
      "      1           nan       \u001b[32m0.0714\u001b[0m           nan  0.0140\n"
     ]
    },
    {
     "name": "stderr",
     "output_type": "stream",
     "text": [
      "E:\\anaconda3\\envs\\CPSC-8430-DeepLearning\\lib\\site-packages\\sklearn\\model_selection\\_split.py:676: UserWarning: The least populated class in y has only 4 members, which is less than n_splits=5.\n",
      "  warnings.warn(\n",
      "E:\\anaconda3\\envs\\CPSC-8430-DeepLearning\\lib\\site-packages\\sklearn\\model_selection\\_split.py:676: UserWarning: The least populated class in y has only 4 members, which is less than n_splits=5.\n",
      "  warnings.warn(\n"
     ]
    },
    {
     "name": "stdout",
     "output_type": "stream",
     "text": [
      "      2           nan       0.0714           nan  0.0170\n",
      "      3           nan       0.0714           nan  0.0150\n",
      "      4           nan       0.0714           nan  0.0170\n",
      "      5           nan       0.0714           nan  0.0150\n",
      "      6           nan       0.0714           nan  0.0130\n",
      "      7           nan       0.0714           nan  0.0140\n",
      "      8           nan       0.0714           nan  0.0170\n",
      "      9           nan       0.0714           nan  0.0130\n",
      "     10           nan       0.0714           nan  0.0170\n",
      "  epoch    train_loss    valid_acc    valid_loss     dur\n",
      "-------  ------------  -----------  ------------  ------\n",
      "      1           nan       \u001b[32m0.0714\u001b[0m           nan  0.0150\n",
      "      2           nan       0.0714           nan  0.0160\n",
      "      3           nan       0.0714           nan  0.0140\n",
      "      4           nan       0.0714           nan  0.0140\n",
      "      5           nan       0.0714           nan  0.0120\n",
      "      6           nan       0.0714           nan  0.0160\n",
      "      7           nan       0.0714           nan  0.0150\n",
      "      8           nan       0.0714           nan  0.0160\n",
      "      9           nan       0.0714           nan  0.0160\n",
      "     10           nan       0.0714           nan  0.0170\n",
      "  epoch    train_loss    valid_acc    valid_loss     dur\n",
      "-------  ------------  -----------  ------------  ------\n",
      "      1           nan       \u001b[32m0.1429\u001b[0m           nan  0.0120\n"
     ]
    },
    {
     "name": "stderr",
     "output_type": "stream",
     "text": [
      "E:\\anaconda3\\envs\\CPSC-8430-DeepLearning\\lib\\site-packages\\sklearn\\model_selection\\_split.py:676: UserWarning: The least populated class in y has only 4 members, which is less than n_splits=5.\n",
      "  warnings.warn(\n",
      "E:\\anaconda3\\envs\\CPSC-8430-DeepLearning\\lib\\site-packages\\sklearn\\model_selection\\_split.py:676: UserWarning: The least populated class in y has only 4 members, which is less than n_splits=5.\n",
      "  warnings.warn(\n"
     ]
    },
    {
     "name": "stdout",
     "output_type": "stream",
     "text": [
      "      2           nan       0.0714           nan  0.0140\n",
      "      3           nan       0.0714           nan  0.0120\n",
      "      4           nan       0.0714           nan  0.0130\n",
      "      5           nan       0.0714           nan  0.0130\n",
      "      6           nan       0.0714           nan  0.0140\n",
      "      7           nan       0.0714           nan  0.0160\n",
      "      8           nan       0.0714           nan  0.0140\n",
      "      9           nan       0.0714           nan  0.0120\n",
      "     10           nan       0.0714           nan  0.0140\n",
      "  epoch    train_loss    valid_acc    valid_loss     dur\n",
      "-------  ------------  -----------  ------------  ------\n",
      "      1           nan       \u001b[32m0.1429\u001b[0m           nan  0.0140\n",
      "      2           nan       0.1429           nan  0.0140\n",
      "      3           nan       0.1429           nan  0.0140\n",
      "      4           nan       0.1429           nan  0.0160\n",
      "      5           nan       0.1429           nan  0.0140\n",
      "      6           nan       0.1429           nan  0.0140\n",
      "      7           nan       0.1429           nan  0.0130\n",
      "      8           nan       0.1429           nan  0.0150\n",
      "      9           nan       0.1429           nan  0.0130\n",
      "     10           nan       0.1429           nan  0.0130\n",
      "  epoch    train_loss    valid_acc    valid_loss     dur\n",
      "-------  ------------  -----------  ------------  ------\n",
      "      1           nan       \u001b[32m0.1429\u001b[0m           nan  0.0140\n"
     ]
    },
    {
     "name": "stderr",
     "output_type": "stream",
     "text": [
      "E:\\anaconda3\\envs\\CPSC-8430-DeepLearning\\lib\\site-packages\\sklearn\\model_selection\\_split.py:676: UserWarning: The least populated class in y has only 4 members, which is less than n_splits=5.\n",
      "  warnings.warn(\n",
      "E:\\anaconda3\\envs\\CPSC-8430-DeepLearning\\lib\\site-packages\\sklearn\\model_selection\\_split.py:676: UserWarning: The least populated class in y has only 4 members, which is less than n_splits=5.\n",
      "  warnings.warn(\n"
     ]
    },
    {
     "name": "stdout",
     "output_type": "stream",
     "text": [
      "      2           nan       0.1429           nan  0.0140\n",
      "      3           nan       0.1429           nan  0.0130\n",
      "      4           nan       0.1429           nan  0.0140\n",
      "      5           nan       0.1429           nan  0.0140\n",
      "      6           nan       0.1429           nan  0.0130\n",
      "      7           nan       0.1429           nan  0.0130\n",
      "      8           nan       0.1429           nan  0.0130\n",
      "      9           nan       0.1429           nan  0.0160\n",
      "     10           nan       0.1429           nan  0.0120\n",
      "  epoch    train_loss    valid_acc    valid_loss     dur\n",
      "-------  ------------  -----------  ------------  ------\n",
      "      1           nan       \u001b[32m0.0714\u001b[0m           nan  0.0150\n",
      "      2           nan       0.0714           nan  0.0150\n",
      "      3           nan       0.0714           nan  0.0130\n",
      "      4           nan       0.0714           nan  0.0150\n",
      "      5           nan       0.0714           nan  0.0140\n",
      "      6           nan       0.0714           nan  0.0140\n",
      "      7           nan       0.0714           nan  0.0130\n",
      "      8           nan       0.0714           nan  0.0140\n",
      "      9           nan       0.0714           nan  0.0160\n",
      "     10           nan       0.0714           nan  0.0150\n"
     ]
    },
    {
     "name": "stderr",
     "output_type": "stream",
     "text": [
      "E:\\anaconda3\\envs\\CPSC-8430-DeepLearning\\lib\\site-packages\\sklearn\\model_selection\\_split.py:676: UserWarning: The least populated class in y has only 4 members, which is less than n_splits=5.\n",
      "  warnings.warn(\n",
      "E:\\anaconda3\\envs\\CPSC-8430-DeepLearning\\lib\\site-packages\\sklearn\\model_selection\\_split.py:676: UserWarning: The least populated class in y has only 4 members, which is less than n_splits=5.\n",
      "  warnings.warn(\n"
     ]
    },
    {
     "name": "stdout",
     "output_type": "stream",
     "text": [
      "  epoch    train_loss    valid_acc    valid_loss     dur\n",
      "-------  ------------  -----------  ------------  ------\n",
      "      1           nan       \u001b[32m0.1429\u001b[0m           nan  0.0170\n",
      "      2           nan       0.1429           nan  0.0140\n",
      "      3           nan       0.1429           nan  0.0140\n",
      "      4           nan       0.1429           nan  0.0130\n",
      "      5           nan       0.1429           nan  0.0130\n",
      "      6           nan       0.1429           nan  0.0120\n",
      "      7           nan       0.1429           nan  0.0140\n",
      "      8           nan       0.1429           nan  0.0120\n",
      "      9           nan       0.1429           nan  0.0130\n",
      "     10           nan       0.1429           nan  0.0140\n",
      "  epoch    train_loss    valid_acc    valid_loss     dur\n",
      "-------  ------------  -----------  ------------  ------\n",
      "      1           nan       \u001b[32m0.0714\u001b[0m           nan  0.0130\n",
      "      2           nan       0.0714           nan  0.0140\n",
      "      3           nan       0.0714           nan  0.0140\n",
      "      4           nan       0.0714           nan  0.0160\n",
      "      5           nan       0.0714           nan  0.0150\n",
      "      6           nan       0.0714           nan  0.0140\n",
      "      7           nan       0.0714           nan  0.0120\n",
      "      8           nan       0.0714           nan  0.0130\n",
      "      9           nan       0.0714           nan  0.0140\n",
      "     10           nan       0.0714           nan  0.0150\n",
      "  epoch    train_loss    valid_acc    valid_loss     dur\n",
      "-------  ------------  -----------  ------------  ------\n",
      "      1           nan       \u001b[32m0.1429\u001b[0m           nan  0.0170\n"
     ]
    },
    {
     "name": "stderr",
     "output_type": "stream",
     "text": [
      "E:\\anaconda3\\envs\\CPSC-8430-DeepLearning\\lib\\site-packages\\sklearn\\model_selection\\_split.py:676: UserWarning: The least populated class in y has only 4 members, which is less than n_splits=5.\n",
      "  warnings.warn(\n",
      "E:\\anaconda3\\envs\\CPSC-8430-DeepLearning\\lib\\site-packages\\sklearn\\model_selection\\_split.py:676: UserWarning: The least populated class in y has only 4 members, which is less than n_splits=5.\n",
      "  warnings.warn(\n"
     ]
    },
    {
     "name": "stdout",
     "output_type": "stream",
     "text": [
      "      2           nan       0.0714           nan  0.0180\n",
      "      3           nan       0.0714           nan  0.0140\n",
      "      4           nan       0.0714           nan  0.0140\n",
      "      5           nan       0.0714           nan  0.0140\n",
      "      6           nan       0.0714           nan  0.0160\n",
      "      7           nan       0.0714           nan  0.0140\n",
      "      8           nan       0.0714           nan  0.0150\n",
      "      9           nan       0.0714           nan  0.0150\n",
      "     10           nan       0.0714           nan  0.0150\n",
      "     11           nan       0.0714           nan  0.0140\n",
      "     12           nan       0.0714           nan  0.0150\n",
      "     13           nan       0.0714           nan  0.0150\n",
      "     14           nan       0.0714           nan  0.0150\n",
      "     15           nan       0.0714           nan  0.0130\n",
      "  epoch    train_loss    valid_acc    valid_loss     dur\n",
      "-------  ------------  -----------  ------------  ------\n",
      "      1           nan       \u001b[32m0.1429\u001b[0m           nan  0.0160\n",
      "      2           nan       0.1429           nan  0.0140\n",
      "      3           nan       0.1429           nan  0.0140\n",
      "      4           nan       0.1429           nan  0.0160\n",
      "      5           nan       0.1429           nan  0.0150\n",
      "      6           nan       0.0714           nan  0.0140\n",
      "      7           nan       0.0714           nan  0.0140\n",
      "      8           nan       0.0714           nan  0.0150\n",
      "      9           nan       0.0714           nan  0.0170\n",
      "     10           nan       0.0714           nan  0.0160\n",
      "     11           nan       0.0714           nan  0.0160\n"
     ]
    },
    {
     "name": "stderr",
     "output_type": "stream",
     "text": [
      "E:\\anaconda3\\envs\\CPSC-8430-DeepLearning\\lib\\site-packages\\sklearn\\model_selection\\_split.py:676: UserWarning: The least populated class in y has only 4 members, which is less than n_splits=5.\n",
      "  warnings.warn(\n"
     ]
    },
    {
     "name": "stdout",
     "output_type": "stream",
     "text": [
      "     12           nan       0.0714           nan  0.0150\n",
      "     13           nan       0.0714           nan  0.0130\n",
      "     14           nan       0.0714           nan  0.0140\n",
      "     15           nan       0.0714           nan  0.0120\n",
      "  epoch    train_loss    valid_acc    valid_loss     dur\n",
      "-------  ------------  -----------  ------------  ------\n",
      "      1           nan       \u001b[32m0.0714\u001b[0m           nan  0.0140\n",
      "      2           nan       0.0714           nan  0.0140\n",
      "      3           nan       0.0714           nan  0.0150\n",
      "      4           nan       0.0714           nan  0.0140\n",
      "      5           nan       0.0714           nan  0.0160\n",
      "      6           nan       0.0714           nan  0.0140\n",
      "      7           nan       \u001b[32m0.1429\u001b[0m           nan  0.0160\n",
      "      8           nan       0.1429           nan  0.0150\n",
      "      9           nan       \u001b[32m0.2857\u001b[0m           nan  0.0150\n",
      "     10           nan       0.1429           nan  0.0140\n",
      "     11           nan       0.1429           nan  0.0140\n"
     ]
    },
    {
     "name": "stderr",
     "output_type": "stream",
     "text": [
      "E:\\anaconda3\\envs\\CPSC-8430-DeepLearning\\lib\\site-packages\\sklearn\\model_selection\\_split.py:676: UserWarning: The least populated class in y has only 4 members, which is less than n_splits=5.\n",
      "  warnings.warn(\n"
     ]
    },
    {
     "name": "stdout",
     "output_type": "stream",
     "text": [
      "     12           nan       0.1429           nan  0.0140\n",
      "     13           nan       0.1429           nan  0.0140\n",
      "     14           nan       0.1429           nan  0.0140\n",
      "     15           nan       0.1429           nan  0.0130\n",
      "  epoch    train_loss    valid_acc    valid_loss     dur\n",
      "-------  ------------  -----------  ------------  ------\n",
      "      1           nan       \u001b[32m0.0714\u001b[0m           nan  0.0120\n",
      "      2           nan       \u001b[32m0.1429\u001b[0m           nan  0.0150\n",
      "      3           nan       0.1429           nan  0.0150\n",
      "      4           nan       0.1429           nan  0.0140\n",
      "      5           nan       0.1429           nan  0.0130\n",
      "      6           nan       0.1429           nan  0.0130\n",
      "      7           nan       0.1429           nan  0.0140\n",
      "      8           nan       0.1429           nan  0.0150\n",
      "      9           nan       0.1429           nan  0.0140\n",
      "     10           nan       0.1429           nan  0.0140\n",
      "     11           nan       0.1429           nan  0.0140\n"
     ]
    },
    {
     "name": "stderr",
     "output_type": "stream",
     "text": [
      "E:\\anaconda3\\envs\\CPSC-8430-DeepLearning\\lib\\site-packages\\sklearn\\model_selection\\_split.py:676: UserWarning: The least populated class in y has only 4 members, which is less than n_splits=5.\n",
      "  warnings.warn(\n"
     ]
    },
    {
     "name": "stdout",
     "output_type": "stream",
     "text": [
      "     12           nan       0.1429           nan  0.0140\n",
      "     13           nan       0.1429           nan  0.0190\n",
      "     14           nan       0.1429           nan  0.0160\n",
      "     15           nan       0.1429           nan  0.0130\n",
      "  epoch    train_loss    valid_acc    valid_loss     dur\n",
      "-------  ------------  -----------  ------------  ------\n",
      "      1           nan       \u001b[32m0.0714\u001b[0m           nan  0.0130\n",
      "      2           nan       0.0714           nan  0.0160\n",
      "      3           nan       0.0714           nan  0.0140\n",
      "      4           nan       0.0714           nan  0.0140\n",
      "      5           nan       0.0714           nan  0.0150\n",
      "      6           nan       0.0714           nan  0.0140\n",
      "      7           nan       0.0714           nan  0.0140\n",
      "      8           nan       0.0714           nan  0.0120\n",
      "      9           nan       0.0714           nan  0.0140\n",
      "     10           nan       0.0714           nan  0.0150\n",
      "     11           nan       0.0714           nan  0.0140\n",
      "     12           nan       0.0714           nan  0.0150\n"
     ]
    },
    {
     "name": "stderr",
     "output_type": "stream",
     "text": [
      "E:\\anaconda3\\envs\\CPSC-8430-DeepLearning\\lib\\site-packages\\sklearn\\model_selection\\_split.py:676: UserWarning: The least populated class in y has only 4 members, which is less than n_splits=5.\n",
      "  warnings.warn(\n"
     ]
    },
    {
     "name": "stdout",
     "output_type": "stream",
     "text": [
      "     13           nan       0.0714           nan  0.0140\n",
      "     14           nan       0.0714           nan  0.0140\n",
      "     15           nan       0.0714           nan  0.0130\n",
      "  epoch    train_loss    valid_acc    valid_loss     dur\n",
      "-------  ------------  -----------  ------------  ------\n",
      "      1           nan       \u001b[32m0.1429\u001b[0m           nan  0.0120\n",
      "      2           nan       0.0714           nan  0.0140\n",
      "      3           nan       0.0714           nan  0.0160\n",
      "      4           nan       0.0714           nan  0.0160\n",
      "      5           nan       0.0714           nan  0.0130\n",
      "      6           nan       0.0714           nan  0.0140\n",
      "      7           nan       0.0714           nan  0.0140\n",
      "      8           nan       0.0714           nan  0.0150\n",
      "      9           nan       0.0714           nan  0.0160\n",
      "     10           nan       0.0714           nan  0.0140\n",
      "     11           nan       0.0714           nan  0.0140\n",
      "     12           nan       0.0714           nan  0.0140\n"
     ]
    },
    {
     "name": "stderr",
     "output_type": "stream",
     "text": [
      "E:\\anaconda3\\envs\\CPSC-8430-DeepLearning\\lib\\site-packages\\sklearn\\model_selection\\_split.py:676: UserWarning: The least populated class in y has only 4 members, which is less than n_splits=5.\n",
      "  warnings.warn(\n"
     ]
    },
    {
     "name": "stdout",
     "output_type": "stream",
     "text": [
      "     13           nan       0.0714           nan  0.0150\n",
      "     14           nan       0.0714           nan  0.0130\n",
      "     15           nan       0.0714           nan  0.0130\n",
      "  epoch    train_loss    valid_acc    valid_loss     dur\n",
      "-------  ------------  -----------  ------------  ------\n",
      "      1           nan       \u001b[32m0.1429\u001b[0m           nan  0.0120\n",
      "      2           nan       0.1429           nan  0.0160\n",
      "      3           nan       0.1429           nan  0.0140\n",
      "      4           nan       0.1429           nan  0.0140\n",
      "      5           nan       0.1429           nan  0.0130\n",
      "      6           nan       0.1429           nan  0.0120\n",
      "      7           nan       0.1429           nan  0.0140\n",
      "      8           nan       0.1429           nan  0.0140\n",
      "      9           nan       0.1429           nan  0.0130\n",
      "     10           nan       0.1429           nan  0.0140\n",
      "     11           nan       \u001b[32m0.2143\u001b[0m           nan  0.0150\n"
     ]
    },
    {
     "name": "stderr",
     "output_type": "stream",
     "text": [
      "E:\\anaconda3\\envs\\CPSC-8430-DeepLearning\\lib\\site-packages\\sklearn\\model_selection\\_split.py:676: UserWarning: The least populated class in y has only 4 members, which is less than n_splits=5.\n",
      "  warnings.warn(\n"
     ]
    },
    {
     "name": "stdout",
     "output_type": "stream",
     "text": [
      "     12           nan       0.2143           nan  0.0140\n",
      "     13           nan       0.2143           nan  0.0130\n",
      "     14           nan       0.2143           nan  0.0130\n",
      "     15           nan       0.2143           nan  0.0150\n",
      "  epoch    train_loss    valid_acc    valid_loss     dur\n",
      "-------  ------------  -----------  ------------  ------\n",
      "      1           nan       \u001b[32m0.1429\u001b[0m           nan  0.0160\n",
      "      2           nan       0.1429           nan  0.0130\n",
      "      3           nan       0.1429           nan  0.0130\n",
      "      4           nan       0.1429           nan  0.0130\n",
      "      5           nan       0.1429           nan  0.0140\n",
      "      6           nan       0.1429           nan  0.0130\n",
      "      7           nan       0.1429           nan  0.0130\n",
      "      8           nan       0.1429           nan  0.0140\n",
      "      9           nan       0.1429           nan  0.0140\n",
      "     10           nan       0.1429           nan  0.0140\n",
      "     11           nan       0.1429           nan  0.0120\n"
     ]
    },
    {
     "name": "stderr",
     "output_type": "stream",
     "text": [
      "E:\\anaconda3\\envs\\CPSC-8430-DeepLearning\\lib\\site-packages\\sklearn\\model_selection\\_split.py:676: UserWarning: The least populated class in y has only 4 members, which is less than n_splits=5.\n",
      "  warnings.warn(\n"
     ]
    },
    {
     "name": "stdout",
     "output_type": "stream",
     "text": [
      "     12           nan       0.0714           nan  0.0130\n",
      "     13           nan       0.0714           nan  0.0120\n",
      "     14           nan       0.0714           nan  0.0150\n",
      "     15           nan       0.0714           nan  0.0140\n",
      "  epoch    train_loss    valid_acc    valid_loss     dur\n",
      "-------  ------------  -----------  ------------  ------\n",
      "      1           nan       \u001b[32m0.1429\u001b[0m           nan  0.0120\n",
      "      2           nan       0.1429           nan  0.0130\n",
      "      3           nan       0.1429           nan  0.0120\n",
      "      4           nan       0.0714           nan  0.0160\n",
      "      5           nan       0.0714           nan  0.0160\n",
      "      6           nan       0.0714           nan  0.0150\n",
      "      7           nan       0.0714           nan  0.0150\n",
      "      8           nan       0.0714           nan  0.0170\n",
      "      9           nan       0.0714           nan  0.0160\n",
      "     10           nan       0.0714           nan  0.0170\n",
      "     11           nan       0.0714           nan  0.0150\n"
     ]
    },
    {
     "name": "stderr",
     "output_type": "stream",
     "text": [
      "E:\\anaconda3\\envs\\CPSC-8430-DeepLearning\\lib\\site-packages\\sklearn\\model_selection\\_split.py:676: UserWarning: The least populated class in y has only 4 members, which is less than n_splits=5.\n",
      "  warnings.warn(\n"
     ]
    },
    {
     "name": "stdout",
     "output_type": "stream",
     "text": [
      "     12           nan       0.0714           nan  0.0170\n",
      "     13           nan       0.0714           nan  0.0160\n",
      "     14           nan       0.0714           nan  0.0140\n",
      "     15           nan       0.0714           nan  0.0160\n",
      "  epoch    train_loss    valid_acc    valid_loss     dur\n",
      "-------  ------------  -----------  ------------  ------\n",
      "      1           nan       \u001b[32m0.2143\u001b[0m           nan  0.0150\n",
      "      2           nan       \u001b[32m0.2857\u001b[0m           nan  0.0170\n",
      "      3           nan       0.2857           nan  0.0170\n",
      "      4           nan       0.2857           nan  0.0140\n",
      "      5           nan       0.2857           nan  0.0140\n",
      "  epoch    train_loss    valid_acc    valid_loss     dur\n",
      "-------  ------------  -----------  ------------  ------\n",
      "      1           nan       \u001b[32m0.0714\u001b[0m           nan  0.0140\n",
      "      2           nan       0.0714           nan  0.0160\n",
      "      3           nan       \u001b[32m0.1429\u001b[0m           nan  0.0140\n",
      "      4           nan       0.0714           nan  0.0150\n",
      "      5           nan       0.0714           nan  0.0150\n"
     ]
    },
    {
     "name": "stderr",
     "output_type": "stream",
     "text": [
      "E:\\anaconda3\\envs\\CPSC-8430-DeepLearning\\lib\\site-packages\\sklearn\\model_selection\\_split.py:676: UserWarning: The least populated class in y has only 4 members, which is less than n_splits=5.\n",
      "  warnings.warn(\n",
      "E:\\anaconda3\\envs\\CPSC-8430-DeepLearning\\lib\\site-packages\\sklearn\\model_selection\\_split.py:676: UserWarning: The least populated class in y has only 4 members, which is less than n_splits=5.\n",
      "  warnings.warn(\n"
     ]
    },
    {
     "name": "stdout",
     "output_type": "stream",
     "text": [
      "  epoch    train_loss    valid_acc    valid_loss     dur\n",
      "-------  ------------  -----------  ------------  ------\n",
      "      1           nan       \u001b[32m0.0714\u001b[0m           nan  0.0120\n",
      "      2           nan       0.0714           nan  0.0140\n",
      "      3           nan       0.0714           nan  0.0140\n",
      "      4           nan       \u001b[32m0.1429\u001b[0m           nan  0.0150\n",
      "      5           nan       0.1429           nan  0.0130\n",
      "  epoch    train_loss    valid_acc    valid_loss     dur\n",
      "-------  ------------  -----------  ------------  ------\n",
      "      1           nan       \u001b[32m0.1429\u001b[0m           nan  0.0130\n",
      "      2           nan       0.1429           nan  0.0140\n",
      "      3           nan       0.1429           nan  0.0140\n",
      "      4           nan       0.1429           nan  0.0140\n",
      "      5           nan       0.1429           nan  0.0120\n",
      "  epoch    train_loss    valid_acc    valid_loss     dur\n",
      "-------  ------------  -----------  ------------  ------\n",
      "      1           nan       \u001b[32m0.0714\u001b[0m           nan  0.0120\n"
     ]
    },
    {
     "name": "stderr",
     "output_type": "stream",
     "text": [
      "E:\\anaconda3\\envs\\CPSC-8430-DeepLearning\\lib\\site-packages\\sklearn\\model_selection\\_split.py:676: UserWarning: The least populated class in y has only 4 members, which is less than n_splits=5.\n",
      "  warnings.warn(\n",
      "E:\\anaconda3\\envs\\CPSC-8430-DeepLearning\\lib\\site-packages\\sklearn\\model_selection\\_split.py:676: UserWarning: The least populated class in y has only 4 members, which is less than n_splits=5.\n",
      "  warnings.warn(\n",
      "E:\\anaconda3\\envs\\CPSC-8430-DeepLearning\\lib\\site-packages\\sklearn\\model_selection\\_split.py:676: UserWarning: The least populated class in y has only 4 members, which is less than n_splits=5.\n",
      "  warnings.warn(\n"
     ]
    },
    {
     "name": "stdout",
     "output_type": "stream",
     "text": [
      "      2           nan       \u001b[32m0.1429\u001b[0m           nan  0.0140\n",
      "      3           nan       0.0714           nan  0.0140\n",
      "      4           nan       0.0714           nan  0.0170\n",
      "      5           nan       0.0714           nan  0.0160\n",
      "  epoch    train_loss    valid_acc    valid_loss     dur\n",
      "-------  ------------  -----------  ------------  ------\n",
      "      1           nan       \u001b[32m0.1429\u001b[0m           nan  0.0130\n",
      "      2           nan       0.1429           nan  0.0170\n",
      "      3           nan       0.1429           nan  0.0140\n",
      "      4           nan       0.1429           nan  0.0150\n",
      "      5           nan       0.1429           nan  0.0160\n",
      "  epoch    train_loss    valid_acc    valid_loss     dur\n",
      "-------  ------------  -----------  ------------  ------\n",
      "      1           nan       \u001b[32m0.1429\u001b[0m           nan  0.0150\n",
      "      2           nan       0.1429           nan  0.0130\n",
      "      3           nan       0.1429           nan  0.0150\n",
      "      4           nan       0.1429           nan  0.0130\n",
      "      5           nan       0.1429           nan  0.0160\n"
     ]
    },
    {
     "name": "stderr",
     "output_type": "stream",
     "text": [
      "E:\\anaconda3\\envs\\CPSC-8430-DeepLearning\\lib\\site-packages\\sklearn\\model_selection\\_split.py:676: UserWarning: The least populated class in y has only 4 members, which is less than n_splits=5.\n",
      "  warnings.warn(\n",
      "E:\\anaconda3\\envs\\CPSC-8430-DeepLearning\\lib\\site-packages\\sklearn\\model_selection\\_split.py:676: UserWarning: The least populated class in y has only 4 members, which is less than n_splits=5.\n",
      "  warnings.warn(\n",
      "E:\\anaconda3\\envs\\CPSC-8430-DeepLearning\\lib\\site-packages\\sklearn\\model_selection\\_split.py:676: UserWarning: The least populated class in y has only 4 members, which is less than n_splits=5.\n",
      "  warnings.warn(\n"
     ]
    },
    {
     "name": "stdout",
     "output_type": "stream",
     "text": [
      "  epoch    train_loss    valid_acc    valid_loss     dur\n",
      "-------  ------------  -----------  ------------  ------\n",
      "      1           nan       \u001b[32m0.1429\u001b[0m           nan  0.0150\n",
      "      2           nan       0.1429           nan  0.0150\n",
      "      3           nan       0.1429           nan  0.0160\n",
      "      4           nan       0.1429           nan  0.0160\n",
      "      5           nan       0.1429           nan  0.0150\n",
      "  epoch    train_loss    valid_acc    valid_loss     dur\n",
      "-------  ------------  -----------  ------------  ------\n",
      "      1           nan       \u001b[32m0.0714\u001b[0m           nan  0.0140\n",
      "      2           nan       0.0000           nan  0.0160\n",
      "      3           nan       0.0000           nan  0.0130\n",
      "      4           nan       0.0000           nan  0.0140\n",
      "      5           nan       0.0000           nan  0.0130\n",
      "  epoch    train_loss    valid_acc    valid_loss     dur\n",
      "-------  ------------  -----------  ------------  ------\n",
      "      1           nan       \u001b[32m0.2857\u001b[0m           nan  0.0150\n",
      "      2           nan       0.1429           nan  0.0140\n",
      "      3           nan       0.2143           nan  0.0160\n",
      "      4           nan       0.2143           nan  0.0160\n",
      "      5           nan       0.2143           nan  0.0150\n",
      "      6           nan       0.2143           nan  0.0150\n"
     ]
    },
    {
     "name": "stderr",
     "output_type": "stream",
     "text": [
      "E:\\anaconda3\\envs\\CPSC-8430-DeepLearning\\lib\\site-packages\\sklearn\\model_selection\\_split.py:676: UserWarning: The least populated class in y has only 4 members, which is less than n_splits=5.\n",
      "  warnings.warn(\n",
      "E:\\anaconda3\\envs\\CPSC-8430-DeepLearning\\lib\\site-packages\\sklearn\\model_selection\\_split.py:676: UserWarning: The least populated class in y has only 4 members, which is less than n_splits=5.\n",
      "  warnings.warn(\n"
     ]
    },
    {
     "name": "stdout",
     "output_type": "stream",
     "text": [
      "      7           nan       0.2143           nan  0.0170\n",
      "      8           nan       0.2143           nan  0.0180\n",
      "      9           nan       0.2143           nan  0.0180\n",
      "     10           nan       0.2143           nan  0.0180\n",
      "  epoch    train_loss    valid_acc    valid_loss     dur\n",
      "-------  ------------  -----------  ------------  ------\n",
      "      1           nan       \u001b[32m0.0714\u001b[0m           nan  0.0170\n",
      "      2           nan       0.0714           nan  0.0150\n",
      "      3           nan       0.0714           nan  0.0140\n",
      "      4           nan       0.0714           nan  0.0150\n",
      "      5           nan       0.0714           nan  0.0160\n",
      "      6           nan       0.0714           nan  0.0130\n",
      "      7           nan       0.0714           nan  0.0130\n",
      "      8           nan       0.0714           nan  0.0140\n",
      "      9           nan       \u001b[32m0.1429\u001b[0m           nan  0.0150\n",
      "     10           nan       0.0714           nan  0.0140\n",
      "  epoch    train_loss    valid_acc    valid_loss     dur\n",
      "-------  ------------  -----------  ------------  ------\n",
      "      1           nan       \u001b[32m0.1429\u001b[0m           nan  0.0150\n"
     ]
    },
    {
     "name": "stderr",
     "output_type": "stream",
     "text": [
      "E:\\anaconda3\\envs\\CPSC-8430-DeepLearning\\lib\\site-packages\\sklearn\\model_selection\\_split.py:676: UserWarning: The least populated class in y has only 4 members, which is less than n_splits=5.\n",
      "  warnings.warn(\n",
      "E:\\anaconda3\\envs\\CPSC-8430-DeepLearning\\lib\\site-packages\\sklearn\\model_selection\\_split.py:676: UserWarning: The least populated class in y has only 4 members, which is less than n_splits=5.\n",
      "  warnings.warn(\n"
     ]
    },
    {
     "name": "stdout",
     "output_type": "stream",
     "text": [
      "      2           nan       0.1429           nan  0.0150\n",
      "      3           nan       0.1429           nan  0.0150\n",
      "      4           nan       0.1429           nan  0.0150\n",
      "      5           nan       0.1429           nan  0.0150\n",
      "      6           nan       0.1429           nan  0.0150\n",
      "      7           nan       0.1429           nan  0.0160\n",
      "      8           nan       0.1429           nan  0.0130\n",
      "      9           nan       0.1429           nan  0.0150\n",
      "     10           nan       0.1429           nan  0.0150\n",
      "  epoch    train_loss    valid_acc    valid_loss     dur\n",
      "-------  ------------  -----------  ------------  ------\n",
      "      1           nan       \u001b[32m0.0714\u001b[0m           nan  0.0150\n",
      "      2           nan       0.0714           nan  0.0150\n",
      "      3           nan       0.0714           nan  0.0160\n",
      "      4           nan       0.0714           nan  0.0130\n",
      "      5           nan       0.0714           nan  0.0150\n",
      "      6           nan       0.0714           nan  0.0160\n",
      "      7           nan       0.0714           nan  0.0160\n",
      "      8           nan       0.0714           nan  0.0130\n",
      "      9           nan       0.0714           nan  0.0150\n",
      "     10           nan       0.0714           nan  0.0150\n"
     ]
    },
    {
     "name": "stderr",
     "output_type": "stream",
     "text": [
      "E:\\anaconda3\\envs\\CPSC-8430-DeepLearning\\lib\\site-packages\\sklearn\\model_selection\\_split.py:676: UserWarning: The least populated class in y has only 4 members, which is less than n_splits=5.\n",
      "  warnings.warn(\n",
      "E:\\anaconda3\\envs\\CPSC-8430-DeepLearning\\lib\\site-packages\\sklearn\\model_selection\\_split.py:676: UserWarning: The least populated class in y has only 4 members, which is less than n_splits=5.\n",
      "  warnings.warn(\n"
     ]
    },
    {
     "name": "stdout",
     "output_type": "stream",
     "text": [
      "  epoch    train_loss    valid_acc    valid_loss     dur\n",
      "-------  ------------  -----------  ------------  ------\n",
      "      1           nan       \u001b[32m0.0714\u001b[0m           nan  0.0130\n",
      "      2           nan       0.0714           nan  0.0150\n",
      "      3           nan       0.0714           nan  0.0150\n",
      "      4           nan       0.0714           nan  0.0140\n",
      "      5           nan       0.0714           nan  0.0140\n",
      "      6           nan       0.0714           nan  0.0160\n",
      "      7           nan       0.0714           nan  0.0140\n",
      "      8           nan       0.0714           nan  0.0150\n",
      "      9           nan       0.0714           nan  0.0170\n",
      "     10           nan       0.0714           nan  0.0190\n",
      "  epoch    train_loss    valid_acc    valid_loss     dur\n",
      "-------  ------------  -----------  ------------  ------\n",
      "      1           nan       \u001b[32m0.0714\u001b[0m           nan  0.0180\n",
      "      2           nan       0.0714           nan  0.0140\n",
      "      3           nan       0.0714           nan  0.0170\n",
      "      4           nan       0.0714           nan  0.0320\n",
      "      5           nan       0.0714           nan  0.0250\n",
      "      6           nan       0.0714           nan  0.0160\n",
      "      7           nan       0.0714           nan  0.0160\n",
      "      8           nan       0.0714           nan  0.0180\n"
     ]
    },
    {
     "name": "stderr",
     "output_type": "stream",
     "text": [
      "E:\\anaconda3\\envs\\CPSC-8430-DeepLearning\\lib\\site-packages\\sklearn\\model_selection\\_split.py:676: UserWarning: The least populated class in y has only 4 members, which is less than n_splits=5.\n",
      "  warnings.warn(\n"
     ]
    },
    {
     "name": "stdout",
     "output_type": "stream",
     "text": [
      "      9           nan       0.0714           nan  0.0140\n",
      "     10           nan       0.0714           nan  0.0140\n",
      "  epoch    train_loss    valid_acc    valid_loss     dur\n",
      "-------  ------------  -----------  ------------  ------\n",
      "      1           nan       \u001b[32m0.0714\u001b[0m           nan  0.0140\n",
      "      2           nan       0.0714           nan  0.0170\n",
      "      3           nan       0.0714           nan  0.0210\n",
      "      4           nan       0.0714           nan  0.0170\n",
      "      5           nan       0.0714           nan  0.0170\n",
      "      6           nan       0.0714           nan  0.0140\n",
      "      7           nan       0.0714           nan  0.0150\n",
      "      8           nan       0.0714           nan  0.0130\n",
      "      9           nan       0.0714           nan  0.0150\n",
      "     10           nan       0.0714           nan  0.0140\n"
     ]
    },
    {
     "name": "stderr",
     "output_type": "stream",
     "text": [
      "E:\\anaconda3\\envs\\CPSC-8430-DeepLearning\\lib\\site-packages\\sklearn\\model_selection\\_split.py:676: UserWarning: The least populated class in y has only 4 members, which is less than n_splits=5.\n",
      "  warnings.warn(\n"
     ]
    },
    {
     "name": "stdout",
     "output_type": "stream",
     "text": [
      "  epoch    train_loss    valid_acc    valid_loss     dur\n",
      "-------  ------------  -----------  ------------  ------\n",
      "      1           nan       \u001b[32m0.0714\u001b[0m           nan  0.0160\n",
      "      2           nan       0.0714           nan  0.0150\n",
      "      3           nan       0.0714           nan  0.0150\n",
      "      4           nan       0.0714           nan  0.0130\n",
      "      5           nan       0.0714           nan  0.0140\n",
      "      6           nan       0.0714           nan  0.0150\n",
      "      7           nan       0.0714           nan  0.0150\n",
      "      8           nan       0.0714           nan  0.0130\n",
      "      9           nan       0.0714           nan  0.0130\n",
      "     10           nan       0.0714           nan  0.0150\n",
      "  epoch    train_loss    valid_acc    valid_loss     dur\n",
      "-------  ------------  -----------  ------------  ------\n",
      "      1           nan       \u001b[32m0.0714\u001b[0m           nan  0.0130\n"
     ]
    },
    {
     "name": "stderr",
     "output_type": "stream",
     "text": [
      "E:\\anaconda3\\envs\\CPSC-8430-DeepLearning\\lib\\site-packages\\sklearn\\model_selection\\_split.py:676: UserWarning: The least populated class in y has only 4 members, which is less than n_splits=5.\n",
      "  warnings.warn(\n",
      "E:\\anaconda3\\envs\\CPSC-8430-DeepLearning\\lib\\site-packages\\sklearn\\model_selection\\_split.py:676: UserWarning: The least populated class in y has only 4 members, which is less than n_splits=5.\n",
      "  warnings.warn(\n"
     ]
    },
    {
     "name": "stdout",
     "output_type": "stream",
     "text": [
      "      2           nan       0.0714           nan  0.0150\n",
      "      3           nan       0.0714           nan  0.0140\n",
      "      4           nan       0.0714           nan  0.0150\n",
      "      5           nan       0.0714           nan  0.0140\n",
      "      6           nan       0.0714           nan  0.0130\n",
      "      7           nan       0.0714           nan  0.0140\n",
      "      8           nan       0.0714           nan  0.0130\n",
      "      9           nan       0.0714           nan  0.0140\n",
      "     10           nan       0.0714           nan  0.0130\n",
      "  epoch    train_loss    valid_acc    valid_loss     dur\n",
      "-------  ------------  -----------  ------------  ------\n",
      "      1           nan       \u001b[32m0.1429\u001b[0m           nan  0.0130\n",
      "      2           nan       0.1429           nan  0.0140\n",
      "      3           nan       0.0000           nan  0.0140\n",
      "      4           nan       0.1429           nan  0.0130\n",
      "      5           nan       0.1429           nan  0.0140\n",
      "      6           nan       \u001b[32m0.2143\u001b[0m           nan  0.0140\n",
      "      7           nan       0.2143           nan  0.0120\n",
      "      8           nan       0.2143           nan  0.0130\n",
      "      9           nan       0.2143           nan  0.0140\n",
      "     10           nan       \u001b[32m0.2857\u001b[0m           nan  0.0130\n",
      "     11           nan       \u001b[32m0.3571\u001b[0m           nan  0.0150\n",
      "     12           nan       0.2857           nan  0.0140\n"
     ]
    },
    {
     "name": "stderr",
     "output_type": "stream",
     "text": [
      "E:\\anaconda3\\envs\\CPSC-8430-DeepLearning\\lib\\site-packages\\sklearn\\model_selection\\_split.py:676: UserWarning: The least populated class in y has only 4 members, which is less than n_splits=5.\n",
      "  warnings.warn(\n"
     ]
    },
    {
     "name": "stdout",
     "output_type": "stream",
     "text": [
      "     13           nan       0.1429           nan  0.0160\n",
      "     14           nan       0.1429           nan  0.0140\n",
      "     15           nan       0.1429           nan  0.0150\n",
      "  epoch    train_loss    valid_acc    valid_loss     dur\n",
      "-------  ------------  -----------  ------------  ------\n",
      "      1           nan       \u001b[32m0.2143\u001b[0m           nan  0.0130\n",
      "      2           nan       0.1429           nan  0.0140\n",
      "      3           nan       0.1429           nan  0.0130\n",
      "      4           nan       0.1429           nan  0.0160\n",
      "      5           nan       0.1429           nan  0.0170\n",
      "      6           nan       0.1429           nan  0.0140\n",
      "      7           nan       0.1429           nan  0.0130\n",
      "      8           nan       0.1429           nan  0.0130\n",
      "      9           nan       0.1429           nan  0.0140\n",
      "     10           nan       0.1429           nan  0.0130\n",
      "     11           nan       0.1429           nan  0.0150\n",
      "     12           nan       0.1429           nan  0.0170\n"
     ]
    },
    {
     "name": "stderr",
     "output_type": "stream",
     "text": [
      "E:\\anaconda3\\envs\\CPSC-8430-DeepLearning\\lib\\site-packages\\sklearn\\model_selection\\_split.py:676: UserWarning: The least populated class in y has only 4 members, which is less than n_splits=5.\n",
      "  warnings.warn(\n"
     ]
    },
    {
     "name": "stdout",
     "output_type": "stream",
     "text": [
      "     13           nan       0.1429           nan  0.0130\n",
      "     14           nan       0.1429           nan  0.0130\n",
      "     15           nan       0.1429           nan  0.0120\n",
      "  epoch    train_loss    valid_acc    valid_loss     dur\n",
      "-------  ------------  -----------  ------------  ------\n",
      "      1           nan       \u001b[32m0.0714\u001b[0m           nan  0.0170\n",
      "      2           nan       0.0714           nan  0.0160\n",
      "      3           nan       0.0714           nan  0.0180\n",
      "      4           nan       \u001b[32m0.2143\u001b[0m           nan  0.0150\n",
      "      5           nan       0.1429           nan  0.0150\n",
      "      6           nan       0.1429           nan  0.0140\n",
      "      7           nan       0.1429           nan  0.0130\n",
      "      8           nan       0.1429           nan  0.0130\n",
      "      9           nan       0.1429           nan  0.0130\n",
      "     10           nan       0.1429           nan  0.0180\n",
      "     11           nan       0.1429           nan  0.0170\n"
     ]
    },
    {
     "name": "stderr",
     "output_type": "stream",
     "text": [
      "E:\\anaconda3\\envs\\CPSC-8430-DeepLearning\\lib\\site-packages\\sklearn\\model_selection\\_split.py:676: UserWarning: The least populated class in y has only 4 members, which is less than n_splits=5.\n",
      "  warnings.warn(\n"
     ]
    },
    {
     "name": "stdout",
     "output_type": "stream",
     "text": [
      "     12           nan       0.1429           nan  0.0130\n",
      "     13           nan       0.1429           nan  0.0140\n",
      "     14           nan       0.1429           nan  0.0120\n",
      "     15           nan       0.1429           nan  0.0150\n",
      "  epoch    train_loss    valid_acc    valid_loss     dur\n",
      "-------  ------------  -----------  ------------  ------\n",
      "      1           nan       \u001b[32m0.1429\u001b[0m           nan  0.0130\n",
      "      2           nan       0.0714           nan  0.0130\n",
      "      3           nan       0.0714           nan  0.0140\n",
      "      4           nan       0.0714           nan  0.0130\n",
      "      5           nan       0.0714           nan  0.0150\n",
      "      6           nan       0.0714           nan  0.0130\n",
      "      7           nan       0.0714           nan  0.0130\n",
      "      8           nan       0.0714           nan  0.0120\n",
      "      9           nan       0.0714           nan  0.0150\n",
      "     10           nan       0.0714           nan  0.0150\n",
      "     11           nan       0.0714           nan  0.0140\n",
      "     12           nan       0.0714           nan  0.0140\n"
     ]
    },
    {
     "name": "stderr",
     "output_type": "stream",
     "text": [
      "E:\\anaconda3\\envs\\CPSC-8430-DeepLearning\\lib\\site-packages\\sklearn\\model_selection\\_split.py:676: UserWarning: The least populated class in y has only 4 members, which is less than n_splits=5.\n",
      "  warnings.warn(\n"
     ]
    },
    {
     "name": "stdout",
     "output_type": "stream",
     "text": [
      "     13           nan       0.0714           nan  0.0140\n",
      "     14           nan       0.0714           nan  0.0150\n",
      "     15           nan       0.0714           nan  0.0140\n",
      "  epoch    train_loss    valid_acc    valid_loss     dur\n",
      "-------  ------------  -----------  ------------  ------\n",
      "      1           nan       \u001b[32m0.0714\u001b[0m           nan  0.0130\n",
      "      2           nan       0.0714           nan  0.0130\n",
      "      3           nan       0.0714           nan  0.0120\n",
      "      4           nan       0.0714           nan  0.0140\n",
      "      5           nan       0.0714           nan  0.0150\n",
      "      6           nan       0.0714           nan  0.0140\n",
      "      7           nan       0.0714           nan  0.0130\n",
      "      8           nan       0.0714           nan  0.0150\n",
      "      9           nan       0.0714           nan  0.0130\n",
      "     10           nan       0.0714           nan  0.0150\n",
      "     11           nan       0.0714           nan  0.0150\n"
     ]
    },
    {
     "name": "stderr",
     "output_type": "stream",
     "text": [
      "E:\\anaconda3\\envs\\CPSC-8430-DeepLearning\\lib\\site-packages\\sklearn\\model_selection\\_split.py:676: UserWarning: The least populated class in y has only 4 members, which is less than n_splits=5.\n",
      "  warnings.warn(\n"
     ]
    },
    {
     "name": "stdout",
     "output_type": "stream",
     "text": [
      "     12           nan       0.0714           nan  0.0150\n",
      "     13           nan       0.0714           nan  0.0150\n",
      "     14           nan       0.0714           nan  0.0130\n",
      "     15           nan       0.0714           nan  0.0170\n",
      "  epoch    train_loss    valid_acc    valid_loss     dur\n",
      "-------  ------------  -----------  ------------  ------\n",
      "      1           nan       \u001b[32m0.0714\u001b[0m           nan  0.0120\n",
      "      2           nan       0.0714           nan  0.0140\n",
      "      3           nan       0.0714           nan  0.0140\n",
      "      4           nan       0.0714           nan  0.0130\n",
      "      5           nan       0.0714           nan  0.0150\n",
      "      6           nan       0.0714           nan  0.0150\n",
      "      7           nan       0.0714           nan  0.0150\n",
      "      8           nan       0.0714           nan  0.0140\n",
      "      9           nan       0.0714           nan  0.0160\n",
      "     10           nan       0.0714           nan  0.0150\n",
      "     11           nan       0.0714           nan  0.0130\n",
      "     12           nan       0.0714           nan  0.0130\n"
     ]
    },
    {
     "name": "stderr",
     "output_type": "stream",
     "text": [
      "E:\\anaconda3\\envs\\CPSC-8430-DeepLearning\\lib\\site-packages\\sklearn\\model_selection\\_split.py:676: UserWarning: The least populated class in y has only 4 members, which is less than n_splits=5.\n",
      "  warnings.warn(\n"
     ]
    },
    {
     "name": "stdout",
     "output_type": "stream",
     "text": [
      "     13           nan       0.0714           nan  0.0130\n",
      "     14           nan       0.0714           nan  0.0150\n",
      "     15           nan       0.0714           nan  0.0150\n",
      "  epoch    train_loss    valid_acc    valid_loss     dur\n",
      "-------  ------------  -----------  ------------  ------\n",
      "      1           nan       \u001b[32m0.1429\u001b[0m           nan  0.0130\n",
      "      2           nan       0.1429           nan  0.0150\n",
      "      3           nan       0.1429           nan  0.0160\n",
      "      4           nan       0.1429           nan  0.0150\n",
      "      5           nan       \u001b[32m0.2143\u001b[0m           nan  0.0140\n",
      "      6           nan       0.2143           nan  0.0120\n",
      "      7           nan       0.2143           nan  0.0110\n",
      "      8           nan       0.2143           nan  0.0120\n",
      "      9           nan       0.2143           nan  0.0120\n",
      "     10           nan       0.2143           nan  0.0130\n",
      "     11           nan       0.2143           nan  0.0140\n",
      "     12           nan       0.2143           nan  0.0120\n"
     ]
    },
    {
     "name": "stderr",
     "output_type": "stream",
     "text": [
      "E:\\anaconda3\\envs\\CPSC-8430-DeepLearning\\lib\\site-packages\\sklearn\\model_selection\\_split.py:676: UserWarning: The least populated class in y has only 4 members, which is less than n_splits=5.\n",
      "  warnings.warn(\n"
     ]
    },
    {
     "name": "stdout",
     "output_type": "stream",
     "text": [
      "     13           nan       0.2143           nan  0.0140\n",
      "     14           nan       0.2143           nan  0.0130\n",
      "     15           nan       0.2143           nan  0.0130\n",
      "  epoch    train_loss    valid_acc    valid_loss     dur\n",
      "-------  ------------  -----------  ------------  ------\n",
      "      1           nan       \u001b[32m0.2143\u001b[0m           nan  0.0130\n",
      "      2           nan       0.2143           nan  0.0150\n",
      "      3           nan       0.2143           nan  0.0140\n",
      "      4           nan       0.2143           nan  0.0130\n",
      "      5           nan       0.2143           nan  0.0130\n",
      "      6           nan       0.2143           nan  0.0160\n",
      "      7           nan       0.2143           nan  0.0140\n",
      "      8           nan       0.2143           nan  0.0140\n",
      "      9           nan       0.2143           nan  0.0130\n",
      "     10           nan       0.2143           nan  0.0130\n",
      "     11           nan       0.2143           nan  0.0150\n",
      "     12           nan       0.2143           nan  0.0150\n"
     ]
    },
    {
     "name": "stderr",
     "output_type": "stream",
     "text": [
      "E:\\anaconda3\\envs\\CPSC-8430-DeepLearning\\lib\\site-packages\\sklearn\\model_selection\\_split.py:676: UserWarning: The least populated class in y has only 4 members, which is less than n_splits=5.\n",
      "  warnings.warn(\n"
     ]
    },
    {
     "name": "stdout",
     "output_type": "stream",
     "text": [
      "     13           nan       0.2143           nan  0.0120\n",
      "     14           nan       0.2143           nan  0.0120\n",
      "     15           nan       0.2143           nan  0.0160\n",
      "  epoch    train_loss    valid_acc    valid_loss     dur\n",
      "-------  ------------  -----------  ------------  ------\n",
      "      1           nan       \u001b[32m0.0714\u001b[0m           nan  0.0130\n",
      "      2           nan       0.0714           nan  0.0130\n",
      "      3           nan       0.0000           nan  0.0130\n",
      "      4           nan       0.0000           nan  0.0120\n",
      "      5           nan       0.0000           nan  0.0140\n",
      "      6           nan       0.0000           nan  0.0130\n",
      "      7           nan       0.0000           nan  0.0150\n",
      "      8           nan       0.0000           nan  0.0140\n",
      "      9           nan       0.0000           nan  0.0140\n",
      "     10           nan       0.0000           nan  0.0150\n",
      "     11           nan       0.0000           nan  0.0120\n",
      "     12           nan       0.0000           nan  0.0150\n"
     ]
    },
    {
     "name": "stderr",
     "output_type": "stream",
     "text": [
      "E:\\anaconda3\\envs\\CPSC-8430-DeepLearning\\lib\\site-packages\\sklearn\\model_selection\\_split.py:676: UserWarning: The least populated class in y has only 4 members, which is less than n_splits=5.\n",
      "  warnings.warn(\n"
     ]
    },
    {
     "name": "stdout",
     "output_type": "stream",
     "text": [
      "     13           nan       0.0000           nan  0.0130\n",
      "     14           nan       0.0000           nan  0.0130\n",
      "     15           nan       0.0000           nan  0.0150\n",
      "0.1806298276886512 {'lr': 0.015, 'max_epochs': 10, 'optimizer': <class 'torch.optim.sgd.SGD'>}\n"
     ]
    }
   ],
   "source": [
    "# for i, (images, labels) in enumerate(train_loader): \n",
    "#     net.fit(images, labels)\n",
    "\n",
    "\n",
    "gs = GridSearchCV(net, params, refit=False, cv=3, scoring='accuracy')\n",
    "\n",
    "gs.fit(images, labels)\n",
    "print(gs.best_score_, gs.best_params_)"
   ]
  },
  {
   "cell_type": "code",
   "execution_count": null,
   "id": "83c72c5c",
   "metadata": {},
   "outputs": [
    {
     "name": "stdout",
     "output_type": "stream",
     "text": [
      "Total no of parameters in Model 3: 25621\n"
     ]
    }
   ],
   "source": [
    "#modeling as per o/p of gridSearch\n",
    "\n",
    "cnn3_Op = CNN3()\n",
    "loss_func = nn.CrossEntropyLoss()\n",
    "optimizer = torch.optim.SGD(cnn3_Op.parameters(), lr=0.015, weight_decay = 1e-4)\n",
    "\n",
    "a=[]\n",
    "\n",
    "for i in cnn3_Op.parameters():\n",
    "    a.append(torch.numel(i))\n",
    "print('Total no of parameters in Model 3:', np.sum(a),)"
   ]
  },
  {
   "cell_type": "code",
   "execution_count": null,
   "id": "d5e6db6c",
   "metadata": {},
   "outputs": [
    {
     "name": "stdout",
     "output_type": "stream",
     "text": [
      "Epoch [1/10], Step [100/100], Loss: 2.2653\n",
      "Epoch [1/10], Accuracy : 18.911666666666665 %\n",
      "Epoch [2/10], Step [100/100], Loss: 2.0547\n",
      "Epoch [2/10], Accuracy : 41.805 %\n",
      "Epoch [3/10], Step [100/100], Loss: 0.9048\n",
      "Epoch [3/10], Accuracy : 66.02333333333333 %\n",
      "Epoch [4/10], Step [100/100], Loss: 0.5395\n",
      "Epoch [4/10], Accuracy : 81.07833333333333 %\n",
      "Epoch [5/10], Step [100/100], Loss: 0.4757\n",
      "Epoch [5/10], Accuracy : 84.995 %\n",
      "Epoch [6/10], Step [100/100], Loss: 0.3936\n",
      "Epoch [6/10], Accuracy : 87.51166666666667 %\n",
      "Epoch [7/10], Step [100/100], Loss: 0.3218\n",
      "Epoch [7/10], Accuracy : 89.00666666666666 %\n",
      "Epoch [8/10], Step [100/100], Loss: 0.2596\n",
      "Epoch [8/10], Accuracy : 90.10666666666667 %\n",
      "Epoch [9/10], Step [100/100], Loss: 0.2787\n",
      "Epoch [9/10], Accuracy : 90.94666666666667 %\n",
      "Epoch [10/10], Step [100/100], Loss: 0.2481\n",
      "Epoch [10/10], Accuracy : 91.585 %\n",
      "Max Epoch Reached\n"
     ]
    }
   ],
   "source": [
    "train_epoch3_Op,train_losses3_Op,train_acc3_Op=testFunc(cnn3_Op,10)"
   ]
  },
  {
   "cell_type": "code",
   "execution_count": null,
   "id": "957af281",
   "metadata": {},
   "outputs": [
    {
     "data": {
      "image/png": "[encoded data removed]",
      "text/plain": [
       "<Figure size 432x288 with 1 Axes>"
      ]
     },
     "metadata": {
      "needs_background": "light"
     },
     "output_type": "display_data"
    }
   ],
   "source": [
    "#plot\n",
    "plt.plot(train_epoch3_Op,train_losses3_Op,color=\"blue\")\n",
    "plt.title('CNN Loss VS Epoch')\n",
    "plt.show()"
   ]
  },
  {
   "cell_type": "code",
   "execution_count": null,
   "id": "956e9d18",
   "metadata": {},
   "outputs": [
    {
     "data": {
      "image/png": "[encoded data removed]",
      "text/plain": [
       "<Figure size 432x288 with 1 Axes>"
      ]
     },
     "metadata": {
      "needs_background": "light"
     },
     "output_type": "display_data"
    }
   ],
   "source": [
    "#plot\n",
    "plt.plot(train_epoch3_Op,train_acc3_Op,color=\"red\")\n",
    "plt.title('CNN accuracy VS Epoch')\n",
    "plt.show()"
   ]
  },
  {
   "cell_type": "code",
   "execution_count": null,
   "id": "b25998ff",
   "metadata": {},
   "outputs": [
    {
     "name": "stdout",
     "output_type": "stream",
     "text": [
      "Accuracy of the network: 92.71 %\n",
      "Accuracy of 0: 98.06122448979592 %\n",
      "Accuracy of 1: 98.14977973568281 %\n",
      "Accuracy of 2: 90.79457364341086 %\n",
      "Accuracy of 3: 93.36633663366337 %\n",
      "Accuracy of 4: 92.36252545824847 %\n",
      "Accuracy of 5: 89.01345291479821 %\n",
      "Accuracy of 6: 94.78079331941545 %\n",
      "Accuracy of 7: 91.73151750972762 %\n",
      "Accuracy of 8: 91.9917864476386 %\n",
      "Accuracy of 9: 86.02576808721507 %\n"
     ]
    }
   ],
   "source": [
    "with torch.no_grad():\n",
    "    n_correct = 0\n",
    "    n_samples = 0\n",
    "    n_class_correct = [0 for i in range(10)]\n",
    "    n_class_samples = [0 for i in range(10)]\n",
    "    for test_images, test_labels in test_loader:\n",
    "        outputs = cnn3_Op(test_images)\n",
    "        # max returns (value ,index)\n",
    "        _, predicted = torch.max(outputs, 1)\n",
    "        n_samples += test_labels.size(0)\n",
    "        n_correct += (predicted == test_labels).sum().item()\n",
    "        \n",
    "        for i in range(100):\n",
    "            label = test_labels[i]\n",
    "            pred = predicted[i]\n",
    "            if (label == pred):\n",
    "                n_class_correct[label] += 1\n",
    "            n_class_samples[label] += 1\n",
    "\n",
    "    netTest_acc3 = 100.0 * n_correct / n_samples\n",
    "    print(f'Accuracy of the network: {netTest_acc3} %')\n",
    "\n",
    "    for i in range(10):\n",
    "        acc = 100.0 * n_class_correct[i] / n_class_samples[i]\n",
    "        print(f'Accuracy of {i}: {acc} %')"
   ]
  },
  {
   "cell_type": "code",
   "execution_count": null,
   "id": "79872d4b",
   "metadata": {},
   "outputs": [],
   "source": []
  }
 ],
 "metadata": {
  "kernelspec": {
   "display_name": "Python 3 (ipykernel)",
   "language": "python",
   "name": "python3"
  },
  "language_info": {
   "codemirror_mode": {
    "name": "ipython",
    "version": 3
   },
   "file_extension": ".py",
   "mimetype": "text/x-python",
   "name": "python",
   "nbconvert_exporter": "python",
   "pygments_lexer": "ipython3",
   "version": "3.9.7"
  }
 },
 "nbformat": 4,
 "nbformat_minor": 5
}
