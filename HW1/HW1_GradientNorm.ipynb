{
 "cells": [
  {
   "cell_type": "code",
   "execution_count": 2,
   "metadata": {},
   "outputs": [
    {
     "name": "stdout",
     "output_type": "stream",
     "text": [
      "Xshape: torch.Size([300, 1]) \n",
      " Yshape: torch.Size([300, 1])\n"
     ]
    },
    {
     "name": "stderr",
     "output_type": "stream",
     "text": [
      "C:\\Users\\Dinesh\\AppData\\Local\\Temp/ipykernel_7556/3457197851.py:24: UserWarning: To copy construct from a tensor, it is recommended to use sourceTensor.clone().detach() or sourceTensor.clone().detach().requires_grad_(True), rather than torch.tensor(sourceTensor).\n",
      "  x, y = torch.tensor(x, dtype=torch.float32), torch.tensor(y, dtype=torch.float32)\n"
     ]
    },
    {
     "data": {
      "image/png": "[encoded data removed]",
      "text/plain": [
       "<Figure size 720x288 with 1 Axes>"
      ]
     },
     "metadata": {
      "needs_background": "light"
     },
     "output_type": "display_data"
    }
   ],
   "source": [
    "#Importing the libraries\n",
    "import numpy as np\n",
    "import pandas as pd\n",
    "import sklearn\n",
    "import torch\n",
    "import torch.nn as nn\n",
    "import torch.nn.parallel\n",
    "import torch.optim as optim\n",
    "import torch.nn.functional as F\n",
    "from torch.autograd import Variable\n",
    "import matplotlib.pyplot as plt\n",
    "import math\n",
    "\n",
    "#1st Function\n",
    "#Creating the data\n",
    "\n",
    "torch.manual_seed(1) \n",
    "x = torch.unsqueeze(torch.linspace(-1, 1, 300), dim=1)  # x data (tensor), shape=(300, 1)\n",
    "y = (np.sin(5*np.pi*x))/(5*np.pi*x) #non-linear y function\n",
    "#y = (np.cos(7 * x * np.pi))\n",
    "print('Xshape:',x.shape,\"\\n Yshape:\",y.shape)\n",
    "\n",
    "#x, y = Variable(x), Variable(y) #converting data into variables as pytorch requirments\n",
    "x, y = torch.tensor(x, dtype=torch.float32), torch.tensor(y, dtype=torch.float32)\n",
    "\n",
    "plt.figure(figsize=(10,4))\n",
    "plt.plot(x, y, color = \"red\")\n",
    "plt.title('Function Plot')\n",
    "plt.xlabel('Independent varible')\n",
    "plt.ylabel('Dependent varible')\n",
    "plt.savefig('funcplt.png')\n",
    "\n",
    "plt.show()\n",
    "\n",
    "n_samples, n_features = x.shape"
   ]
  },
  {
   "cell_type": "code",
   "execution_count": 8,
   "metadata": {},
   "outputs": [],
   "source": [
    "class M1(nn.Module):\n",
    "    def __init__(self,):\n",
    "        super(M1, self).__init__()\n",
    "        self.fc1 = nn.Linear(1, 500)\n",
    "        self.fc2 = nn.Linear(500, 1)\n",
    "\n",
    "    def forward(self, x):\n",
    "        # flatten as one dimension\n",
    "        x = F.relu(self.fc1(x))\n",
    "        x = self.fc2(x)\n",
    "        return x"
   ]
  },
  {
   "cell_type": "code",
   "execution_count": 9,
   "metadata": {},
   "outputs": [],
   "source": [
    "def trainFunc(model,x,y):\n",
    "    max_epoch = 2500\n",
    "    epoch_arr,loss_arr=[],[]\n",
    "    not_converged = True\n",
    "    epoch = 0\n",
    "    gradArr = []\n",
    "    while not_converged:\n",
    "        epoch += 1\n",
    "        prediction = model(x)     # input x and predict based on x\n",
    "        loss = loss_func(prediction, y)     # must be (1. nn output, 2. target)\n",
    "        optimizer.zero_grad()   # clear gradients for next train\n",
    "        loss.backward()         # backpropagation, compute gradients\n",
    "        #optimizer.step() \n",
    "        \n",
    "        epoch_arr.append(epoch)\n",
    "        loss_arr.append(loss.detach().numpy())\n",
    "\n",
    "        #Generating Gradient Norm\n",
    "        grad_all = 0.0\n",
    "        for p in model.parameters():\n",
    "            grad = 0.0\n",
    "            if p.grad is not None:\n",
    "                grad = (p.grad.cpu().data.numpy()**2).sum()\n",
    "            grad_all += grad\n",
    "        grad_norm = grad_all ** 0.5\n",
    "        \n",
    "\n",
    "        optimizer.step() \n",
    "        \n",
    "        gradArr.append(grad_norm)\n",
    "        \n",
    "        if epoch%100 == 0 : print(f'epoch: {epoch}, loss = {loss.item():.4f}, grad_norm = {grad_norm}') #, weight = {model.weight.item()},  bias ={model.bias.item()}')\n",
    "                \n",
    "        if epoch == max_epoch:\n",
    "                print(\"Max Epoch Reached\")\n",
    "                not_converged = False\n",
    "        elif (epoch > 5) and  (loss_arr[-1] < 0.001):\n",
    "            if abs(loss_arr[-3] - loss_arr[-2]) < 1.0e-05 and abs(loss_arr[-2] - loss_arr[-1]) < 1.0e-05:\n",
    "                print(\"Convergeance reached for loss:\",loss_arr[-1])\n",
    "                not_converged = False\n",
    "        \n",
    "        \n",
    "                \n",
    "    return epoch_arr,loss_arr,prediction,grad_norm,gradArr"
   ]
  },
  {
   "cell_type": "code",
   "execution_count": 10,
   "metadata": {},
   "outputs": [
    {
     "name": "stdout",
     "output_type": "stream",
     "text": [
      "Total no of parameters in Model 1: 1501\n"
     ]
    }
   ],
   "source": [
    "torch.manual_seed(1)\n",
    "m1 = M1()     # define the network\n",
    "#optimizer = torch.optim.RMSprop(m1.parameters(), lr=0.0012, weight_decay = 1e-4)\n",
    "optimizer = torch.optim.Adam(m1.parameters(), lr=1e-3, weight_decay = 1e-4)\n",
    "loss_func = torch.nn.MSELoss()  # this is for regression mean squared loss\n",
    "\n",
    "a=[]\n",
    "for i in m1.parameters():\n",
    "    a.append(torch.numel(i))\n",
    "print('Total no of parameters in Model 1:', np.sum(a),)\n"
   ]
  },
  {
   "cell_type": "code",
   "execution_count": 11,
   "metadata": {},
   "outputs": [
    {
     "name": "stdout",
     "output_type": "stream",
     "text": [
      "epoch: 100, loss = 0.0518, grad_norm = 0.04283320311880395\n",
      "epoch: 200, loss = 0.0310, grad_norm = 0.031609780745387846\n",
      "epoch: 300, loss = 0.0158, grad_norm = 0.020876135529738434\n",
      "epoch: 400, loss = 0.0092, grad_norm = 0.012218539741289287\n",
      "epoch: 500, loss = 0.0066, grad_norm = 0.007913756331905126\n",
      "epoch: 600, loss = 0.0053, grad_norm = 0.005739814379183488\n",
      "epoch: 700, loss = 0.0045, grad_norm = 0.004793770653153116\n",
      "epoch: 800, loss = 0.0038, grad_norm = 0.004211540127698489\n",
      "epoch: 900, loss = 0.0032, grad_norm = 0.003948555551262074\n",
      "epoch: 1000, loss = 0.0027, grad_norm = 0.014226526428228118\n",
      "epoch: 1100, loss = 0.0023, grad_norm = 0.029382791599518288\n",
      "epoch: 1200, loss = 0.0020, grad_norm = 0.011261936640878246\n",
      "epoch: 1300, loss = 0.0017, grad_norm = 0.01032363088742358\n",
      "epoch: 1400, loss = 0.0015, grad_norm = 0.02293522814060316\n",
      "epoch: 1500, loss = 0.0014, grad_norm = 0.0027822441166205324\n",
      "epoch: 1600, loss = 0.0012, grad_norm = 0.005770535728006602\n",
      "epoch: 1700, loss = 0.0011, grad_norm = 0.015777106189545448\n",
      "epoch: 1800, loss = 0.0010, grad_norm = 0.005702932403098778\n",
      "Convergeance reached for loss: 0.0009995186\n"
     ]
    }
   ],
   "source": [
    "M1epoch_arr,M1loss_arr,M1prediction,M1grad_norm,M1gradArr = trainFunc(m1,x,y)"
   ]
  },
  {
   "cell_type": "code",
   "execution_count": 12,
   "metadata": {},
   "outputs": [
    {
     "data": {
      "image/png": "[encoded data removed]",
      "text/plain": [
       "<Figure size 432x288 with 1 Axes>"
      ]
     },
     "metadata": {
      "needs_background": "light"
     },
     "output_type": "display_data"
    }
   ],
   "source": [
    "#plot\n",
    "plt.plot(M1epoch_arr,M1gradArr,color=\"blue\")\n",
    "plt.title('Gradient Norm Observation During Training')\n",
    "plt.xlabel(\"Epoch\")\n",
    "plt.ylabel(\"Grad\")\n",
    "plt.show()"
   ]
  },
  {
   "cell_type": "code",
   "execution_count": 13,
   "metadata": {},
   "outputs": [
    {
     "data": {
      "image/png": "[encoded data removed]",
      "text/plain": [
       "<Figure size 432x288 with 1 Axes>"
      ]
     },
     "metadata": {
      "needs_background": "light"
     },
     "output_type": "display_data"
    }
   ],
   "source": [
    "#plot\n",
    "plt.plot(M1epoch_arr,M1loss_arr,color=\"blue\")\n",
    "plt.title('Loss Observation During Training')\n",
    "plt.xlabel(\"Epoch\")\n",
    "plt.ylabel(\"Loss\")\n",
    "plt.show()"
   ]
  },
  {
   "cell_type": "code",
   "execution_count": null,
   "metadata": {},
   "outputs": [],
   "source": []
  }
 ],
 "metadata": {
  "interpreter": {
   "hash": "d1d86b2f3ed665d691ce24c615a98bbc398f66743afc4d4e970e6f8b36fab2b9"
  },
  "kernelspec": {
   "display_name": "Python 3.9.7 64-bit ('CPSC-8430-DeepLearning': conda)",
   "language": "python",
   "name": "python3"
  },
  "language_info": {
   "codemirror_mode": {
    "name": "ipython",
    "version": 3
   },
   "file_extension": ".py",
   "mimetype": "text/x-python",
   "name": "python",
   "nbconvert_exporter": "python",
   "pygments_lexer": "ipython3",
   "version": "3.9.7"
  },
  "orig_nbformat": 4
 },
 "nbformat": 4,
 "nbformat_minor": 2
}
