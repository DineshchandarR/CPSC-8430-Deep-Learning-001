{
 "cells": [
  {
   "cell_type": "code",
   "execution_count": 30,
   "metadata": {},
   "outputs": [],
   "source": [
    "import torch\n",
    "import torch.nn as nn\n",
    "import torch.nn.functional as F\n",
    "import torchvision\n",
    "import torchvision.transforms as transforms\n",
    "import matplotlib.pyplot as plt\n",
    "import numpy as np\n",
    "from torch.nn.utils import parameters_to_vector, vector_to_parameters\n",
    "from torch.autograd import Variable\n",
    "from sklearn.decomposition import PCA\n",
    "import pandas as pd\n",
    "import copy"
   ]
  },
  {
   "cell_type": "code",
   "execution_count": 31,
   "metadata": {},
   "outputs": [
    {
     "data": {
      "text/plain": [
       "<torch._C.Generator at 0x1b8d55478b0>"
      ]
     },
     "execution_count": 31,
     "metadata": {},
     "output_type": "execute_result"
    }
   ],
   "source": [
    "torch.manual_seed(1)"
   ]
  },
  {
   "cell_type": "code",
   "execution_count": 32,
   "metadata": {},
   "outputs": [
    {
     "name": "stdout",
     "output_type": "stream",
     "text": [
      "train_dataset size: 60000 \n",
      "test_dataset size: 10000\n"
     ]
    }
   ],
   "source": [
    "# MNIST dataset \n",
    "train_dataset = torchvision.datasets.MNIST(root='./data', \n",
    "                                           train=True, \n",
    "                                           transform=transforms.ToTensor(),  \n",
    "                                           download=False)\n",
    "\n",
    "test_dataset = torchvision.datasets.MNIST(root='./data', \n",
    "                                          train=False, \n",
    "                                          transform=transforms.ToTensor())\n",
    "\n",
    "print(\"train_dataset size:\", len(train_dataset),\"\\ntest_dataset size:\", len(test_dataset))"
   ]
  },
  {
   "cell_type": "code",
   "execution_count": 33,
   "metadata": {},
   "outputs": [],
   "source": [
    "# Data loader func\n",
    "def train_loader(batch_size):\n",
    "    train_loader = torch.utils.data.DataLoader(dataset=train_dataset, \n",
    "                                           batch_size = batch_size, \n",
    "                                           shuffle=True)\n",
    "    return train_loader\n",
    "\n",
    "\n",
    "def test_loader(batch_size):\n",
    "    test_loader = torch.utils.data.DataLoader(dataset=test_dataset, \n",
    "                                          batch_size=batch_size, \n",
    "                                          shuffle=False)\n",
    "    return test_loader"
   ]
  },
  {
   "cell_type": "code",
   "execution_count": 34,
   "metadata": {},
   "outputs": [],
   "source": [
    "class Model(nn.Module):\n",
    "    def __init__(self,):\n",
    "        super(Model, self).__init__()\n",
    "        self.conv1 = nn.Conv2d(1, 6, 5)\n",
    "        self.conv2 = nn.Conv2d(6, 16, 5)\n",
    "        self.fc1 = nn.Linear(256, 120)\n",
    "        # self.fc2 = nn.Linear(120, 84)\n",
    "        self.fc3 = nn.Linear(120, 10)\n",
    "\n",
    "    def forward(self, x):\n",
    "        x = F.max_pool2d(F.relu(self.conv1(x)), 2)\n",
    "        x = F.max_pool2d(F.relu(self.conv2(x)), 2)\n",
    "        # flatten as one dimension\n",
    "        x = x.view(x.size()[0], -1)\n",
    "        x = F.relu(self.fc1(x))\n",
    "        # x = F.relu(self.fc2(x))\n",
    "\n",
    "        x = self.fc3(x)\n",
    "        return x"
   ]
  },
  {
   "cell_type": "code",
   "execution_count": 35,
   "metadata": {},
   "outputs": [],
   "source": [
    "#train function\n",
    "def trainFunc(model,num_epochs,train_batch_size,status_interval):\n",
    "    model.train()\n",
    "    print('strated')\n",
    "    train_load = train_loader(train_batch_size)\n",
    "    n_total_steps = len(train_load)\n",
    "    train_losses = []\n",
    "    train_epoch = []\n",
    "    train_acc = []\n",
    "    epoch = 0\n",
    "    modelParamWgt={}\n",
    "    for epoch in range (num_epochs):\n",
    "        epoch += 1\n",
    "        n_correct = 0\n",
    "        n_samples = 0\n",
    "        lossSum =0\n",
    "\n",
    "        for i, (images, labels) in enumerate(train_load):  \n",
    "            #if (i+1)% 60 == 0 : print(i+1)\n",
    "            images, labels = Variable(images),Variable(labels)\n",
    "            \n",
    "            optimizer.zero_grad()\n",
    "            \n",
    "            # Forward pass\n",
    "            prediction = model(images)\n",
    "\n",
    "            images.requires_grad = True\n",
    "\n",
    "            loss = loss_func(prediction, labels)\n",
    "            lossSum += loss\n",
    "\n",
    "            # Backward and optimize\n",
    "            \n",
    "            loss.backward()\n",
    "\n",
    "            optimizer.step()\n",
    "\n",
    "            _, predicted = torch.max(prediction.data, 1)\n",
    "            n_samples += labels.size(0)\n",
    "            n_correct += (predicted == labels).sum().item()\n",
    "            acc = 100.0 * n_correct / n_samples\n",
    "\n",
    "            train_losses.append(loss.item())\n",
    "            train_acc.append(acc)\n",
    "            train_epoch.append(epoch)\n",
    "\n",
    "            #print(epoch,i)\n",
    "            \n",
    "            #Weight Collection\n",
    "            if epoch % 3 == 0:\n",
    "                for name, parameter in model.named_parameters():\n",
    "                    #print(name)\n",
    "                    if'weight' in name:\n",
    "                        modelParamWgt[epoch] = torch.nn.utils.parameters_to_vector(parameter).detach().numpy()\n",
    "                        #print(modelParamWgt)\n",
    "\n",
    "            #Print Status\n",
    "            if (i+1) % status_interval == 0:\n",
    "                print (f'Train O/P: Epoch [{epoch}/{num_epochs}], Step [{i+1}/{n_total_steps}], Loss: {loss.item():.4f}',end= '\\n',flush = True)\n",
    "               \n",
    "                        \n",
    "    trainAvgLoss = lossSum/train_batch_size\n",
    "    print(\"Train Avg loss:\",trainAvgLoss)\n",
    "                        \n",
    "    return train_epoch,train_losses,train_acc,trainAvgLoss, modelParamWgt"
   ]
  },
  {
   "cell_type": "code",
   "execution_count": 36,
   "metadata": {},
   "outputs": [],
   "source": [
    "def testFunction(model,loss_func,test_batch_size): \n",
    "    test_load = test_loader(test_batch_size)\n",
    "    model.eval()\n",
    "    with torch.no_grad():\n",
    "        n_correct = 0\n",
    "        n_samples = 0\n",
    "        testLoss = 0\n",
    "        count = 0\n",
    "        for images, labels in test_load:\n",
    "            images, labels = Variable(images),Variable(labels)\n",
    "            \n",
    "            prediction = model(images)\n",
    "            testLoss += loss_func(prediction,labels).item()\n",
    "            # max returns (value ,index)\n",
    "            _, predicted = torch.max(prediction.data, 1)\n",
    "            n_samples += labels.size(0)\n",
    "            n_correct += (predicted == labels).sum().item()\n",
    "            count += 1\n",
    "    netTest_loss = testLoss/count\n",
    "    netTest_acc1 = 100.0 * n_correct / n_samples\n",
    "    print(f'Accuracy of the network on the test images: {netTest_acc1}% & Test Loss: {netTest_loss} ')\n",
    "    return netTest_acc1, netTest_loss"
   ]
  },
  {
   "cell_type": "code",
   "execution_count": 37,
   "metadata": {},
   "outputs": [],
   "source": [
    "# M = Model()\n",
    "# loss_func = nn.CrossEntropyLoss()\n",
    "# optimizer = torch.optim.Adam(M.parameters(), lr=0.0015, weight_decay = 1e-2)\n",
    "\n",
    "# max_epochs = 15\n",
    "# train_batch_size = int(600)\n",
    "# test_batch_size = int(100)\n",
    "# status_interval = 100\n",
    "\n",
    "# a=[]\n",
    "# for k in M.parameters():\n",
    "#     a.append(torch.numel(k))\n",
    "# print(f'Total no of parameters in Model :{np.sum(a)} for with batch size:{train_batch_size}')\n"
   ]
  },
  {
   "cell_type": "code",
   "execution_count": 38,
   "metadata": {},
   "outputs": [],
   "source": [
    "#train_epoch,train_losses,train_acc,trainAvgLoss, modelParamWgt = trainFunc(M,max_epochs,train_batch_size,status_interval)"
   ]
  },
  {
   "cell_type": "code",
   "execution_count": 39,
   "metadata": {},
   "outputs": [],
   "source": [
    "#testAcc, testLoss = testFunction(M,loss_func,test_batch_size)\n"
   ]
  },
  {
   "cell_type": "code",
   "execution_count": 40,
   "metadata": {},
   "outputs": [],
   "source": [
    "# paramDF = pd.DataFrame.from_dict(data=modelParamWgt,orient='index')\n",
    "# print(paramDF)"
   ]
  },
  {
   "cell_type": "code",
   "execution_count": 41,
   "metadata": {},
   "outputs": [],
   "source": [
    "# #PCA Dim Reduction.\n",
    "# pcaOperation =  PCA(n_components=2)\n",
    "\n",
    "# pcaVal = pcaOperation.fit_transform(paramDF)\n",
    "\n",
    "# pcaDf = pd.DataFrame(data = pcaVal, columns = ['x','y'])\n",
    "\n",
    "# print(pcaVal,'\\n',pcaDf)"
   ]
  },
  {
   "cell_type": "code",
   "execution_count": 42,
   "metadata": {},
   "outputs": [],
   "source": [
    "# #Visualize the Optimization Process\n",
    "\n",
    "# plt.scatter(pcaDf['x'],pcaDf['y'],color=\"Blue\")\n",
    "# # plt.set_xlabel(\"Batch\",color=\"Green\")\n",
    "# # plt.set_ylabel(\"CrossEntropy Loss\",color = \"blue\")\n",
    "# plt.title(\"PCA for model\",color=\"g\")"
   ]
  },
  {
   "cell_type": "code",
   "execution_count": 47,
   "metadata": {},
   "outputs": [
    {
     "name": "stdout",
     "output_type": "stream",
     "text": [
      "Iteration No: 0\n",
      "strated\n",
      "Train O/P: Epoch [1/6], Step [100/100], Loss: 0.2739\n",
      "Train O/P: Epoch [2/6], Step [100/100], Loss: 0.1822\n",
      "Train O/P: Epoch [3/6], Step [100/100], Loss: 0.1529\n",
      "Train O/P: Epoch [4/6], Step [100/100], Loss: 0.1282\n",
      "Train O/P: Epoch [5/6], Step [100/100], Loss: 0.1173\n",
      "Train O/P: Epoch [6/6], Step [100/100], Loss: 0.1222\n",
      "Train Avg loss: tensor(0.0172, grad_fn=<DivBackward0>)\n",
      "Accuracy of the network on the test images: 97.56% & Test Loss: 0.08795576523290947 \n"
     ]
    },
    {
     "data": {
      "image/png": "[encoded data removed]",
      "text/plain": [
       "<Figure size 432x288 with 1 Axes>"
      ]
     },
     "metadata": {
      "needs_background": "light"
     },
     "output_type": "display_data"
    },
    {
     "name": "stdout",
     "output_type": "stream",
     "text": [
      "Iteration No: 1\n",
      "strated\n",
      "Train O/P: Epoch [1/6], Step [100/100], Loss: 0.3403\n",
      "Train O/P: Epoch [2/6], Step [100/100], Loss: 0.1531\n",
      "Train O/P: Epoch [3/6], Step [100/100], Loss: 0.1777\n",
      "Train O/P: Epoch [4/6], Step [100/100], Loss: 0.1268\n",
      "Train O/P: Epoch [5/6], Step [100/100], Loss: 0.1177\n",
      "Train O/P: Epoch [6/6], Step [100/100], Loss: 0.0929\n",
      "Train Avg loss: tensor(0.0185, grad_fn=<DivBackward0>)\n",
      "Accuracy of the network on the test images: 97.47% & Test Loss: 0.09372221751604229 \n"
     ]
    },
    {
     "data": {
      "image/png": "[encoded data removed]",
      "text/plain": [
       "<Figure size 432x288 with 1 Axes>"
      ]
     },
     "metadata": {
      "needs_background": "light"
     },
     "output_type": "display_data"
    },
    {
     "name": "stdout",
     "output_type": "stream",
     "text": [
      "Iteration No: 2\n",
      "strated\n",
      "Train O/P: Epoch [1/6], Step [100/100], Loss: 0.2980\n",
      "Train O/P: Epoch [2/6], Step [100/100], Loss: 0.2384\n",
      "Train O/P: Epoch [3/6], Step [100/100], Loss: 0.1505\n",
      "Train O/P: Epoch [4/6], Step [100/100], Loss: 0.1369\n",
      "Train O/P: Epoch [5/6], Step [100/100], Loss: 0.1119\n",
      "Train O/P: Epoch [6/6], Step [100/100], Loss: 0.1010\n",
      "Train Avg loss: tensor(0.0187, grad_fn=<DivBackward0>)\n",
      "Accuracy of the network on the test images: 97.46% & Test Loss: 0.09331844775704667 \n"
     ]
    },
    {
     "data": {
      "image/png": "[encoded data removed]",
      "text/plain": [
       "<Figure size 432x288 with 1 Axes>"
      ]
     },
     "metadata": {
      "needs_background": "light"
     },
     "output_type": "display_data"
    },
    {
     "name": "stdout",
     "output_type": "stream",
     "text": [
      "Iteration No: 3\n",
      "strated\n",
      "Train O/P: Epoch [1/6], Step [100/100], Loss: 0.2786\n",
      "Train O/P: Epoch [2/6], Step [100/100], Loss: 0.1950\n",
      "Train O/P: Epoch [3/6], Step [100/100], Loss: 0.1837\n",
      "Train O/P: Epoch [4/6], Step [100/100], Loss: 0.1461\n",
      "Train O/P: Epoch [5/6], Step [100/100], Loss: 0.0934\n",
      "Train O/P: Epoch [6/6], Step [100/100], Loss: 0.1285\n",
      "Train Avg loss: tensor(0.0185, grad_fn=<DivBackward0>)\n",
      "Accuracy of the network on the test images: 97.28% & Test Loss: 0.10049604055937379 \n"
     ]
    },
    {
     "data": {
      "image/png": "[encoded data removed]",
      "text/plain": [
       "<Figure size 432x288 with 1 Axes>"
      ]
     },
     "metadata": {
      "needs_background": "light"
     },
     "output_type": "display_data"
    },
    {
     "name": "stdout",
     "output_type": "stream",
     "text": [
      "Iteration No: 4\n",
      "strated\n",
      "Train O/P: Epoch [1/6], Step [100/100], Loss: 0.3203\n",
      "Train O/P: Epoch [2/6], Step [100/100], Loss: 0.1820\n",
      "Train O/P: Epoch [3/6], Step [100/100], Loss: 0.1713\n",
      "Train O/P: Epoch [4/6], Step [100/100], Loss: 0.1315\n",
      "Train O/P: Epoch [5/6], Step [100/100], Loss: 0.1285\n",
      "Train O/P: Epoch [6/6], Step [100/100], Loss: 0.0903\n",
      "Train Avg loss: tensor(0.0194, grad_fn=<DivBackward0>)\n",
      "Accuracy of the network on the test images: 97.11% & Test Loss: 0.10446112410631031 \n"
     ]
    },
    {
     "data": {
      "image/png": "[encoded data removed]",
      "text/plain": [
       "<Figure size 432x288 with 1 Axes>"
      ]
     },
     "metadata": {
      "needs_background": "light"
     },
     "output_type": "display_data"
    },
    {
     "name": "stdout",
     "output_type": "stream",
     "text": [
      "Iteration No: 5\n",
      "strated\n",
      "Train O/P: Epoch [1/6], Step [100/100], Loss: 0.3312\n",
      "Train O/P: Epoch [2/6], Step [100/100], Loss: 0.1696\n",
      "Train O/P: Epoch [3/6], Step [100/100], Loss: 0.1220\n",
      "Train O/P: Epoch [4/6], Step [100/100], Loss: 0.1842\n",
      "Train O/P: Epoch [5/6], Step [100/100], Loss: 0.1321\n",
      "Train O/P: Epoch [6/6], Step [100/100], Loss: 0.0963\n",
      "Train Avg loss: tensor(0.0175, grad_fn=<DivBackward0>)\n",
      "Accuracy of the network on the test images: 97.66% & Test Loss: 0.08859183931257576 \n"
     ]
    },
    {
     "data": {
      "image/png": "[encoded data removed]",
      "text/plain": [
       "<Figure size 432x288 with 1 Axes>"
      ]
     },
     "metadata": {
      "needs_background": "light"
     },
     "output_type": "display_data"
    },
    {
     "name": "stdout",
     "output_type": "stream",
     "text": [
      "Iteration No: 6\n",
      "strated\n",
      "Train O/P: Epoch [1/6], Step [100/100], Loss: 0.3216\n",
      "Train O/P: Epoch [2/6], Step [100/100], Loss: 0.1810\n",
      "Train O/P: Epoch [3/6], Step [100/100], Loss: 0.1470\n",
      "Train O/P: Epoch [4/6], Step [100/100], Loss: 0.1423\n",
      "Train O/P: Epoch [5/6], Step [100/100], Loss: 0.1415\n",
      "Train O/P: Epoch [6/6], Step [100/100], Loss: 0.1013\n",
      "Train Avg loss: tensor(0.0191, grad_fn=<DivBackward0>)\n",
      "Accuracy of the network on the test images: 97.35% & Test Loss: 0.09697424966609106 \n"
     ]
    },
    {
     "data": {
      "image/png": "[encoded data removed]",
      "text/plain": [
       "<Figure size 432x288 with 1 Axes>"
      ]
     },
     "metadata": {
      "needs_background": "light"
     },
     "output_type": "display_data"
    },
    {
     "name": "stdout",
     "output_type": "stream",
     "text": [
      "Iteration No: 7\n",
      "strated\n",
      "Train O/P: Epoch [1/6], Step [100/100], Loss: 0.2836\n",
      "Train O/P: Epoch [2/6], Step [100/100], Loss: 0.1656\n",
      "Train O/P: Epoch [3/6], Step [100/100], Loss: 0.1695\n",
      "Train O/P: Epoch [4/6], Step [100/100], Loss: 0.0915\n",
      "Train O/P: Epoch [5/6], Step [100/100], Loss: 0.1365\n",
      "Train O/P: Epoch [6/6], Step [100/100], Loss: 0.0892\n",
      "Train Avg loss: tensor(0.0184, grad_fn=<DivBackward0>)\n",
      "Accuracy of the network on the test images: 97.54% & Test Loss: 0.0910612963954918 \n"
     ]
    },
    {
     "data": {
      "image/png": "[encoded data removed]",
      "text/plain": [
       "<Figure size 432x288 with 1 Axes>"
      ]
     },
     "metadata": {
      "needs_background": "light"
     },
     "output_type": "display_data"
    }
   ],
   "source": [
    "#Main Implementation\n",
    "\n",
    "for itr in range(2):\n",
    "    print('Iteration No:', itr)\n",
    "    itr = Model()\n",
    "    j = copy.deepcopy(itr) \n",
    "    loss_func = nn.CrossEntropyLoss()\n",
    "    optimizer = torch.optim.Adam(itr.parameters(), lr=0.0015, weight_decay = 1e-4)\n",
    "\n",
    "    max_epochs = 6\n",
    "    train_batch_size = int(64)\n",
    "    test_batch_size = int(100)\n",
    "    status_interval = 50\n",
    "\n",
    "    train_epoch,train_losses,train_acc,trainAvgLoss, modelParamWgt = trainFunc(itr,max_epochs,train_batch_size,status_interval)\n",
    "\n",
    "    testAcc, testLoss = testFunction(itr,loss_func,test_batch_size)\n",
    "\n",
    "    paramDF = pd.DataFrame.from_dict(data=modelParamWgt,orient='index')\n",
    "    \n",
    "    #PCA Dim Reduction.\n",
    "    pcaOperation =  PCA(n_components=2)\n",
    "\n",
    "    pcaVal = pcaOperation.fit_transform(paramDF)\n",
    "\n",
    "    pcaDf = pd.DataFrame(data = pcaVal, columns = ['x','y'])\n",
    "\n",
    "    #Visualize the Optimization Process\n",
    "\n",
    "    plt.scatter(pcaDf['x'],pcaDf['y'],color=\"Blue\")\n",
    "    plt.title(\"PCA for model\",color=\"g\")\n",
    "    \n",
    "\n",
    "    # pcaDict [itr] = pcaVal\n",
    "\n",
    "    # # print(\"PCA DF\",itr,\":\",j)\n",
    "plt.show()\n",
    "   \n",
    "    \n",
    "# pcaDF = pd.DataFrame(data = pcaDict, columns = ['iterations','x','y'])\n",
    "\n",
    "    \n",
    "\n"
   ]
  },
  {
   "cell_type": "code",
   "execution_count": 48,
   "metadata": {},
   "outputs": [
    {
     "data": {
      "text/html": [
       "<div>\n",
       "<style scoped>\n",
       "    .dataframe tbody tr th:only-of-type {\n",
       "        vertical-align: middle;\n",
       "    }\n",
       "\n",
       "    .dataframe tbody tr th {\n",
       "        vertical-align: top;\n",
       "    }\n",
       "\n",
       "    .dataframe thead th {\n",
       "        text-align: right;\n",
       "    }\n",
       "</style>\n",
       "<table border=\"1\" class=\"dataframe\">\n",
       "  <thead>\n",
       "    <tr style=\"text-align: right;\">\n",
       "      <th></th>\n",
       "      <th>x</th>\n",
       "      <th>y</th>\n",
       "    </tr>\n",
       "  </thead>\n",
       "  <tbody>\n",
       "    <tr>\n",
       "      <th>0</th>\n",
       "      <td>0.214258</td>\n",
       "      <td>9.516977e-08</td>\n",
       "    </tr>\n",
       "    <tr>\n",
       "      <th>1</th>\n",
       "      <td>-0.214258</td>\n",
       "      <td>9.516982e-08</td>\n",
       "    </tr>\n",
       "  </tbody>\n",
       "</table>\n",
       "</div>"
      ],
      "text/plain": [
       "          x             y\n",
       "0  0.214258  9.516977e-08\n",
       "1 -0.214258  9.516982e-08"
      ]
     },
     "execution_count": 48,
     "metadata": {},
     "output_type": "execute_result"
    }
   ],
   "source": [
    " #Visualize the Optimization Process\n",
    "pcaDf"
   ]
  },
  {
   "cell_type": "code",
   "execution_count": null,
   "metadata": {},
   "outputs": [],
   "source": []
  }
 ],
 "metadata": {
  "interpreter": {
   "hash": "d1d86b2f3ed665d691ce24c615a98bbc398f66743afc4d4e970e6f8b36fab2b9"
  },
  "kernelspec": {
   "display_name": "Python 3.9.7 ('CPSC-8430-DeepLearning')",
   "language": "python",
   "name": "python3"
  },
  "language_info": {
   "codemirror_mode": {
    "name": "ipython",
    "version": 3
   },
   "file_extension": ".py",
   "mimetype": "text/x-python",
   "name": "python",
   "nbconvert_exporter": "python",
   "pygments_lexer": "ipython3",
   "version": "3.9.7"
  },
  "orig_nbformat": 4
 },
 "nbformat": 4,
 "nbformat_minor": 2
}
