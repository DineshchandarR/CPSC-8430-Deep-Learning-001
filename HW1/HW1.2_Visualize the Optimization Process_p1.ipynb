{
 "cells": [
  {
   "cell_type": "code",
   "execution_count": 90,
   "metadata": {},
   "outputs": [],
   "source": [
    "import torch\n",
    "import torch.nn as nn\n",
    "import torch.nn.functional as F\n",
    "import torchvision\n",
    "import torchvision.transforms as transforms\n",
    "import matplotlib.pyplot as plt\n",
    "import numpy as np\n",
    "from torch.nn.utils import parameters_to_vector, vector_to_parameters\n",
    "from torch.autograd import Variable\n",
    "from sklearn.decomposition import PCA\n",
    "import pandas as pd\n",
    "import copy\n",
    "from sklearn.preprocessing import StandardScaler"
   ]
  },
  {
   "cell_type": "code",
   "execution_count": 34,
   "metadata": {},
   "outputs": [
    {
     "data": {
      "text/plain": [
       "<torch._C.Generator at 0x1d740b18890>"
      ]
     },
     "execution_count": 34,
     "metadata": {},
     "output_type": "execute_result"
    }
   ],
   "source": [
    "torch.manual_seed(1)"
   ]
  },
  {
   "cell_type": "code",
   "execution_count": 35,
   "metadata": {},
   "outputs": [
    {
     "name": "stdout",
     "output_type": "stream",
     "text": [
      "train_dataset size: 60000 \n",
      "test_dataset size: 10000\n"
     ]
    }
   ],
   "source": [
    "# MNIST dataset \n",
    "train_dataset = torchvision.datasets.MNIST(root='./data', \n",
    "                                           train=True, \n",
    "                                           transform=transforms.ToTensor(),  \n",
    "                                           download=False)\n",
    "\n",
    "test_dataset = torchvision.datasets.MNIST(root='./data', \n",
    "                                          train=False, \n",
    "                                          transform=transforms.ToTensor())\n",
    "\n",
    "print(\"train_dataset size:\", len(train_dataset),\"\\ntest_dataset size:\", len(test_dataset))"
   ]
  },
  {
   "cell_type": "code",
   "execution_count": 36,
   "metadata": {},
   "outputs": [],
   "source": [
    "# Data loader func\n",
    "def train_loader(batch_size):\n",
    "    train_loader = torch.utils.data.DataLoader(dataset=train_dataset, \n",
    "                                           batch_size = batch_size, \n",
    "                                           shuffle=True)\n",
    "    return train_loader\n",
    "\n",
    "\n",
    "def test_loader(batch_size):\n",
    "    test_loader = torch.utils.data.DataLoader(dataset=test_dataset, \n",
    "                                          batch_size=batch_size, \n",
    "                                          shuffle=False)\n",
    "    return test_loader"
   ]
  },
  {
   "cell_type": "code",
   "execution_count": 37,
   "metadata": {},
   "outputs": [],
   "source": [
    "class Model(nn.Module):\n",
    "    def __init__(self,):\n",
    "        super(Model, self).__init__()\n",
    "        self.conv1 = nn.Conv2d(1, 6, 5)\n",
    "        self.conv2 = nn.Conv2d(6, 16, 5)\n",
    "        self.fc1 = nn.Linear(256, 120)\n",
    "        # self.fc2 = nn.Linear(120, 84)\n",
    "        self.fc3 = nn.Linear(120, 10)\n",
    "\n",
    "    def forward(self, x):\n",
    "        x = F.max_pool2d(F.relu(self.conv1(x)), 2)\n",
    "        x = F.max_pool2d(F.relu(self.conv2(x)), 2)\n",
    "        # flatten as one dimension\n",
    "        x = x.view(x.size()[0], -1)\n",
    "        x = F.relu(self.fc1(x))\n",
    "        # x = F.relu(self.fc2(x))\n",
    "\n",
    "        x = self.fc3(x)\n",
    "        return x"
   ]
  },
  {
   "cell_type": "code",
   "execution_count": 38,
   "metadata": {},
   "outputs": [],
   "source": [
    "def paramWeights(model):\n",
    "    #modelParamWgt={}\n",
    "    #modelTotalWeight = 0\n",
    "    for name, parameter in model.named_parameters():\n",
    "                    #print(name)\n",
    "                    if'weight' in name:\n",
    "                        return torch.nn.utils.parameters_to_vector(parameter).detach().numpy()"
   ]
  },
  {
   "cell_type": "code",
   "execution_count": 82,
   "metadata": {},
   "outputs": [],
   "source": [
    "#train function\n",
    "def trainFunc(model,num_epochs,train_batch_size,status_interval):\n",
    "    model.train()\n",
    "    print('strated')\n",
    "    train_load = train_loader(train_batch_size)\n",
    "    n_total_steps = len(train_load)\n",
    "    train_losses = []\n",
    "    train_epoch = []\n",
    "    train_acc = []\n",
    "    trainAvgLoss = {}\n",
    "    epoch = 0\n",
    "    #pramWgtArr = []\n",
    "    #modelTotalWeightArr = []\n",
    "    paramWeightsDict ={}\n",
    "    for epoch in range (num_epochs):\n",
    "        epoch += 1\n",
    "        #weight cal for each epoch\n",
    "        paramWeightsDict[epoch] = paramWeights(model)\n",
    "\n",
    "        n_correct = 0\n",
    "        n_samples = 0\n",
    "        lossSum =0\n",
    "        train_epoch.append(epoch)\n",
    "\n",
    "        for i, (images, labels) in enumerate(train_load):  \n",
    "            #if (i+1)% 60 == 0 : print(i+1)\n",
    "            images, labels = Variable(images),Variable(labels)\n",
    "            \n",
    "            optimizer.zero_grad()\n",
    "            \n",
    "            # Forward pass\n",
    "            prediction = model(images)\n",
    "\n",
    "            images.requires_grad = True\n",
    "\n",
    "            loss = loss_func(prediction, labels)\n",
    "            lossSum += loss\n",
    "\n",
    "            # Backward and optimize\n",
    "            \n",
    "            loss.backward()\n",
    "\n",
    "            optimizer.step()\n",
    "\n",
    "            _, predicted = torch.max(prediction.data, 1)\n",
    "            n_samples += labels.size(0)\n",
    "            n_correct += (predicted == labels).sum().item()\n",
    "            acc = 100.0 * n_correct / n_samples\n",
    "\n",
    "            train_losses.append(loss.item())\n",
    "            train_acc.append(acc)\n",
    "\n",
    "            #Print Status\n",
    "            # if (i+1) % (train_batch_size//len(train_load)) == 0:\n",
    "            if (i+1) % status_interval == 0:\n",
    "                print (f'Train O/P: Epoch [{epoch}/{num_epochs}], Step [{i+1}/{n_total_steps}], Loss: {loss.item():.4f}',end= '\\r',flush = True) \n",
    "        \n",
    "        trainAvgLoss [epoch] = (lossSum.detach().numpy())/len(train_load)\n",
    "        print(f\"Epoch no.: {epoch}, Train Avg loss:trainAvgLoss: {trainAvgLoss[epoch]}\")\n",
    "                        \n",
    "    return train_epoch,train_losses,train_acc,trainAvgLoss, paramWeightsDict"
   ]
  },
  {
   "cell_type": "code",
   "execution_count": 120,
   "metadata": {},
   "outputs": [],
   "source": [
    "def testFunction(model,loss_func,test_batch_size): \n",
    "    test_load = test_loader(test_batch_size)\n",
    "    model.eval()\n",
    "    with torch.no_grad():\n",
    "        n_correct = 0\n",
    "        n_samples = 0\n",
    "        testLoss = 0\n",
    "        count = 0\n",
    "        for images, labels in test_load:\n",
    "            images, labels = Variable(images),Variable(labels)\n",
    "            \n",
    "            prediction = model(images)\n",
    "            testLoss += loss_func(prediction,labels).item()\n",
    "            # max returns (value ,index)\n",
    "            _, predicted = torch.max(prediction.data, 1)\n",
    "            n_samples += labels.size(0)\n",
    "            n_correct += (predicted == labels).sum().item()\n",
    "            count += 1\n",
    "    netTest_loss = testLoss/count\n",
    "    netAvgTest_loss = testLoss*count/len(train_dataset)\n",
    "    netTest_acc1 = 100.0 * n_correct / n_samples\n",
    "    print(f'Accuracy of the network on the test images: {netTest_acc1}% & Test Loss: {netTest_loss}, AVG TestLoss: {netAvgTest_loss:.4f} ',end= '\\r',flush = True)\n",
    "    return netTest_acc1, netTest_loss"
   ]
  },
  {
   "cell_type": "code",
   "execution_count": 134,
   "metadata": {},
   "outputs": [
    {
     "name": "stdout",
     "output_type": "stream",
     "text": [
      "strated\n",
      "Epoch no.: 1, Train Avg loss:trainAvgLoss: 0.2520927640674973\n",
      "Epoch no.: 2, Train Avg loss:trainAvgLoss: 0.07545550901498367\n",
      "Epoch no.: 3, Train Avg loss:trainAvgLoss: 0.054335278997034914\n",
      "Epoch no.: 4, Train Avg loss:trainAvgLoss: 0.04319982386347073\n",
      "Epoch no.: 5, Train Avg loss:trainAvgLoss: 0.03648709539157241\n",
      "Epoch no.: 6, Train Avg loss:trainAvgLoss: 0.03183492973669252\n",
      "Epoch no.: 7, Train Avg loss:trainAvgLoss: 0.028275670781572743\n",
      "Epoch no.: 8, Train Avg loss:trainAvgLoss: 0.025263969323782526\n",
      "Epoch no.: 9, Train Avg loss:trainAvgLoss: 0.022835200783540444\n",
      "Epoch no.: 10, Train Avg loss:trainAvgLoss: 0.020890542947407217\n",
      "Epoch no.: 11, Train Avg loss:trainAvgLoss: 0.017883073038129665\n",
      "Epoch no.: 12, Train Avg loss:trainAvgLoss: 0.01884348204395156\n",
      "Epoch no.: 13, Train Avg loss:trainAvgLoss: 0.016217583532272373\n",
      "Epoch no.: 14, Train Avg loss:trainAvgLoss: 0.015904915612389537\n",
      "Epoch no.: 15, Train Avg loss:trainAvgLoss: 0.016192142388968073\n",
      "Accuracy of the network on the test images: 98.94% & Test Loss: 0.03157573743967987, AVG TestLoss: 0.0053 \r"
     ]
    }
   ],
   "source": [
    "#Main Implementation\n",
    "\n",
    "m = Model()\n",
    "loss_func = nn.CrossEntropyLoss()\n",
    "optimizer = torch.optim.Adam(m.parameters(), lr=0.0015, weight_decay = 1e-4)\n",
    "\n",
    "max_epochs = 15\n",
    "train_batch_size = int(64)\n",
    "test_batch_size = int(100)\n",
    "status_interval = 100\n",
    "\n",
    "train_epoch,train_losses,train_acc,trainAvgLoss, paramWeightsDict = trainFunc(m,max_epochs,train_batch_size,status_interval)\n",
    "\n",
    "testAcc, testLoss = testFunction(m,loss_func,test_batch_size)"
   ]
  },
  {
   "cell_type": "code",
   "execution_count": 137,
   "metadata": {},
   "outputs": [],
   "source": [
    "pcaOperation =  PCA(n_components=1)\n",
    "\n",
    "scale = StandardScaler()\n",
    "\n",
    "paramDF = pd.DataFrame.from_dict(data=paramWeightsDict,orient='index')\n",
    "\n",
    "sData = scale.fit_transform(paramDF)\n",
    "\n",
    "pcaVal = pcaOperation.fit_transform(sData)\n",
    "\n"
   ]
  },
  {
   "cell_type": "code",
   "execution_count": 143,
   "metadata": {},
   "outputs": [
    {
     "data": {
      "image/png": "[encoded data removed]",
      "text/plain": [
       "<Figure size 432x288 with 2 Axes>"
      ]
     },
     "metadata": {
      "needs_background": "light"
     },
     "output_type": "display_data"
    }
   ],
   "source": [
    "#Visualize the Optimization Process\n",
    "\n",
    "# plt.plot(train_epoch,pcaVal,color=\"Blue\")\n",
    "# plt.plot(train_epoch,trainAvgLoss.values(),color=\"red\")\n",
    "# plt.title(\"Parameter Weight/epoch VS Loss\",color=\"g\")\n",
    "\n",
    "fig,ax=plt.subplots()\n",
    "ax.plot(train_epoch,pcaVal,color=\"Blue\", marker=\"o\")\n",
    "ax.legend(['Weight / Epoch'],loc=\"upper right\")\n",
    "ax.set_xlabel(\"Epoch\",color=\"Green\")\n",
    "ax.set_ylabel(\"Weight\",color = \"blue\")\n",
    "\n",
    "ax2=ax.twinx()\n",
    "ax2.plot(train_epoch,trainAvgLoss.values(),color=\"red\", marker=\"v\")\n",
    "ax2.set_xlabel(\"Epoch\",color=\"Green\")\n",
    "ax2.set_ylabel(\"Loss\",color = \"red\")\n",
    "ax2.legend(['Train loss'],loc=\"center right\")\n",
    "    \n",
    "\n",
    "plt.show()\n"
   ]
  },
  {
   "cell_type": "code",
   "execution_count": null,
   "metadata": {},
   "outputs": [],
   "source": []
  }
 ],
 "metadata": {
  "interpreter": {
   "hash": "d1d86b2f3ed665d691ce24c615a98bbc398f66743afc4d4e970e6f8b36fab2b9"
  },
  "kernelspec": {
   "display_name": "Python 3.9.7 ('CPSC-8430-DeepLearning')",
   "language": "python",
   "name": "python3"
  },
  "language_info": {
   "codemirror_mode": {
    "name": "ipython",
    "version": 3
   },
   "file_extension": ".py",
   "mimetype": "text/x-python",
   "name": "python",
   "nbconvert_exporter": "python",
   "pygments_lexer": "ipython3",
   "version": "3.9.7"
  },
  "orig_nbformat": 4
 },
 "nbformat": 4,
 "nbformat_minor": 2
}
