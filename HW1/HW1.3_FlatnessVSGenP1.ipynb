{
 "cells": [
  {
   "cell_type": "code",
   "execution_count": 182,
   "metadata": {},
   "outputs": [],
   "source": [
    "import torch\n",
    "import torch.nn as nn\n",
    "import torch.nn.functional as F\n",
    "import torchvision\n",
    "import torchvision.transforms as transforms\n",
    "import matplotlib.pyplot as plt\n",
    "import numpy as np\n",
    "from torch.nn.utils import parameters_to_vector, vector_to_parameters\n",
    "from torch.autograd import Variable"
   ]
  },
  {
   "cell_type": "code",
   "execution_count": 183,
   "metadata": {},
   "outputs": [],
   "source": [
    "#torch.manual_seed(1)"
   ]
  },
  {
   "cell_type": "code",
   "execution_count": 184,
   "metadata": {},
   "outputs": [
    {
     "name": "stdout",
     "output_type": "stream",
     "text": [
      "train_dataset size: 60000 \n",
      "test_dataset size: 10000\n"
     ]
    }
   ],
   "source": [
    "# MNIST dataset \n",
    "train_dataset = torchvision.datasets.MNIST(root='./data', \n",
    "                                           train=True, \n",
    "                                           transform=transforms.ToTensor(),  \n",
    "                                           download=False)\n",
    "\n",
    "test_dataset = torchvision.datasets.MNIST(root='./data', \n",
    "                                          train=False, \n",
    "                                          transform=transforms.ToTensor())\n",
    "\n",
    "print(\"train_dataset size:\", len(train_dataset),\"\\ntest_dataset size:\", len(test_dataset))"
   ]
  },
  {
   "cell_type": "code",
   "execution_count": 185,
   "metadata": {},
   "outputs": [],
   "source": [
    "# Data loader func\n",
    "def train_loader(batch_size):\n",
    "    train_loader = torch.utils.data.DataLoader(dataset=train_dataset, \n",
    "                                           batch_size = batch_size, \n",
    "                                           shuffle=True)\n",
    "    return train_loader\n",
    "\n",
    "\n",
    "def test_loader(batch_size):\n",
    "    test_loader = torch.utils.data.DataLoader(dataset=test_dataset, \n",
    "                                          batch_size=batch_size, \n",
    "                                          shuffle=False)\n",
    "    return test_loader"
   ]
  },
  {
   "cell_type": "code",
   "execution_count": 186,
   "metadata": {},
   "outputs": [],
   "source": [
    "class M1(nn.Module):\n",
    "    def __init__(self,):\n",
    "        super(M1, self).__init__()\n",
    "        \n",
    "        self.conv1 = nn.Conv2d(1, 3, 5)\n",
    "        self.conv2 = nn.Conv2d(3, 13, 5)\n",
    "        self.fc1 = nn.Linear(208, 120)\n",
    "        self.fc2 = nn.Linear(120, 84)\n",
    "        self.fc3 = nn.Linear(84, 10)\n",
    "\n",
    "    def forward(self, x):\n",
    "        x = F.max_pool2d(F.relu(self.conv1(x)), 2)\n",
    "        x = F.max_pool2d(F.relu(self.conv2(x)), 2)\n",
    "        # flatten as one dimension\n",
    "        x = x.view(x.size()[0], -1)\n",
    "        x = F.relu(self.fc1(x))\n",
    "        x = F.relu(self.fc2(x))\n",
    "\n",
    "        x = self.fc3(x)\n",
    "        return x"
   ]
  },
  {
   "cell_type": "code",
   "execution_count": 187,
   "metadata": {},
   "outputs": [],
   "source": [
    "#train function\n",
    "def trainFunc(model,num_epochs,train_batch_size):\n",
    "    model.train()\n",
    "    print('strated')\n",
    "    train_load = train_loader(train_batch_size)\n",
    "    n_total_steps = len(train_load)\n",
    "    train_losses = []\n",
    "    train_epoch = []\n",
    "    train_acc = []\n",
    "    not_converged =True\n",
    "    epoch = 0\n",
    "    while not_converged:\n",
    "        epoch += 1\n",
    "        n_correct = 0\n",
    "        n_samples = 0\n",
    "        for i, (images, labels) in enumerate(train_load):  \n",
    "            \n",
    "            images, labels = Variable(images),Variable(labels)\n",
    "            # zero the parameter gradients\n",
    "            optimizer.zero_grad()\n",
    "            # Forward pass\n",
    "            prediction = model(images)\n",
    "            loss = loss_func(prediction, labels)\n",
    "            # Backward and optimize\n",
    "            loss.backward()\n",
    "            \n",
    "            optimizer.step()\n",
    "\n",
    "            _, predicted = torch.max(prediction.data, 1)\n",
    "            n_samples += labels.size(0)\n",
    "            n_correct += (predicted == labels).sum().item()\n",
    "            acc = 100.0 * n_correct / n_samples\n",
    "\n",
    "            train_losses.append(loss.item())\n",
    "            train_acc.append(acc)\n",
    "            train_epoch.append(epoch)\n",
    "\n",
    "            if (i+1) % 60 == 0:\n",
    "                print (f'Train O/P: Epoch [{epoch}/{num_epochs}], Step [{i+1}/{n_total_steps}], Loss: {loss.item():.4f}',end= '\\r',flush = True)\n",
    "   \n",
    "                if epoch == num_epochs:\n",
    "                        print(\"Max Epoch Reached\")\n",
    "                        not_converged = False\n",
    "                elif (epoch > 5) and  (train_losses[-1] < 0.001):\n",
    "                    if abs(train_losses[-3] - train_losses[-2]) < 1.0e-05 and abs(train_losses[-2] - train_losses[-1]) < 1.0e-05:\n",
    "                        print(\"Convergeance reached for loss:\",train_losses[-1])\n",
    "                        not_converged = False\n",
    "                        \n",
    "    return train_epoch,train_losses,train_acc"
   ]
  },
  {
   "cell_type": "code",
   "execution_count": 188,
   "metadata": {},
   "outputs": [
    {
     "name": "stdout",
     "output_type": "stream",
     "text": [
      "Total no of parameters in Model with batch_size=64 is:37160\n"
     ]
    }
   ],
   "source": [
    "# Training Model with batch size=64\n",
    "torch.manual_seed(1)\n",
    "\n",
    "learning_rate = 0.0004\n",
    "mBatch1 = M1()\n",
    "loss_func = nn.CrossEntropyLoss()\n",
    "weight_decay_val = 1e-4\n",
    "\n",
    "#optimizer = torch.optim.Adam(mBatch1.parameters(), lr=learning_rate, weight_decay = weight_decay_val)\n",
    "\n",
    "optimizer = torch.optim.SGD(mBatch1.parameters(), lr=learning_rate)\n",
    "\n",
    "a=[]\n",
    "for i in mBatch1.parameters():\n",
    "    a.append(torch.numel(i))\n",
    "print(f'Total no of parameters in Model with batch_size={64} is:{np.sum(a)}')"
   ]
  },
  {
   "cell_type": "code",
   "execution_count": 189,
   "metadata": {},
   "outputs": [
    {
     "name": "stdout",
     "output_type": "stream",
     "text": [
      "strated\n",
      "Max Epoch Reached[5/5], Step [60/938], Loss: 0.14382\n",
      "Max Epoch Reached[5/5], Step [120/938], Loss: 0.0599\n",
      "Max Epoch Reached[5/5], Step [180/938], Loss: 0.0448\n",
      "Max Epoch Reached[5/5], Step [240/938], Loss: 0.0575\n",
      "Max Epoch Reached[5/5], Step [300/938], Loss: 0.1724\n",
      "Max Epoch Reached[5/5], Step [360/938], Loss: 0.0660\n",
      "Max Epoch Reached[5/5], Step [420/938], Loss: 0.0450\n",
      "Max Epoch Reached[5/5], Step [480/938], Loss: 0.0810\n",
      "Max Epoch Reached[5/5], Step [540/938], Loss: 0.1094\n",
      "Max Epoch Reached[5/5], Step [600/938], Loss: 0.1211\n",
      "Max Epoch Reached[5/5], Step [660/938], Loss: 0.1590\n",
      "Max Epoch Reached[5/5], Step [720/938], Loss: 0.0656\n",
      "Max Epoch Reached[5/5], Step [780/938], Loss: 0.1333\n",
      "Max Epoch Reached[5/5], Step [840/938], Loss: 0.0466\n",
      "Max Epoch Reached[5/5], Step [900/938], Loss: 0.0537\n"
     ]
    }
   ],
   "source": [
    "max_epochs = 5\n",
    "train_batch_size = 64\n",
    "B1_train_epoch,B1_train_losses,B1_train_acc = trainFunc(mBatch1,max_epochs,train_batch_size)"
   ]
  },
  {
   "cell_type": "code",
   "execution_count": 190,
   "metadata": {},
   "outputs": [
    {
     "name": "stdout",
     "output_type": "stream",
     "text": [
      "Total no of parameters in Model with batch_size=1000 is:37160\n"
     ]
    }
   ],
   "source": [
    "# Training Model with batch size=1000\n",
    "torch.manual_seed(1)\n",
    "\n",
    "learning_rate = 0.0004\n",
    "mBatch2 = M1()\n",
    "loss_func = nn.CrossEntropyLoss()\n",
    "weight_decay_val = 1e-4\n",
    "#optimizer = torch.optim.Adam(mBatch2.parameters(), lr=learning_rate, weight_decay=weight_decay_val) \n",
    "optimizer = torch.optim.SGD(mBatch2.parameters(), lr=learning_rate)\n",
    "\n",
    "a=[]\n",
    "for i in mBatch2.parameters():\n",
    "    a.append(torch.numel(i))\n",
    "print(f'Total no of parameters in Model with batch_size={1000} is:{np.sum(a)}')"
   ]
  },
  {
   "cell_type": "code",
   "execution_count": 191,
   "metadata": {},
   "outputs": [
    {
     "name": "stdout",
     "output_type": "stream",
     "text": [
      "strated\n",
      "Max Epoch Reached[5/5], Step [60/60], Loss: 0.2689\n"
     ]
    }
   ],
   "source": [
    "max_epochs = 5\n",
    "train_batch_size = 1000\n",
    "B2_train_epoch,B2_train_losses,B2_train_acc = trainFunc(mBatch2,max_epochs,train_batch_size)"
   ]
  },
  {
   "cell_type": "code",
   "execution_count": 192,
   "metadata": {},
   "outputs": [
    {
     "data": {
      "text/plain": [
       "4690"
      ]
     },
     "execution_count": 192,
     "metadata": {},
     "output_type": "execute_result"
    }
   ],
   "source": [
    "len(B1_train_losses)"
   ]
  },
  {
   "cell_type": "code",
   "execution_count": 193,
   "metadata": {},
   "outputs": [
    {
     "data": {
      "image/png": "[encoded data removed]",
      "text/plain": [
       "<Figure size 1440x576 with 1 Axes>"
      ]
     },
     "metadata": {
      "needs_background": "light"
     },
     "output_type": "display_data"
    }
   ],
   "source": [
    "#Plotting Loss plot for both Batch 1 and Batch 2 models\n",
    "#B2_train_epoch,B2_train_losses,B2_train_acc\n",
    "plt.figure(figsize=(20, 8))\n",
    "plt.plot(B1_train_epoch,B1_train_losses,color=\"blue\")\n",
    "plt.plot(B2_train_epoch,B2_train_losses,color=\"orange\")\n",
    "plt.title('Batch1 & Bathc2 Loss VS Epoch')\n",
    "plt.legend(['Batch 1','Batch 2'])\n",
    "plt.xlabel ('Epoch')\n",
    "plt.ylabel ('loss')\n",
    "plt.show()"
   ]
  },
  {
   "cell_type": "code",
   "execution_count": 194,
   "metadata": {},
   "outputs": [
    {
     "name": "stdout",
     "output_type": "stream",
     "text": [
      "0.0054817404597997665 0.23427659273147583\n"
     ]
    }
   ],
   "source": [
    "print(np.min(B1_train_losses),np.min(B2_train_losses))"
   ]
  },
  {
   "cell_type": "code",
   "execution_count": 195,
   "metadata": {},
   "outputs": [
    {
     "name": "stdout",
     "output_type": "stream",
     "text": [
      "tensor([ 0.1522, -0.0374, -0.0054,  ...,  0.0122,  0.0257, -0.0358],\n",
      "       grad_fn=<CatBackward0>) \n",
      "len: 37160\n"
     ]
    }
   ],
   "source": [
    "batch1_param = torch.nn.utils.parameters_to_vector(mBatch1.parameters())\n",
    "print(batch1_param,'\\nlen:',len(batch1_param))"
   ]
  },
  {
   "cell_type": "code",
   "execution_count": 196,
   "metadata": {},
   "outputs": [
    {
     "name": "stdout",
     "output_type": "stream",
     "text": [
      "tensor([ 0.1628, -0.0238,  0.0298,  ...,  0.0220,  0.0032, -0.0559],\n",
      "       grad_fn=<CatBackward0>) \n",
      "len: 37160\n"
     ]
    }
   ],
   "source": [
    "batch2_param = torch.nn.utils.parameters_to_vector(mBatch2.parameters())\n",
    "print(batch2_param,'\\nlen:',len(batch2_param))"
   ]
  },
  {
   "cell_type": "code",
   "execution_count": 197,
   "metadata": {},
   "outputs": [
    {
     "name": "stdout",
     "output_type": "stream",
     "text": [
      "[-2.         -1.86666667 -1.73333333 -1.6        -1.46666667 -1.33333333\n",
      " -1.2        -1.06666667 -0.93333333 -0.8        -0.66666667 -0.53333333\n",
      " -0.4        -0.26666667 -0.13333333  0.          0.13333333  0.26666667\n",
      "  0.4         0.53333333  0.66666667  0.8         0.93333333  1.06666667\n",
      "  1.2         1.33333333  1.46666667  1.6         1.73333333  1.86666667\n",
      "  2.        ]\n"
     ]
    }
   ],
   "source": [
    "alpha = np.linspace(-2.0, 2.0, num=31)\n",
    "print(alpha)"
   ]
  },
  {
   "cell_type": "code",
   "execution_count": 198,
   "metadata": {},
   "outputs": [],
   "source": [
    "thetaArr =[]\n",
    "for i in range (len(alpha)):\n",
    "    theta = (1-alpha[i])*batch1_param + alpha[i]*batch2_param\n",
    "    thetaArr.append(theta)"
   ]
  },
  {
   "cell_type": "code",
   "execution_count": 199,
   "metadata": {},
   "outputs": [],
   "source": [
    "class ThetaModel(nn.Module):\n",
    "    def __init__(self,):\n",
    "        super(ThetaModel, self).__init__()\n",
    "        \n",
    "        self.conv1 = nn.Conv2d(1, 3, 5)\n",
    "        self.conv2 = nn.Conv2d(3, 13, 5)\n",
    "        self.fc1 = nn.Linear(208, 120)\n",
    "        self.fc2 = nn.Linear(120, 84)\n",
    "        self.fc3 = nn.Linear(84, 10)\n",
    "\n",
    "    def forward(self, x):\n",
    "        x = F.max_pool2d(F.relu(self.conv1(x)), 2)\n",
    "        x = F.max_pool2d(F.relu(self.conv2(x)), 2)\n",
    "        # flatten as one dimension\n",
    "        x = x.view(x.size()[0], -1)\n",
    "        x = F.relu(self.fc1(x))\n",
    "        x = F.relu(self.fc2(x))\n",
    "\n",
    "        x = self.fc3(x)\n",
    "        return x"
   ]
  },
  {
   "cell_type": "code",
   "execution_count": 200,
   "metadata": {},
   "outputs": [],
   "source": [
    "def testFunction(model,loss_func,testLoader,test_batch_size): \n",
    "    test_loader = testLoader\n",
    "    test_load = test_loader(test_batch_size)\n",
    "    model.eval()\n",
    "    with torch.no_grad():\n",
    "        n_correct = 0\n",
    "        n_samples = 0\n",
    "        testLoss = 0\n",
    "        count =0\n",
    "        for images, labels in test_load:\n",
    "            images, labels = Variable(images),Variable(labels)\n",
    "            \n",
    "            prediction = model(images)\n",
    "            testLoss += loss_func(prediction,labels).item()\n",
    "            # max returns (value ,index)\n",
    "            _, predicted = torch.max(prediction.data, 1)\n",
    "            n_samples += labels.size(0)\n",
    "            n_correct += (predicted == labels).sum().item()\n",
    "            count +=1\n",
    "    netTest_loss = testLoss/n_samples\n",
    "    netTest_acc1 = 100.0 * n_correct / n_samples\n",
    "    print(f'Accuracy of the network on the test images: {netTest_acc1} & Test Loss: {netTest_loss} %', end=\"\\r\", flush= True)\n",
    "    return netTest_acc1, netTest_loss"
   ]
  },
  {
   "cell_type": "code",
   "execution_count": 223,
   "metadata": {},
   "outputs": [],
   "source": [
    "import copy"
   ]
  },
  {
   "cell_type": "code",
   "execution_count": 224,
   "metadata": {},
   "outputs": [
    {
     "name": "stdout",
     "output_type": "stream",
     "text": [
      "Total no of parameters in Model Theta 0 is:37160\n",
      "<bound method Module.parameters of ThetaModel(\n",
      "  (conv1): Conv2d(1, 3, kernel_size=(5, 5), stride=(1, 1))\n",
      "  (conv2): Conv2d(3, 13, kernel_size=(5, 5), stride=(1, 1))\n",
      "  (fc1): Linear(in_features=208, out_features=120, bias=True)\n",
      "  (fc2): Linear(in_features=120, out_features=84, bias=True)\n",
      "  (fc3): Linear(in_features=84, out_features=10, bias=True)\n",
      ")>\n",
      "Total no of parameters in Model Theta 1 is:371609 & Test Loss: 0.11862292499542236 %12696647643 %\n",
      "<bound method Module.parameters of ThetaModel(\n",
      "  (conv1): Conv2d(1, 3, kernel_size=(5, 5), stride=(1, 1))\n",
      "  (conv2): Conv2d(3, 13, kernel_size=(5, 5), stride=(1, 1))\n",
      "  (fc1): Linear(in_features=208, out_features=120, bias=True)\n",
      "  (fc2): Linear(in_features=120, out_features=84, bias=True)\n",
      "  (fc3): Linear(in_features=84, out_features=10, bias=True)\n",
      ")>\n",
      "Total no of parameters in Model Theta 2 is:371605 & Test Loss: 0.0960203318119049 %79208946227 %\n",
      "<bound method Module.parameters of ThetaModel(\n",
      "  (conv1): Conv2d(1, 3, kernel_size=(5, 5), stride=(1, 1))\n",
      "  (conv2): Conv2d(3, 13, kernel_size=(5, 5), stride=(1, 1))\n",
      "  (fc1): Linear(in_features=208, out_features=120, bias=True)\n",
      "  (fc2): Linear(in_features=120, out_features=84, bias=True)\n",
      "  (fc3): Linear(in_features=84, out_features=10, bias=True)\n",
      ")>\n",
      "Total no of parameters in Model Theta 3 is:371608 & Test Loss: 0.0765723958015442 % %\n",
      "<bound method Module.parameters of ThetaModel(\n",
      "  (conv1): Conv2d(1, 3, kernel_size=(5, 5), stride=(1, 1))\n",
      "  (conv2): Conv2d(3, 13, kernel_size=(5, 5), stride=(1, 1))\n",
      "  (fc1): Linear(in_features=208, out_features=120, bias=True)\n",
      "  (fc2): Linear(in_features=120, out_features=84, bias=True)\n",
      "  (fc3): Linear(in_features=84, out_features=10, bias=True)\n",
      ")>\n",
      "Total no of parameters in Model Theta 4 is:37160 & Test Loss: 0.060006895685195925 %16173791885 %\n",
      "<bound method Module.parameters of ThetaModel(\n",
      "  (conv1): Conv2d(1, 3, kernel_size=(5, 5), stride=(1, 1))\n",
      "  (conv2): Conv2d(3, 13, kernel_size=(5, 5), stride=(1, 1))\n",
      "  (fc1): Linear(in_features=208, out_features=120, bias=True)\n",
      "  (fc2): Linear(in_features=120, out_features=84, bias=True)\n",
      "  (fc3): Linear(in_features=84, out_features=10, bias=True)\n",
      ")>\n",
      "Total no of parameters in Model Theta 5 is:371608 & Test Loss: 0.04603964607715607 %\n",
      "<bound method Module.parameters of ThetaModel(\n",
      "  (conv1): Conv2d(1, 3, kernel_size=(5, 5), stride=(1, 1))\n",
      "  (conv2): Conv2d(3, 13, kernel_size=(5, 5), stride=(1, 1))\n",
      "  (fc1): Linear(in_features=208, out_features=120, bias=True)\n",
      "  (fc2): Linear(in_features=120, out_features=84, bias=True)\n",
      "  (fc3): Linear(in_features=84, out_features=10, bias=True)\n",
      ")>\n",
      "Total no of parameters in Model Theta 6 is:371609 & Test Loss: 0.03440501298904419 % %\n",
      "<bound method Module.parameters of ThetaModel(\n",
      "  (conv1): Conv2d(1, 3, kernel_size=(5, 5), stride=(1, 1))\n",
      "  (conv2): Conv2d(3, 13, kernel_size=(5, 5), stride=(1, 1))\n",
      "  (fc1): Linear(in_features=208, out_features=120, bias=True)\n",
      "  (fc2): Linear(in_features=120, out_features=84, bias=True)\n",
      "  (fc3): Linear(in_features=84, out_features=10, bias=True)\n",
      ")>\n",
      "Total no of parameters in Model Theta 7 is:371607 & Test Loss: 0.024874532747268675 %\n",
      "<bound method Module.parameters of ThetaModel(\n",
      "  (conv1): Conv2d(1, 3, kernel_size=(5, 5), stride=(1, 1))\n",
      "  (conv2): Conv2d(3, 13, kernel_size=(5, 5), stride=(1, 1))\n",
      "  (fc1): Linear(in_features=208, out_features=120, bias=True)\n",
      "  (fc2): Linear(in_features=120, out_features=84, bias=True)\n",
      "  (fc3): Linear(in_features=84, out_features=10, bias=True)\n",
      ")>\n",
      "Total no of parameters in Model Theta 8 is:371602 & Test Loss: 0.017203047549724577 %582303842 %\n",
      "<bound method Module.parameters of ThetaModel(\n",
      "  (conv1): Conv2d(1, 3, kernel_size=(5, 5), stride=(1, 1))\n",
      "  (conv2): Conv2d(3, 13, kernel_size=(5, 5), stride=(1, 1))\n",
      "  (fc1): Linear(in_features=208, out_features=120, bias=True)\n",
      "  (fc2): Linear(in_features=120, out_features=84, bias=True)\n",
      "  (fc3): Linear(in_features=84, out_features=10, bias=True)\n",
      ")>\n",
      "Total no of parameters in Model Theta 9 is:371601 & Test Loss: 0.011167049819231034 %\n",
      "<bound method Module.parameters of ThetaModel(\n",
      "  (conv1): Conv2d(1, 3, kernel_size=(5, 5), stride=(1, 1))\n",
      "  (conv2): Conv2d(3, 13, kernel_size=(5, 5), stride=(1, 1))\n",
      "  (fc1): Linear(in_features=208, out_features=120, bias=True)\n",
      "  (fc2): Linear(in_features=120, out_features=84, bias=True)\n",
      "  (fc3): Linear(in_features=84, out_features=10, bias=True)\n",
      ")>\n",
      "Total no of parameters in Model Theta 10 is:37160 & Test Loss: 0.006667450122535229 %9648511808 %\n",
      "<bound method Module.parameters of ThetaModel(\n",
      "  (conv1): Conv2d(1, 3, kernel_size=(5, 5), stride=(1, 1))\n",
      "  (conv2): Conv2d(3, 13, kernel_size=(5, 5), stride=(1, 1))\n",
      "  (fc1): Linear(in_features=208, out_features=120, bias=True)\n",
      "  (fc2): Linear(in_features=120, out_features=84, bias=True)\n",
      "  (fc3): Linear(in_features=84, out_features=10, bias=True)\n",
      ")>\n",
      "Total no of parameters in Model Theta 11 is:37160& Test Loss: 0.0036868098482489586 %7850368619 %\n",
      "<bound method Module.parameters of ThetaModel(\n",
      "  (conv1): Conv2d(1, 3, kernel_size=(5, 5), stride=(1, 1))\n",
      "  (conv2): Conv2d(3, 13, kernel_size=(5, 5), stride=(1, 1))\n",
      "  (fc1): Linear(in_features=208, out_features=120, bias=True)\n",
      "  (fc2): Linear(in_features=120, out_features=84, bias=True)\n",
      "  (fc3): Linear(in_features=84, out_features=10, bias=True)\n",
      ")>\n",
      "Total no of parameters in Model Theta 12 is:37160 & Test Loss: 0.00201566495615989 %684380273024 %\n",
      "<bound method Module.parameters of ThetaModel(\n",
      "  (conv1): Conv2d(1, 3, kernel_size=(5, 5), stride=(1, 1))\n",
      "  (conv2): Conv2d(3, 13, kernel_size=(5, 5), stride=(1, 1))\n",
      "  (fc1): Linear(in_features=208, out_features=120, bias=True)\n",
      "  (fc2): Linear(in_features=120, out_features=84, bias=True)\n",
      "  (fc3): Linear(in_features=84, out_features=10, bias=True)\n",
      ")>\n",
      "Total no of parameters in Model Theta 13 is:37160 & Test Loss: 0.00118272884497419 % %\n",
      "<bound method Module.parameters of ThetaModel(\n",
      "  (conv1): Conv2d(1, 3, kernel_size=(5, 5), stride=(1, 1))\n",
      "  (conv2): Conv2d(3, 13, kernel_size=(5, 5), stride=(1, 1))\n",
      "  (fc1): Linear(in_features=208, out_features=120, bias=True)\n",
      "  (fc2): Linear(in_features=120, out_features=84, bias=True)\n",
      "  (fc3): Linear(in_features=84, out_features=10, bias=True)\n",
      ")>\n",
      "Total no of parameters in Model Theta 14 is:37160& Test Loss: 0.000788397050416097 %148821303622 %\n",
      "<bound method Module.parameters of ThetaModel(\n",
      "  (conv1): Conv2d(1, 3, kernel_size=(5, 5), stride=(1, 1))\n",
      "  (conv2): Conv2d(3, 13, kernel_size=(5, 5), stride=(1, 1))\n",
      "  (fc1): Linear(in_features=208, out_features=120, bias=True)\n",
      "  (fc2): Linear(in_features=120, out_features=84, bias=True)\n",
      "  (fc3): Linear(in_features=84, out_features=10, bias=True)\n",
      ")>\n",
      "Total no of parameters in Model Theta 15 is:37160 & Test Loss: 0.0006324964612838812 %%\n",
      "<bound method Module.parameters of ThetaModel(\n",
      "  (conv1): Conv2d(1, 3, kernel_size=(5, 5), stride=(1, 1))\n",
      "  (conv2): Conv2d(3, 13, kernel_size=(5, 5), stride=(1, 1))\n",
      "  (fc1): Linear(in_features=208, out_features=120, bias=True)\n",
      "  (fc2): Linear(in_features=120, out_features=84, bias=True)\n",
      "  (fc3): Linear(in_features=84, out_features=10, bias=True)\n",
      ")>\n",
      "Total no of parameters in Model Theta 16 is:37160& Test Loss: 0.0006415490925719496 %49323030065 %\n",
      "<bound method Module.parameters of ThetaModel(\n",
      "  (conv1): Conv2d(1, 3, kernel_size=(5, 5), stride=(1, 1))\n",
      "  (conv2): Conv2d(3, 13, kernel_size=(5, 5), stride=(1, 1))\n",
      "  (fc1): Linear(in_features=208, out_features=120, bias=True)\n",
      "  (fc2): Linear(in_features=120, out_features=84, bias=True)\n",
      "  (fc3): Linear(in_features=84, out_features=10, bias=True)\n",
      ")>\n",
      "Total no of parameters in Model Theta 17 is:37160 & Test Loss: 0.0007797057665418834 %%\n",
      "<bound method Module.parameters of ThetaModel(\n",
      "  (conv1): Conv2d(1, 3, kernel_size=(5, 5), stride=(1, 1))\n",
      "  (conv2): Conv2d(3, 13, kernel_size=(5, 5), stride=(1, 1))\n",
      "  (fc1): Linear(in_features=208, out_features=120, bias=True)\n",
      "  (fc2): Linear(in_features=120, out_features=84, bias=True)\n",
      "  (fc3): Linear(in_features=84, out_features=10, bias=True)\n",
      ")>\n",
      "Total no of parameters in Model Theta 18 is:37160 & Test Loss: 0.00102277978239581 %%\n",
      "<bound method Module.parameters of ThetaModel(\n",
      "  (conv1): Conv2d(1, 3, kernel_size=(5, 5), stride=(1, 1))\n",
      "  (conv2): Conv2d(3, 13, kernel_size=(5, 5), stride=(1, 1))\n",
      "  (fc1): Linear(in_features=208, out_features=120, bias=True)\n",
      "  (fc2): Linear(in_features=120, out_features=84, bias=True)\n",
      "  (fc3): Linear(in_features=84, out_features=10, bias=True)\n",
      ")>\n",
      "Total no of parameters in Model Theta 19 is:37160 & Test Loss: 0.0013368250117171555 %1144386135 %\n",
      "<bound method Module.parameters of ThetaModel(\n",
      "  (conv1): Conv2d(1, 3, kernel_size=(5, 5), stride=(1, 1))\n",
      "  (conv2): Conv2d(3, 13, kernel_size=(5, 5), stride=(1, 1))\n",
      "  (fc1): Linear(in_features=208, out_features=120, bias=True)\n",
      "  (fc2): Linear(in_features=120, out_features=84, bias=True)\n",
      "  (fc3): Linear(in_features=84, out_features=10, bias=True)\n",
      ")>\n",
      "Total no of parameters in Model Theta 20 is:37160 & Test Loss: 0.0016727734425105154 %6927537523 %\n",
      "<bound method Module.parameters of ThetaModel(\n",
      "  (conv1): Conv2d(1, 3, kernel_size=(5, 5), stride=(1, 1))\n",
      "  (conv2): Conv2d(3, 13, kernel_size=(5, 5), stride=(1, 1))\n",
      "  (fc1): Linear(in_features=208, out_features=120, bias=True)\n",
      "  (fc2): Linear(in_features=120, out_features=84, bias=True)\n",
      "  (fc3): Linear(in_features=84, out_features=10, bias=True)\n",
      ")>\n",
      "Total no of parameters in Model Theta 21 is:37160 & Test Loss: 0.0019760684652253987 %34880809 %\n",
      "<bound method Module.parameters of ThetaModel(\n",
      "  (conv1): Conv2d(1, 3, kernel_size=(5, 5), stride=(1, 1))\n",
      "  (conv2): Conv2d(3, 13, kernel_size=(5, 5), stride=(1, 1))\n",
      "  (fc1): Linear(in_features=208, out_features=120, bias=True)\n",
      "  (fc2): Linear(in_features=120, out_features=84, bias=True)\n",
      "  (fc3): Linear(in_features=84, out_features=10, bias=True)\n",
      ")>\n",
      "Total no of parameters in Model Theta 22 is:37160 & Test Loss: 0.0022292395886033775 %\n",
      "<bound method Module.parameters of ThetaModel(\n",
      "  (conv1): Conv2d(1, 3, kernel_size=(5, 5), stride=(1, 1))\n",
      "  (conv2): Conv2d(3, 13, kernel_size=(5, 5), stride=(1, 1))\n",
      "  (fc1): Linear(in_features=208, out_features=120, bias=True)\n",
      "  (fc2): Linear(in_features=120, out_features=84, bias=True)\n",
      "  (fc3): Linear(in_features=84, out_features=10, bias=True)\n",
      ")>\n",
      "Total no of parameters in Model Theta 23 is:37160 & Test Loss: 0.0024540382681414487 %478625377 %\n",
      "<bound method Module.parameters of ThetaModel(\n",
      "  (conv1): Conv2d(1, 3, kernel_size=(5, 5), stride=(1, 1))\n",
      "  (conv2): Conv2d(3, 13, kernel_size=(5, 5), stride=(1, 1))\n",
      "  (fc1): Linear(in_features=208, out_features=120, bias=True)\n",
      "  (fc2): Linear(in_features=120, out_features=84, bias=True)\n",
      "  (fc3): Linear(in_features=84, out_features=10, bias=True)\n",
      ")>\n",
      "Total no of parameters in Model Theta 24 is:37160& Test Loss: 0.002709102292172611 %%\n",
      "<bound method Module.parameters of ThetaModel(\n",
      "  (conv1): Conv2d(1, 3, kernel_size=(5, 5), stride=(1, 1))\n",
      "  (conv2): Conv2d(3, 13, kernel_size=(5, 5), stride=(1, 1))\n",
      "  (fc1): Linear(in_features=208, out_features=120, bias=True)\n",
      "  (fc2): Linear(in_features=120, out_features=84, bias=True)\n",
      "  (fc3): Linear(in_features=84, out_features=10, bias=True)\n",
      ")>\n",
      "Total no of parameters in Model Theta 25 is:37160 & Test Loss: 0.0031194269087165593 %\n",
      "<bound method Module.parameters of ThetaModel(\n",
      "  (conv1): Conv2d(1, 3, kernel_size=(5, 5), stride=(1, 1))\n",
      "  (conv2): Conv2d(3, 13, kernel_size=(5, 5), stride=(1, 1))\n",
      "  (fc1): Linear(in_features=208, out_features=120, bias=True)\n",
      "  (fc2): Linear(in_features=120, out_features=84, bias=True)\n",
      "  (fc3): Linear(in_features=84, out_features=10, bias=True)\n",
      ")>\n",
      "Total no of parameters in Model Theta 26 is:37160 & Test Loss: 0.0038929569967091084 %694417715 %\n",
      "<bound method Module.parameters of ThetaModel(\n",
      "  (conv1): Conv2d(1, 3, kernel_size=(5, 5), stride=(1, 1))\n",
      "  (conv2): Conv2d(3, 13, kernel_size=(5, 5), stride=(1, 1))\n",
      "  (fc1): Linear(in_features=208, out_features=120, bias=True)\n",
      "  (fc2): Linear(in_features=120, out_features=84, bias=True)\n",
      "  (fc3): Linear(in_features=84, out_features=10, bias=True)\n",
      ")>\n",
      "Total no of parameters in Model Theta 27 is:37160 & Test Loss: 0.0054166203483939175 %628150304 %\n",
      "<bound method Module.parameters of ThetaModel(\n",
      "  (conv1): Conv2d(1, 3, kernel_size=(5, 5), stride=(1, 1))\n",
      "  (conv2): Conv2d(3, 13, kernel_size=(5, 5), stride=(1, 1))\n",
      "  (fc1): Linear(in_features=208, out_features=120, bias=True)\n",
      "  (fc2): Linear(in_features=120, out_features=84, bias=True)\n",
      "  (fc3): Linear(in_features=84, out_features=10, bias=True)\n",
      ")>\n",
      "Total no of parameters in Model Theta 28 is:37160 & Test Loss: 0.00836514919102192 %12942719459 %\n",
      "<bound method Module.parameters of ThetaModel(\n",
      "  (conv1): Conv2d(1, 3, kernel_size=(5, 5), stride=(1, 1))\n",
      "  (conv2): Conv2d(3, 13, kernel_size=(5, 5), stride=(1, 1))\n",
      "  (fc1): Linear(in_features=208, out_features=120, bias=True)\n",
      "  (fc2): Linear(in_features=120, out_features=84, bias=True)\n",
      "  (fc3): Linear(in_features=84, out_features=10, bias=True)\n",
      ")>\n",
      "Total no of parameters in Model Theta 29 is:37160 & Test Loss: 0.013392492800951004 %84128642084 %\n",
      "<bound method Module.parameters of ThetaModel(\n",
      "  (conv1): Conv2d(1, 3, kernel_size=(5, 5), stride=(1, 1))\n",
      "  (conv2): Conv2d(3, 13, kernel_size=(5, 5), stride=(1, 1))\n",
      "  (fc1): Linear(in_features=208, out_features=120, bias=True)\n",
      "  (fc2): Linear(in_features=120, out_features=84, bias=True)\n",
      "  (fc3): Linear(in_features=84, out_features=10, bias=True)\n",
      ")>\n",
      "Total no of parameters in Model Theta 30 is:37160 & Test Loss: 0.020682715606689453 %96316639585 %\n",
      "<bound method Module.parameters of ThetaModel(\n",
      "  (conv1): Conv2d(1, 3, kernel_size=(5, 5), stride=(1, 1))\n",
      "  (conv2): Conv2d(3, 13, kernel_size=(5, 5), stride=(1, 1))\n",
      "  (fc1): Linear(in_features=208, out_features=120, bias=True)\n",
      "  (fc2): Linear(in_features=120, out_features=84, bias=True)\n",
      "  (fc3): Linear(in_features=84, out_features=10, bias=True)\n",
      ")>\n",
      "Accuracy of the network on the test images: 20.06 & Test Loss: 0.030047534942626953 %98383426665 %\r"
     ]
    }
   ],
   "source": [
    "modelsTrainEpochArr = []\n",
    "modelsTrainLossArr = []\n",
    "modelsTrainAccArr = []\n",
    "modelsTestLossArr = []\n",
    "modelsTestAccArr = []\n",
    "\n",
    "for i in range (len(thetaArr)):\n",
    "    #torch.manual_seed(1)\n",
    "    \n",
    "    j=copy.deepcopy(i) \n",
    "    theta = (1-alpha[i])*batch1_param + alpha[i]*batch2_param\n",
    "    j = ThetaModel()\n",
    "    torch.nn.utils.vector_to_parameters(theta,j.parameters())\n",
    "    loss_func = nn.CrossEntropyLoss()\n",
    "    optimizer = torch.optim.Adam(j.parameters(), lr=0.0004, weight_decay = 1e-4)\n",
    "    #optimizer = torch.optim.SGD(j.parameters(), lr=0.001) \n",
    "\n",
    "    a=[]\n",
    "    for k in j.parameters():\n",
    "        a.append(torch.numel(k))\n",
    "    print(f'Total no of parameters in Model Theta {i} is:{np.sum(a)}')\n",
    "\n",
    "    print(j.parameters)\n",
    "\n",
    "    #max_epochs = 1\n",
    "    train_batch_size = 64\n",
    "    T_train_acc,T_train_losses = testFunction(j,loss_func,train_loader,train_batch_size)\n",
    "    #T_train_acc ,T_train_losses = testFunction(j,loss_func,train_batch_size)\n",
    "    \n",
    "    \n",
    "    #modelsTrainEpochArr.append(T_train_epoch)\n",
    "    modelsTrainLossArr.append(T_train_losses)\n",
    "    modelsTrainAccArr.append(T_train_acc)\n",
    "    \n",
    "    test_batch_size=100\n",
    "    T_acc, T_testLoss = testFunction(j,loss_func,test_loader,test_batch_size)\n",
    "    modelsTestAccArr.append(T_acc)\n",
    "    modelsTestLossArr.append(T_testLoss)\n",
    "\n",
    "\n"
   ]
  },
  {
   "cell_type": "code",
   "execution_count": 225,
   "metadata": {},
   "outputs": [
    {
     "data": {
      "text/plain": [
       "31"
      ]
     },
     "execution_count": 225,
     "metadata": {},
     "output_type": "execute_result"
    }
   ],
   "source": [
    "len(modelsTrainAccArr)"
   ]
  },
  {
   "cell_type": "code",
   "execution_count": 226,
   "metadata": {},
   "outputs": [],
   "source": [
    "def meanScore(dataArr):\n",
    "    meanModelData = []\n",
    "    for i in range (len(dataArr)):\n",
    "        meanScore = np.mean(dataArr[i])\n",
    "        meanModelData.append(meanScore)\n",
    "    return meanModelData\n",
    "\n",
    "def minScore(dataArr):\n",
    "    minModelScore = []\n",
    "    for i in range (len(dataArr)):\n",
    "        minScore = np.mean(dataArr[i])\n",
    "        minModelScore.append(minScore)\n",
    "    return minModelScore\n",
    "\n",
    "def maxScore(dataArr):\n",
    "    maxModelScore = []\n",
    "    for i in range (len(dataArr)):\n",
    "        maxScore = np.max(dataArr[i])\n",
    "        maxModelScore.append(maxScore)\n",
    "    return maxModelScore\n"
   ]
  },
  {
   "cell_type": "code",
   "execution_count": 227,
   "metadata": {},
   "outputs": [
    {
     "data": {
      "image/png": "[encoded data removed]",
      "text/plain": [
       "<Figure size 432x288 with 2 Axes>"
      ]
     },
     "metadata": {
      "needs_background": "light"
     },
     "output_type": "display_data"
    }
   ],
   "source": [
    "fig,ax=plt.subplots()\n",
    "ax.plot(alpha,minScore(modelsTrainLossArr),color=\"Blue\",linestyle='dashed', marker=\"o\")\n",
    "ax.plot(alpha,modelsTestLossArr,color=\"Blue\", marker=\"v\")\n",
    "ax.legend(['Train Loss','Test Loss'],loc=\"center left\")\n",
    "ax.set_xlabel(\"Alpha\",color=\"Green\")\n",
    "ax.set_ylabel(\"CrossEntropy Loss\",color = \"blue\")\n",
    "\n",
    "\n",
    "ax2=ax.twinx()\n",
    "ax2.plot(alpha,meanScore(modelsTrainAccArr),color=\"red\",linestyle='dashed', marker=\"o\")\n",
    "ax2.plot(alpha,modelsTestAccArr,color=\"red\", marker=\"v\")\n",
    "ax2.set_xlabel(\"Alpha\",color=\"Green\")\n",
    "ax2.set_ylabel(\"Accuracy\",color = \"red\")\n",
    "ax2.legend(['Train Acc','Test Acc'],loc=\"upper right\")\n",
    "\n",
    "plt.show()\n",
    "fig.savefig('D:/Clemson/COURSE/SEM-2/CPSC-8430 Deep Learning - 001/Homework/CPSC-8430-Deep-Learning-001/HW1/Diff Batch Graph HW1_3.1-2.jpg',\n",
    "            format='jpeg',\n",
    "            dpi=100,\n",
    "            bbox_inches='tight')"
   ]
  },
  {
   "cell_type": "code",
   "execution_count": 228,
   "metadata": {},
   "outputs": [
    {
     "name": "stdout",
     "output_type": "stream",
     "text": [
      "Total no of parameters in Model with batch_size=600 is:37160\n"
     ]
    }
   ],
   "source": [
    "# Training Model with batch size=600 and Lr 1e-3\n",
    "torch.manual_seed(1)\n",
    "\n",
    "learning_rate = 1e-3\n",
    "mLr1 = M1()\n",
    "loss_func = nn.CrossEntropyLoss()\n",
    "optimizer = torch.optim.Adam(mLr1.parameters(), lr=learning_rate) \n",
    "\n",
    "a=[]\n",
    "for i in mLr1.parameters():\n",
    "    a.append(torch.numel(i))\n",
    "print(f'Total no of parameters in Model with batch_size={600} is:{np.sum(a)}')"
   ]
  },
  {
   "cell_type": "code",
   "execution_count": 229,
   "metadata": {},
   "outputs": [
    {
     "name": "stdout",
     "output_type": "stream",
     "text": [
      "strated\n",
      "Max Epoch Reached[15/15], Step [60/100], Loss: 0.0371\n"
     ]
    }
   ],
   "source": [
    "max_epochs = 15\n",
    "train_batch_size = 600\n",
    "L1_train_epoch,L1_train_losses,L1_train_acc = trainFunc(mLr1,max_epochs,train_batch_size)"
   ]
  },
  {
   "cell_type": "code",
   "execution_count": 230,
   "metadata": {},
   "outputs": [
    {
     "name": "stdout",
     "output_type": "stream",
     "text": [
      "tensor([ 0.1359, -0.0415,  0.0009,  ...,  0.0156,  0.0185, -0.0429],\n",
      "       grad_fn=<CatBackward0>) \n",
      "len: 37160\n"
     ]
    }
   ],
   "source": [
    "Lr1_param = torch.nn.utils.parameters_to_vector(mLr1.parameters())\n",
    "print(Lr1_param,'\\nlen:',len(Lr1_param))"
   ]
  },
  {
   "cell_type": "code",
   "execution_count": 231,
   "metadata": {},
   "outputs": [
    {
     "name": "stdout",
     "output_type": "stream",
     "text": [
      "Total no of parameters in Model with batch_size=600 is:37160\n"
     ]
    }
   ],
   "source": [
    "# Training Model with batch size=600 and Lr 1e-2\n",
    "torch.manual_seed(1)\n",
    "learning_rate = 1e-2\n",
    "mLr2 = M1()\n",
    "loss_func = nn.CrossEntropyLoss()\n",
    "optimizer = torch.optim.Adam(mLr2.parameters(), lr=learning_rate) \n",
    "\n",
    "a=[]\n",
    "for i in mLr2.parameters():\n",
    "    a.append(torch.numel(i))\n",
    "print(f'Total no of parameters in Model with batch_size={600} is:{np.sum(a)}')"
   ]
  },
  {
   "cell_type": "code",
   "execution_count": 232,
   "metadata": {},
   "outputs": [
    {
     "name": "stdout",
     "output_type": "stream",
     "text": [
      "strated\n",
      "Max Epoch Reached[15/15], Step [60/100], Loss: 0.0235\n"
     ]
    }
   ],
   "source": [
    "max_epochs = 15\n",
    "train_batch_size = 600\n",
    "L2_train_epoch,L2_train_losses,L2_train_acc = trainFunc(mLr2,max_epochs,train_batch_size)"
   ]
  },
  {
   "cell_type": "code",
   "execution_count": 233,
   "metadata": {},
   "outputs": [
    {
     "data": {
      "image/png": "[encoded data removed]",
      "text/plain": [
       "<Figure size 1440x576 with 1 Axes>"
      ]
     },
     "metadata": {
      "needs_background": "light"
     },
     "output_type": "display_data"
    }
   ],
   "source": [
    "#Plotting Loss plot for both Batch 1 and Batch 2 models\n",
    "plt.figure(figsize=(20, 8))\n",
    "plt.plot(L1_train_epoch,L1_train_losses,color=\"blue\")\n",
    "plt.plot(L2_train_epoch,L2_train_losses,color=\"orange\")\n",
    "plt.title('Lr1 & Lr2 Loss VS Epoch',color=\"green\")\n",
    "plt.legend(['LR1:1e-3 1','LR2:1e-2'])\n",
    "plt.xlabel ('Epoch')\n",
    "plt.ylabel ('loss')\n",
    "plt.show()"
   ]
  },
  {
   "cell_type": "code",
   "execution_count": 234,
   "metadata": {},
   "outputs": [
    {
     "name": "stdout",
     "output_type": "stream",
     "text": [
      "tensor([ 0.1326, -0.0430, -0.0602,  ...,  0.0240,  0.1268, -0.0453],\n",
      "       grad_fn=<CatBackward0>) \n",
      "len: 37160\n"
     ]
    }
   ],
   "source": [
    "Lr2_param = torch.nn.utils.parameters_to_vector(mLr2.parameters())\n",
    "print(Lr2_param,'\\nlen:',len(Lr2_param))"
   ]
  },
  {
   "cell_type": "code",
   "execution_count": 235,
   "metadata": {},
   "outputs": [
    {
     "name": "stdout",
     "output_type": "stream",
     "text": [
      "Total no of parameters in Model Theta 0 is:37160\n",
      "<bound method Module.parameters of ThetaModel(\n",
      "  (conv1): Conv2d(1, 3, kernel_size=(5, 5), stride=(1, 1))\n",
      "  (conv2): Conv2d(3, 13, kernel_size=(5, 5), stride=(1, 1))\n",
      "  (fc1): Linear(in_features=208, out_features=120, bias=True)\n",
      "  (fc2): Linear(in_features=120, out_features=84, bias=True)\n",
      "  (fc3): Linear(in_features=84, out_features=10, bias=True)\n",
      ")>\n",
      "strated\n",
      "Max Epoch Reached[10/10], Step [60/600], Loss: 4.353805\n",
      "Max Epoch Reached[10/10], Step [120/600], Loss: 2.0842\n",
      "Max Epoch Reached[10/10], Step [180/600], Loss: 0.8512\n",
      "Max Epoch Reached[10/10], Step [240/600], Loss: 1.2197\n",
      "Max Epoch Reached[10/10], Step [300/600], Loss: 1.9980\n",
      "Max Epoch Reached[10/10], Step [360/600], Loss: 3.4967\n",
      "Max Epoch Reached[10/10], Step [420/600], Loss: 3.1043\n",
      "Max Epoch Reached[10/10], Step [480/600], Loss: 1.5395\n",
      "Max Epoch Reached[10/10], Step [540/600], Loss: 2.4832\n",
      "Max Epoch Reached[10/10], Step [600/600], Loss: 3.7816\n"
     ]
    },
    {
     "ename": "TypeError",
     "evalue": "testFunction() missing 1 required positional argument: 'test_batch_size'",
     "output_type": "error",
     "traceback": [
      "\u001b[1;31m---------------------------------------------------------------------------\u001b[0m",
      "\u001b[1;31mTypeError\u001b[0m                                 Traceback (most recent call last)",
      "\u001b[1;32m~\\AppData\\Local\\Temp/ipykernel_33844/1697998519.py\u001b[0m in \u001b[0;36m<module>\u001b[1;34m\u001b[0m\n\u001b[0;32m     31\u001b[0m \u001b[1;33m\u001b[0m\u001b[0m\n\u001b[0;32m     32\u001b[0m     \u001b[0mtest_batch_size\u001b[0m\u001b[1;33m=\u001b[0m\u001b[1;36m100\u001b[0m\u001b[1;33m\u001b[0m\u001b[1;33m\u001b[0m\u001b[0m\n\u001b[1;32m---> 33\u001b[1;33m     \u001b[0mT2_acc\u001b[0m\u001b[1;33m,\u001b[0m\u001b[0mT2_testLoss\u001b[0m \u001b[1;33m=\u001b[0m \u001b[0mtestFunction\u001b[0m\u001b[1;33m(\u001b[0m\u001b[0mj\u001b[0m\u001b[1;33m,\u001b[0m\u001b[0mloss_func\u001b[0m\u001b[1;33m,\u001b[0m\u001b[0mtest_batch_size\u001b[0m\u001b[1;33m)\u001b[0m\u001b[1;33m\u001b[0m\u001b[1;33m\u001b[0m\u001b[0m\n\u001b[0m\u001b[0;32m     34\u001b[0m     \u001b[0mmodelsTestAccArr2\u001b[0m\u001b[1;33m.\u001b[0m\u001b[0mappend\u001b[0m\u001b[1;33m(\u001b[0m\u001b[0mT2_acc\u001b[0m\u001b[1;33m)\u001b[0m\u001b[1;33m\u001b[0m\u001b[1;33m\u001b[0m\u001b[0m\n\u001b[0;32m     35\u001b[0m     \u001b[0mmodelsTestLossArr2\u001b[0m\u001b[1;33m.\u001b[0m\u001b[0mappend\u001b[0m\u001b[1;33m(\u001b[0m\u001b[0mT2_testLoss\u001b[0m\u001b[1;33m)\u001b[0m\u001b[1;33m\u001b[0m\u001b[1;33m\u001b[0m\u001b[0m\n",
      "\u001b[1;31mTypeError\u001b[0m: testFunction() missing 1 required positional argument: 'test_batch_size'"
     ]
    }
   ],
   "source": [
    "modelsTrainEpochArr2 = []\n",
    "modelsTrainLossArr2 = []\n",
    "modelsTrainAccArr2 = []\n",
    "modelsTestLossArr2 = []\n",
    "modelsTestAccArr2 = []\n",
    "\n",
    "for i in range (len(thetaArr)):\n",
    "    torch.manual_seed(1)\n",
    "    j=copy.deepcopy(i) \n",
    "    theta = (1-alpha[i])*Lr1_param + alpha[i]*Lr2_param\n",
    "    j = ThetaModel()\n",
    "    torch.nn.utils.vector_to_parameters(theta,j.parameters())\n",
    "    loss_func = nn.CrossEntropyLoss()\n",
    "    optimizer = torch.optim.Adam(j.parameters(), lr=1e-3) #,weight_decay = 0.025)\n",
    "\n",
    "    a=[]\n",
    "    for k in j.parameters():\n",
    "        a.append(torch.numel(k))\n",
    "    print(f'Total no of parameters in Model Theta {i} is:{np.sum(a)}')\n",
    "\n",
    "    print(j.parameters)\n",
    "\n",
    "    max_epochs = 10\n",
    "    train_batch_size = 100\n",
    "    T2_train_epoch,T2_train_losses,T2_train_acc = trainFunc(j,max_epochs,train_batch_size)\n",
    "    \n",
    "    \n",
    "    modelsTrainEpochArr2.append(T2_train_epoch)\n",
    "    modelsTrainLossArr2.append(T2_train_losses)\n",
    "    modelsTrainAccArr2.append(T2_train_acc)\n",
    "    \n",
    "    test_batch_size=100\n",
    "    T2_acc,T2_testLoss = testFunction(j,loss_func,test_batch_size)\n",
    "    modelsTestAccArr2.append(T2_acc)\n",
    "    modelsTestLossArr2.append(T2_testLoss)"
   ]
  },
  {
   "cell_type": "code",
   "execution_count": null,
   "metadata": {},
   "outputs": [
    {
     "data": {
      "text/plain": [
       "[89.62884194614863,\n",
       " 61.79887772740043,\n",
       " 42.08576773314613,\n",
       " 27.694102717806896,\n",
       " 17.76721482405187,\n",
       " 11.014632973575795,\n",
       " 6.572698178871884,\n",
       " 3.7090218148498875,\n",
       " 1.9631822247291373,\n",
       " 1.0177112113306843,\n",
       " 0.5655763817184294,\n",
       " 0.28391484476396966,\n",
       " 0.1413017183856185,\n",
       " 0.06943830830068327,\n",
       " 0.04525784298930861,\n",
       " 0.039741171537641395,\n",
       " 0.03305051712005661,\n",
       " 0.02092504599868395,\n",
       " 0.012272847957333095,\n",
       " 0.0077360808638877645,\n",
       " 0.005641960839310741,\n",
       " 0.004287244827290162,\n",
       " 0.003704088951099872,\n",
       " 0.00332471203706506,\n",
       " 0.003609596868031848,\n",
       " 0.00465361259817729,\n",
       " 0.006279159568208365,\n",
       " 0.010022570470187434,\n",
       " 0.014064729865678182,\n",
       " 0.02115848555913043,\n",
       " 0.030557849257920502]"
      ]
     },
     "execution_count": 34,
     "metadata": {},
     "output_type": "execute_result"
    }
   ],
   "source": [
    "#minScore(modelsTrainLossArr2)"
   ]
  },
  {
   "cell_type": "code",
   "execution_count": null,
   "metadata": {},
   "outputs": [
    {
     "data": {
      "text/plain": [
       "[81.44456822040547,\n",
       " 82.13261913487203,\n",
       " 82.77886652101176,\n",
       " 83.61030656132422,\n",
       " 84.40509838761669,\n",
       " 85.36985557575807,\n",
       " 86.57398280195477,\n",
       " 88.14167627096502,\n",
       " 89.95553115098623,\n",
       " 91.53130063083748,\n",
       " 92.98458981262884,\n",
       " 94.67069750008962,\n",
       " 96.18584909313564,\n",
       " 97.54180568766613,\n",
       " 98.41494751250983,\n",
       " 98.71199005081381,\n",
       " 98.92528109170576,\n",
       " 99.30129781218571,\n",
       " 99.58960300838024,\n",
       " 99.75046654276956,\n",
       " 99.82538983347176,\n",
       " 99.86365214636047,\n",
       " 99.89509540615995,\n",
       " 99.89469085451289,\n",
       " 99.89073192278288,\n",
       " 99.83679538741447,\n",
       " 99.8037411504239,\n",
       " 99.71720785736764,\n",
       " 99.66369181920395,\n",
       " 99.55447537933436,\n",
       " 99.47716564922071]"
      ]
     },
     "execution_count": 35,
     "metadata": {},
     "output_type": "execute_result"
    }
   ],
   "source": [
    "#meanScore(modelsTrainAccArr2)"
   ]
  },
  {
   "cell_type": "code",
   "execution_count": null,
   "metadata": {},
   "outputs": [
    {
     "data": {
      "image/png": "[encoded data removed]",
      "text/plain": [
       "<Figure size 432x288 with 2 Axes>"
      ]
     },
     "metadata": {
      "needs_background": "light"
     },
     "output_type": "display_data"
    }
   ],
   "source": [
    "fig,ax=plt.subplots()\n",
    "ax.plot(alpha,minScore(modelsTrainLossArr2),color=\"Blue\",linestyle='dashed', marker=\"o\")\n",
    "ax.plot(alpha,modelsTestLossArr2,color=\"Blue\", marker=\"v\")\n",
    "ax.legend(['Train Loss','Test Loss'],loc=\"center left\")\n",
    "ax.set_xlabel(\"Alpha\",color=\"Green\")\n",
    "ax.set_ylabel(\"CrossEntropy Loss\",color = \"blue\")\n",
    "ax.set_title(\"learning rate 1e-3 vs. 1e-2\",color = \"green\")\n",
    "\n",
    "\n",
    "ax2=ax.twinx()\n",
    "ax2.plot(alpha,maxScore(modelsTrainAccArr2),color=\"red\",linestyle='dashed', marker=\"o\")\n",
    "ax2.plot(alpha,modelsTestAccArr2,color=\"red\", marker=\"v\")\n",
    "ax2.set_xlabel(\"Alpha\",color=\"Green\")\n",
    "ax2.set_ylabel(\"Accuracy\",color = \"red\")\n",
    "ax2.legend(['Train Acc','Test Acc'],loc=\"upper right\")\n",
    "\n",
    "plt.show()\n",
    "fig.savefig('D:/Clemson/COURSE/SEM-2/CPSC-8430 Deep Learning - 001/Homework/CPSC-8430-Deep-Learning-001/HW1/Diff Batch Graph HW1_3.1Lr.jpg',\n",
    "            format='jpeg',\n",
    "            dpi=100,\n",
    "            bbox_inches='tight')"
   ]
  },
  {
   "cell_type": "code",
   "execution_count": null,
   "metadata": {},
   "outputs": [],
   "source": []
  }
 ],
 "metadata": {
  "interpreter": {
   "hash": "d1d86b2f3ed665d691ce24c615a98bbc398f66743afc4d4e970e6f8b36fab2b9"
  },
  "kernelspec": {
   "display_name": "Python 3.9.7 ('CPSC-8430-DeepLearning')",
   "language": "python",
   "name": "python3"
  },
  "language_info": {
   "codemirror_mode": {
    "name": "ipython",
    "version": 3
   },
   "file_extension": ".py",
   "mimetype": "text/x-python",
   "name": "python",
   "nbconvert_exporter": "python",
   "pygments_lexer": "ipython3",
   "version": "3.9.7"
  },
  "orig_nbformat": 4
 },
 "nbformat": 4,
 "nbformat_minor": 2
}
